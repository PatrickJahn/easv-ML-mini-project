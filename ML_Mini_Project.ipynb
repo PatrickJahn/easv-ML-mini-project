{
  "nbformat": 4,
  "nbformat_minor": 0,
  "metadata": {
    "colab": {
      "provenance": [],
      "collapsed_sections": [
        "MSQRy_bsk5Ke",
        "r02VG0cCJTnW",
        "bft_0LHgJeUX",
        "jnukMbLQROrP",
        "gvDpNWpUCPfl"
      ],
      "toc_visible": true,
      "include_colab_link": true
    },
    "kernelspec": {
      "name": "python3",
      "display_name": "Python 3"
    },
    "language_info": {
      "name": "python"
    }
  },
  "cells": [
    {
      "cell_type": "markdown",
      "metadata": {
        "id": "view-in-github",
        "colab_type": "text"
      },
      "source": [
        "<a href=\"https://colab.research.google.com/github/PatrickJahn/easv-ML-mini-project/blob/main/ML_Mini_Project.ipynb\" target=\"_parent\"><img src=\"https://colab.research.google.com/assets/colab-badge.svg\" alt=\"Open In Colab\"/></a>"
      ]
    },
    {
      "cell_type": "markdown",
      "source": [
        "## ML Mini Project\n"
      ],
      "metadata": {
        "id": "cmrjEb7dHiHG"
      }
    },
    {
      "cell_type": "markdown",
      "source": [
        "The mini project can be a classification or regression task, and it should\n",
        "include\n",
        "\n",
        "1.   Loading and preparation of data\n",
        "2.   Selection, training and fine-tuning of a model\n",
        "3.   Evaluation of the model\n",
        "\n",
        "You can choose between the following model architectures:\n",
        "\n",
        "1.   Multilayer Perceptron\n",
        "2.   Convolutional Neural Network\n",
        "3.   Random Forest\n",
        "4.   Gradient Boosted Decision Trees (incl. Histogram-Based Gradient Boosting)"
      ],
      "metadata": {
        "id": "S0PZjxqBHwyV"
      }
    },
    {
      "cell_type": "markdown",
      "source": [
        "#Spam Email Classification - Random Forest"
      ],
      "metadata": {
        "id": "sE5kS1VeQHDy"
      }
    },
    {
      "cell_type": "markdown",
      "source": [
        "## Import"
      ],
      "metadata": {
        "id": "MSQRy_bsk5Ke"
      }
    },
    {
      "cell_type": "code",
<<<<<<< HEAD
      "execution_count": 164,
      "metadata": {
        "id": "JWJfWE-MHhhU"
      },
      "outputs": [],
      "source": [
        "# Import necessary libraries\n",
        "import pandas as pd\n",
        "from sklearn.model_selection import train_test_split\n",
        "from sklearn.preprocessing import StandardScaler\n",
        "\n",
        "# Load the dataset\n",
        "url = \"https://archive.ics.uci.edu/ml/machine-learning-databases/spambase/spambase.data\"\n",
        "column_names = [f'feature_{i}' for i in range(57)] + ['is_spam']\n",
        "df = pd.read_csv(url, names=column_names)\n",
        "\n",
        "# Preprocess the data\n",
        "# Split the data into features and target\n",
        "X = df.drop('is_spam', axis=1)\n",
        "y = df['is_spam']\n",
        "\n",
        "# Splitting the dataset into the Training set and Test set\n",
        "X_train, X_test, y_train, y_test = train_test_split(X, y, test_size=0.3, random_state=42)\n",
        "\n",
        "# Feature Scaling\n",
        "scaler = StandardScaler()\n",
        "X_train = scaler.fit_transform(X_train)\n",
        "X_test = scaler.transform(X_test)\n"
      ]
=======
      "source": [
        "import pandas as pd\n",
        "from sklearn.model_selection import train_test_split, GridSearchCV\n",
        "from sklearn.preprocessing import StandardScaler\n",
        "from sklearn.ensemble import RandomForestClassifier\n",
        "from sklearn.metrics import classification_report, accuracy_score"
      ],
      "metadata": {
        "id": "d66TYTHok7UN"
      },
      "execution_count": 21,
      "outputs": []
    },
    {
      "cell_type": "markdown",
      "source": [
        "## Loading and preparation of data\n"
      ],
      "metadata": {
        "id": "r02VG0cCJTnW"
      }
    },
    {
      "cell_type": "code",
      "source": [
        "# Load the data\n",
        "url = \"https://archive.ics.uci.edu/ml/machine-learning-databases/spambase/spambase.data\"\n",
        "column_names = [f\"feature_{i}\" for i in range(57)] + [\"is_spam\"]\n",
        "data = pd.read_csv(url, names=column_names)\n",
        "\n",
        "# Prepare the data\n",
        "X = data.drop(\"is_spam\", axis=1)\n",
        "y = data[\"is_spam\"]\n",
        "X_train, X_test, y_train, y_test = train_test_split(X, y, test_size=0.3, random_state=42)\n",
        "\n"
      ],
      "metadata": {
        "id": "JWJfWE-MHhhU"
      },
      "execution_count": 22,
      "outputs": []
>>>>>>> 3362e4c59dfc35850af9ca3308309545264c65ec
    },
    {
      "cell_type": "markdown",
      "source": [
        "## Training and fine-tuning of a model"
      ],
      "metadata": {
        "id": "bft_0LHgJeUX"
      }
    },
    {
      "cell_type": "code",
<<<<<<< HEAD
      "execution_count": 165,
      "metadata": {
        "colab": {
          "base_uri": "https://localhost:8080/",
          "height": 382
        },
        "id": "viPcRZWRJw7N",
        "outputId": "cf975c7b-fb82-4c56-de22-3321ae7f90bd"
      },
      "outputs": [
        {
          "name": "stdout",
          "output_type": "stream",
          "text": [
            "Fitting 3 folds for each of 432 candidates, totalling 1296 fits\n"
          ]
        },
        {
          "name": "stderr",
          "output_type": "stream",
          "text": [
            "837939.25s - pydevd: Sending message related to process being replaced timed-out after 5 seconds\n",
            "837939.35s - pydevd: Sending message related to process being replaced timed-out after 5 seconds\n",
            "837939.35s - pydevd: Sending message related to process being replaced timed-out after 5 seconds\n",
            "837939.35s - pydevd: Sending message related to process being replaced timed-out after 5 seconds\n",
            "837939.37s - pydevd: Sending message related to process being replaced timed-out after 5 seconds\n",
            "837939.41s - pydevd: Sending message related to process being replaced timed-out after 5 seconds\n",
            "837939.41s - pydevd: Sending message related to process being replaced timed-out after 5 seconds\n",
            "837939.41s - pydevd: Sending message related to process being replaced timed-out after 5 seconds\n",
            "837939.42s - pydevd: Sending message related to process being replaced timed-out after 5 seconds\n",
            "837939.46s - pydevd: Sending message related to process being replaced timed-out after 5 seconds\n",
            "837939.47s - pydevd: Sending message related to process being replaced timed-out after 5 seconds\n"
          ]
        },
        {
          "name": "stdout",
          "output_type": "stream",
          "text": [
            "[CV] END bootstrap=True, max_depth=10, max_features=auto, min_samples_leaf=1, min_samples_split=2, n_estimators=300; total time=   0.0s\n",
            "[CV] END bootstrap=True, max_depth=10, max_features=auto, min_samples_leaf=1, min_samples_split=2, n_estimators=100; total time=   0.0s\n",
            "[CV] END bootstrap=True, max_depth=10, max_features=auto, min_samples_leaf=1, min_samples_split=2, n_estimators=200; total time=   0.0s\n",
            "[CV] END bootstrap=True, max_depth=10, max_features=auto, min_samples_leaf=1, min_samples_split=2, n_estimators=200; total time=   0.0s\n",
            "[CV] END bootstrap=True, max_depth=10, max_features=auto, min_samples_leaf=1, min_samples_split=2, n_estimators=100; total time=   0.0s\n",
            "[CV] END bootstrap=True, max_depth=10, max_features=auto, min_samples_leaf=1, min_samples_split=2, n_estimators=100; total time=   0.0s\n",
            "[CV] END bootstrap=True, max_depth=10, max_features=auto, min_samples_leaf=1, min_samples_split=5, n_estimators=100; total time=   0.0s\n",
            "[CV] END bootstrap=True, max_depth=10, max_features=auto, min_samples_leaf=1, min_samples_split=2, n_estimators=200; total time=   0.0s\n",
            "[CV] END bootstrap=True, max_depth=10, max_features=auto, min_samples_leaf=1, min_samples_split=2, n_estimators=300; total time=   0.0s\n",
            "[CV] END bootstrap=True, max_depth=10, max_features=auto, min_samples_leaf=1, min_samples_split=2, n_estimators=300; total time=   0.0s\n",
            "[CV] END bootstrap=True, max_depth=10, max_features=auto, min_samples_leaf=1, min_samples_split=5, n_estimators=200; total time=   0.0s\n",
            "[CV] END bootstrap=True, max_depth=10, max_features=auto, min_samples_leaf=1, min_samples_split=5, n_estimators=100; total time=   0.0s\n",
            "[CV] END bootstrap=True, max_depth=10, max_features=auto, min_samples_leaf=1, min_samples_split=5, n_estimators=200; total time=   0.0s\n",
            "[CV] END bootstrap=True, max_depth=10, max_features=auto, min_samples_leaf=1, min_samples_split=5, n_estimators=100; total time=   0.0s\n",
            "[CV] END bootstrap=True, max_depth=10, max_features=auto, min_samples_leaf=1, min_samples_split=5, n_estimators=200; total time=   0.0s\n",
            "[CV] END bootstrap=True, max_depth=10, max_features=auto, min_samples_leaf=1, min_samples_split=5, n_estimators=300; total time=   0.0s\n",
            "[CV] END bootstrap=True, max_depth=10, max_features=auto, min_samples_leaf=1, min_samples_split=5, n_estimators=300; total time=   0.0s\n",
            "[CV] END bootstrap=True, max_depth=10, max_features=auto, min_samples_leaf=1, min_samples_split=5, n_estimators=300; total time=   0.0s\n",
            "[CV] END bootstrap=True, max_depth=10, max_features=auto, min_samples_leaf=1, min_samples_split=10, n_estimators=100; total time=   0.0s\n",
            "[CV] END bootstrap=True, max_depth=10, max_features=auto, min_samples_leaf=1, min_samples_split=10, n_estimators=100; total time=   0.0s\n",
            "[CV] END bootstrap=True, max_depth=10, max_features=auto, min_samples_leaf=1, min_samples_split=10, n_estimators=200; total time=   0.0s\n",
            "[CV] END bootstrap=True, max_depth=10, max_features=auto, min_samples_leaf=1, min_samples_split=10, n_estimators=200; total time=   0.0s\n",
            "[CV] END bootstrap=True, max_depth=10, max_features=auto, min_samples_leaf=1, min_samples_split=10, n_estimators=100; total time=   0.0s\n",
            "[CV] END bootstrap=True, max_depth=10, max_features=auto, min_samples_leaf=1, min_samples_split=10, n_estimators=300; total time=   0.0s\n",
            "[CV] END bootstrap=True, max_depth=10, max_features=auto, min_samples_leaf=1, min_samples_split=10, n_estimators=300; total time=   0.0s\n",
            "[CV] END bootstrap=True, max_depth=10, max_features=auto, min_samples_leaf=1, min_samples_split=10, n_estimators=200; total time=   0.0s\n",
            "[CV] END bootstrap=True, max_depth=10, max_features=auto, min_samples_leaf=1, min_samples_split=10, n_estimators=300; total time=   0.0s\n",
            "[CV] END bootstrap=True, max_depth=10, max_features=auto, min_samples_leaf=2, min_samples_split=2, n_estimators=100; total time=   0.0s\n",
            "[CV] END bootstrap=True, max_depth=10, max_features=auto, min_samples_leaf=2, min_samples_split=2, n_estimators=100; total time=   0.0s\n",
            "[CV] END bootstrap=True, max_depth=10, max_features=auto, min_samples_leaf=2, min_samples_split=2, n_estimators=100; total time=   0.0s\n",
            "[CV] END bootstrap=True, max_depth=10, max_features=auto, min_samples_leaf=2, min_samples_split=2, n_estimators=200; total time=   0.0s\n",
            "[CV] END bootstrap=True, max_depth=10, max_features=auto, min_samples_leaf=2, min_samples_split=2, n_estimators=200; total time=   0.0s\n",
            "[CV] END bootstrap=True, max_depth=10, max_features=auto, min_samples_leaf=2, min_samples_split=2, n_estimators=200; total time=   0.0s\n",
            "[CV] END bootstrap=True, max_depth=10, max_features=auto, min_samples_leaf=2, min_samples_split=2, n_estimators=300; total time=   0.0s\n",
            "[CV] END bootstrap=True, max_depth=10, max_features=auto, min_samples_leaf=2, min_samples_split=2, n_estimators=300; total time=   0.0s\n",
            "[CV] END bootstrap=True, max_depth=10, max_features=auto, min_samples_leaf=2, min_samples_split=2, n_estimators=300; total time=   0.0s\n",
            "[CV] END bootstrap=True, max_depth=10, max_features=auto, min_samples_leaf=2, min_samples_split=5, n_estimators=200; total time=   0.0s\n",
            "[CV] END bootstrap=True, max_depth=10, max_features=auto, min_samples_leaf=2, min_samples_split=5, n_estimators=100; total time=   0.0s\n",
            "[CV] END bootstrap=True, max_depth=10, max_features=auto, min_samples_leaf=2, min_samples_split=5, n_estimators=100; total time=   0.0s\n",
            "[CV] END bootstrap=True, max_depth=10, max_features=auto, min_samples_leaf=2, min_samples_split=5, n_estimators=100; total time=   0.0s\n",
            "[CV] END bootstrap=True, max_depth=10, max_features=auto, min_samples_leaf=2, min_samples_split=5, n_estimators=200; total time=   0.0s\n",
            "[CV] END bootstrap=True, max_depth=10, max_features=auto, min_samples_leaf=2, min_samples_split=5, n_estimators=200; total time=   0.0s\n",
            "[CV] END bootstrap=True, max_depth=10, max_features=auto, min_samples_leaf=2, min_samples_split=5, n_estimators=300; total time=   0.0s\n",
            "[CV] END bootstrap=True, max_depth=10, max_features=auto, min_samples_leaf=2, min_samples_split=5, n_estimators=300; total time=   0.0s\n",
            "[CV] END bootstrap=True, max_depth=10, max_features=auto, min_samples_leaf=2, min_samples_split=5, n_estimators=300; total time=   0.0s\n",
            "[CV] END bootstrap=True, max_depth=10, max_features=auto, min_samples_leaf=2, min_samples_split=10, n_estimators=100; total time=   0.0s\n",
            "[CV] END bootstrap=True, max_depth=10, max_features=auto, min_samples_leaf=2, min_samples_split=10, n_estimators=100; total time=   0.0s\n",
            "[CV] END bootstrap=True, max_depth=10, max_features=auto, min_samples_leaf=2, min_samples_split=10, n_estimators=200; total time=   0.0s\n",
            "[CV] END bootstrap=True, max_depth=10, max_features=auto, min_samples_leaf=2, min_samples_split=10, n_estimators=100; total time=   0.0s\n",
            "[CV] END bootstrap=True, max_depth=10, max_features=auto, min_samples_leaf=2, min_samples_split=10, n_estimators=200; total time=   0.0s\n",
            "[CV] END bootstrap=True, max_depth=10, max_features=auto, min_samples_leaf=2, min_samples_split=10, n_estimators=200; total time=   0.0s\n",
            "[CV] END bootstrap=True, max_depth=10, max_features=auto, min_samples_leaf=2, min_samples_split=10, n_estimators=300; total time=   0.0s\n",
            "[CV] END bootstrap=True, max_depth=10, max_features=auto, min_samples_leaf=2, min_samples_split=10, n_estimators=300; total time=   0.0s\n",
            "[CV] END bootstrap=True, max_depth=10, max_features=auto, min_samples_leaf=2, min_samples_split=10, n_estimators=300; total time=   0.0s\n",
            "[CV] END bootstrap=True, max_depth=10, max_features=auto, min_samples_leaf=4, min_samples_split=2, n_estimators=100; total time=   0.0s\n",
            "[CV] END bootstrap=True, max_depth=10, max_features=auto, min_samples_leaf=4, min_samples_split=2, n_estimators=100; total time=   0.0s\n",
            "[CV] END bootstrap=True, max_depth=10, max_features=auto, min_samples_leaf=4, min_samples_split=2, n_estimators=100; total time=   0.0s\n",
            "[CV] END bootstrap=True, max_depth=10, max_features=auto, min_samples_leaf=4, min_samples_split=2, n_estimators=200; total time=   0.0s\n",
            "[CV] END bootstrap=True, max_depth=10, max_features=auto, min_samples_leaf=4, min_samples_split=5, n_estimators=100; total time=   0.0s\n",
            "[CV] END bootstrap=True, max_depth=10, max_features=auto, min_samples_leaf=4, min_samples_split=2, n_estimators=300; total time=   0.0s\n",
            "[CV] END bootstrap=True, max_depth=10, max_features=auto, min_samples_leaf=4, min_samples_split=2, n_estimators=200; total time=   0.0s\n",
            "[CV] END bootstrap=True, max_depth=10, max_features=auto, min_samples_leaf=4, min_samples_split=2, n_estimators=200; total time=   0.0s\n",
            "[CV] END bootstrap=True, max_depth=10, max_features=auto, min_samples_leaf=4, min_samples_split=2, n_estimators=300; total time=   0.0s\n",
            "[CV] END bootstrap=True, max_depth=10, max_features=auto, min_samples_leaf=4, min_samples_split=5, n_estimators=100; total time=   0.0s\n",
            "[CV] END bootstrap=True, max_depth=10, max_features=auto, min_samples_leaf=4, min_samples_split=2, n_estimators=300; total time=   0.0s\n",
            "[CV] END bootstrap=True, max_depth=10, max_features=auto, min_samples_leaf=4, min_samples_split=5, n_estimators=100; total time=   0.0s\n",
            "[CV] END bootstrap=True, max_depth=10, max_features=auto, min_samples_leaf=4, min_samples_split=5, n_estimators=200; total time=   0.0s\n",
            "[CV] END bootstrap=True, max_depth=10, max_features=auto, min_samples_leaf=4, min_samples_split=5, n_estimators=200; total time=   0.0s\n",
            "[CV] END bootstrap=True, max_depth=10, max_features=auto, min_samples_leaf=4, min_samples_split=5, n_estimators=200; total time=   0.0s\n",
            "[CV] END bootstrap=True, max_depth=10, max_features=auto, min_samples_leaf=4, min_samples_split=5, n_estimators=300; total time=   0.0s\n",
            "[CV] END bootstrap=True, max_depth=10, max_features=auto, min_samples_leaf=4, min_samples_split=5, n_estimators=300; total time=   0.0s\n",
            "[CV] END bootstrap=True, max_depth=10, max_features=auto, min_samples_leaf=4, min_samples_split=5, n_estimators=300; total time=   0.0s\n",
            "[CV] END bootstrap=True, max_depth=10, max_features=auto, min_samples_leaf=4, min_samples_split=10, n_estimators=100; total time=   0.0s\n",
            "[CV] END bootstrap=True, max_depth=10, max_features=auto, min_samples_leaf=4, min_samples_split=10, n_estimators=100; total time=   0.0s\n",
            "[CV] END bootstrap=True, max_depth=10, max_features=auto, min_samples_leaf=4, min_samples_split=10, n_estimators=200; total time=   0.0s\n",
            "[CV] END bootstrap=True, max_depth=10, max_features=auto, min_samples_leaf=4, min_samples_split=10, n_estimators=300; total time=   0.0s\n",
            "[CV] END bootstrap=True, max_depth=10, max_features=auto, min_samples_leaf=4, min_samples_split=10, n_estimators=100; total time=   0.0s\n",
            "[CV] END bootstrap=True, max_depth=10, max_features=auto, min_samples_leaf=4, min_samples_split=10, n_estimators=300; total time=   0.0s\n",
            "[CV] END bootstrap=True, max_depth=10, max_features=auto, min_samples_leaf=4, min_samples_split=10, n_estimators=300; total time=   0.0s\n",
            "[CV] END bootstrap=True, max_depth=10, max_features=auto, min_samples_leaf=4, min_samples_split=10, n_estimators=200; total time=   0.0s\n",
            "[CV] END bootstrap=True, max_depth=10, max_features=auto, min_samples_leaf=4, min_samples_split=10, n_estimators=200; total time=   0.0s\n",
            "[CV] END bootstrap=True, max_depth=10, max_features=sqrt, min_samples_leaf=1, min_samples_split=2, n_estimators=100; total time=   0.4s\n",
            "[CV] END bootstrap=True, max_depth=10, max_features=sqrt, min_samples_leaf=1, min_samples_split=2, n_estimators=100; total time=   0.4s\n",
            "[CV] END bootstrap=True, max_depth=10, max_features=sqrt, min_samples_leaf=1, min_samples_split=5, n_estimators=100; total time=   0.4s\n",
            "[CV] END bootstrap=True, max_depth=10, max_features=sqrt, min_samples_leaf=1, min_samples_split=5, n_estimators=100; total time=   0.4s\n",
            "[CV] END bootstrap=True, max_depth=10, max_features=sqrt, min_samples_leaf=1, min_samples_split=10, n_estimators=100; total time=   0.3s\n",
            "[CV] END bootstrap=True, max_depth=10, max_features=sqrt, min_samples_leaf=1, min_samples_split=2, n_estimators=100; total time=   0.4s\n",
            "[CV] END bootstrap=True, max_depth=10, max_features=sqrt, min_samples_leaf=1, min_samples_split=2, n_estimators=200; total time=   0.8s\n",
            "[CV] END bootstrap=True, max_depth=10, max_features=sqrt, min_samples_leaf=1, min_samples_split=2, n_estimators=200; total time=   0.8s\n",
            "[CV] END bootstrap=True, max_depth=10, max_features=sqrt, min_samples_leaf=1, min_samples_split=5, n_estimators=100; total time=   0.4s\n",
            "[CV] END bootstrap=True, max_depth=10, max_features=sqrt, min_samples_leaf=1, min_samples_split=5, n_estimators=200; total time=   0.8s\n",
            "[CV] END bootstrap=True, max_depth=10, max_features=sqrt, min_samples_leaf=1, min_samples_split=10, n_estimators=100; total time=   0.5s\n",
            "[CV] END bootstrap=True, max_depth=10, max_features=sqrt, min_samples_leaf=1, min_samples_split=5, n_estimators=200; total time=   0.8s\n",
            "[CV] END bootstrap=True, max_depth=10, max_features=sqrt, min_samples_leaf=2, min_samples_split=2, n_estimators=100; total time=   0.4s\n",
            "[CV] END bootstrap=True, max_depth=10, max_features=sqrt, min_samples_leaf=1, min_samples_split=2, n_estimators=300; total time=   1.2s\n",
            "[CV] END bootstrap=True, max_depth=10, max_features=sqrt, min_samples_leaf=1, min_samples_split=5, n_estimators=300; total time=   1.3s\n",
            "[CV] END bootstrap=True, max_depth=10, max_features=sqrt, min_samples_leaf=1, min_samples_split=5, n_estimators=300; total time=   1.3s\n",
            "[CV] END bootstrap=True, max_depth=10, max_features=sqrt, min_samples_leaf=1, min_samples_split=2, n_estimators=200; total time=   0.8s\n",
            "[CV] END bootstrap=True, max_depth=10, max_features=sqrt, min_samples_leaf=1, min_samples_split=10, n_estimators=200; total time=   0.8s\n",
            "[CV] END bootstrap=True, max_depth=10, max_features=sqrt, min_samples_leaf=1, min_samples_split=5, n_estimators=200; total time=   0.8s\n",
            "[CV] END bootstrap=True, max_depth=10, max_features=sqrt, min_samples_leaf=2, min_samples_split=2, n_estimators=100; total time=   0.5s\n",
            "[CV] END bootstrap=True, max_depth=10, max_features=sqrt, min_samples_leaf=1, min_samples_split=10, n_estimators=100; total time=   0.4s\n",
            "[CV] END bootstrap=True, max_depth=10, max_features=sqrt, min_samples_leaf=2, min_samples_split=2, n_estimators=200; total time=   0.8s\n",
            "[CV] END bootstrap=True, max_depth=10, max_features=sqrt, min_samples_leaf=1, min_samples_split=10, n_estimators=200; total time=   0.8s\n",
            "[CV] END bootstrap=True, max_depth=10, max_features=sqrt, min_samples_leaf=1, min_samples_split=2, n_estimators=300; total time=   1.3s\n",
            "[CV] END bootstrap=True, max_depth=10, max_features=sqrt, min_samples_leaf=2, min_samples_split=2, n_estimators=100; total time=   0.4s\n",
            "[CV] END bootstrap=True, max_depth=10, max_features=sqrt, min_samples_leaf=2, min_samples_split=10, n_estimators=100; total time=   0.4s\n",
            "[CV] END bootstrap=True, max_depth=10, max_features=sqrt, min_samples_leaf=2, min_samples_split=5, n_estimators=200; total time=   0.8s\n",
            "[CV] END bootstrap=True, max_depth=10, max_features=sqrt, min_samples_leaf=1, min_samples_split=5, n_estimators=300; total time=   1.2s\n",
            "[CV] END bootstrap=True, max_depth=10, max_features=sqrt, min_samples_leaf=1, min_samples_split=2, n_estimators=300; total time=   1.3s\n",
            "[CV] END bootstrap=True, max_depth=10, max_features=sqrt, min_samples_leaf=2, min_samples_split=2, n_estimators=200; total time=   0.8s\n",
            "[CV] END bootstrap=True, max_depth=10, max_features=sqrt, min_samples_leaf=1, min_samples_split=10, n_estimators=300; total time=   1.2s\n",
            "[CV] END bootstrap=True, max_depth=10, max_features=sqrt, min_samples_leaf=1, min_samples_split=10, n_estimators=200; total time=   0.8s\n",
            "[CV] END bootstrap=True, max_depth=10, max_features=sqrt, min_samples_leaf=2, min_samples_split=2, n_estimators=300; total time=   1.2s\n",
            "[CV] END bootstrap=True, max_depth=10, max_features=sqrt, min_samples_leaf=2, min_samples_split=2, n_estimators=200; total time=   0.8s\n",
            "[CV] END bootstrap=True, max_depth=10, max_features=sqrt, min_samples_leaf=2, min_samples_split=5, n_estimators=300; total time=   1.2s\n",
            "[CV] END bootstrap=True, max_depth=10, max_features=sqrt, min_samples_leaf=4, min_samples_split=2, n_estimators=100; total time=   0.4s\n",
            "[CV] END bootstrap=True, max_depth=10, max_features=sqrt, min_samples_leaf=2, min_samples_split=5, n_estimators=100; total time=   0.3s\n",
            "[CV] END bootstrap=True, max_depth=10, max_features=sqrt, min_samples_leaf=4, min_samples_split=5, n_estimators=100; total time=   0.4s\n",
            "[CV] END bootstrap=True, max_depth=10, max_features=sqrt, min_samples_leaf=2, min_samples_split=5, n_estimators=200; total time=   0.8s\n",
            "[CV] END bootstrap=True, max_depth=10, max_features=sqrt, min_samples_leaf=4, min_samples_split=2, n_estimators=100; total time=   0.4s\n",
            "[CV] END bootstrap=True, max_depth=10, max_features=sqrt, min_samples_leaf=2, min_samples_split=10, n_estimators=200; total time=   0.9s\n",
            "[CV] END bootstrap=True, max_depth=10, max_features=sqrt, min_samples_leaf=4, min_samples_split=2, n_estimators=200; total time=   0.7s\n",
            "[CV] END bootstrap=True, max_depth=10, max_features=sqrt, min_samples_leaf=2, min_samples_split=5, n_estimators=100; total time=   0.4s\n",
            "[CV] END bootstrap=True, max_depth=10, max_features=sqrt, min_samples_leaf=4, min_samples_split=5, n_estimators=100; total time=   0.3s\n",
            "[CV] END bootstrap=True, max_depth=10, max_features=sqrt, min_samples_leaf=2, min_samples_split=10, n_estimators=300; total time=   1.1s\n",
            "[CV] END bootstrap=True, max_depth=10, max_features=sqrt, min_samples_leaf=2, min_samples_split=2, n_estimators=300; total time=   1.2s\n",
            "[CV] END bootstrap=True, max_depth=10, max_features=sqrt, min_samples_leaf=1, min_samples_split=10, n_estimators=300; total time=   1.2s\n",
            "[CV] END bootstrap=True, max_depth=10, max_features=sqrt, min_samples_leaf=2, min_samples_split=5, n_estimators=100; total time=   0.4s\n",
            "[CV] END bootstrap=True, max_depth=10, max_features=sqrt, min_samples_leaf=4, min_samples_split=5, n_estimators=100; total time=   0.5s\n",
            "[CV] END bootstrap=True, max_depth=10, max_features=sqrt, min_samples_leaf=4, min_samples_split=2, n_estimators=200; total time=   0.8s\n",
            "[CV] END bootstrap=True, max_depth=10, max_features=sqrt, min_samples_leaf=2, min_samples_split=5, n_estimators=300; total time=   1.2s\n",
            "[CV] END bootstrap=True, max_depth=10, max_features=sqrt, min_samples_leaf=2, min_samples_split=5, n_estimators=200; total time=   0.9s\n",
            "[CV] END bootstrap=True, max_depth=10, max_features=sqrt, min_samples_leaf=2, min_samples_split=10, n_estimators=200; total time=   0.9s\n",
            "[CV] END bootstrap=True, max_depth=10, max_features=sqrt, min_samples_leaf=2, min_samples_split=10, n_estimators=100; total time=   0.5s\n",
            "[CV] END bootstrap=True, max_depth=10, max_features=sqrt, min_samples_leaf=4, min_samples_split=5, n_estimators=200; total time=   0.9s\n",
            "[CV] END bootstrap=True, max_depth=10, max_features=sqrt, min_samples_leaf=4, min_samples_split=2, n_estimators=300; total time=   1.4s\n",
            "[CV] END bootstrap=True, max_depth=10, max_features=sqrt, min_samples_leaf=4, min_samples_split=5, n_estimators=200; total time=   1.0s\n",
            "[CV] END bootstrap=True, max_depth=10, max_features=sqrt, min_samples_leaf=2, min_samples_split=10, n_estimators=100; total time=   0.5s\n",
            "[CV] END bootstrap=True, max_depth=10, max_features=sqrt, min_samples_leaf=2, min_samples_split=10, n_estimators=300; total time=   1.5s\n",
            "[CV] END bootstrap=True, max_depth=10, max_features=sqrt, min_samples_leaf=4, min_samples_split=2, n_estimators=200; total time=   1.0s\n",
            "[CV] END bootstrap=True, max_depth=10, max_features=sqrt, min_samples_leaf=2, min_samples_split=10, n_estimators=200; total time=   1.1s\n",
            "[CV] END bootstrap=True, max_depth=20, max_features=auto, min_samples_leaf=1, min_samples_split=2, n_estimators=100; total time=   0.0s\n",
            "[CV] END bootstrap=True, max_depth=20, max_features=auto, min_samples_leaf=1, min_samples_split=2, n_estimators=200; total time=   0.0s\n",
            "[CV] END bootstrap=True, max_depth=20, max_features=auto, min_samples_leaf=1, min_samples_split=2, n_estimators=200; total time=   0.0s\n",
            "[CV] END bootstrap=True, max_depth=20, max_features=auto, min_samples_leaf=1, min_samples_split=2, n_estimators=200; total time=   0.0s\n",
            "[CV] END bootstrap=True, max_depth=20, max_features=auto, min_samples_leaf=1, min_samples_split=2, n_estimators=300; total time=   0.0s\n",
            "[CV] END bootstrap=True, max_depth=20, max_features=auto, min_samples_leaf=1, min_samples_split=2, n_estimators=300; total time=   0.0s\n",
            "[CV] END bootstrap=True, max_depth=20, max_features=auto, min_samples_leaf=1, min_samples_split=2, n_estimators=300; total time=   0.0s\n",
            "[CV] END bootstrap=True, max_depth=20, max_features=auto, min_samples_leaf=1, min_samples_split=5, n_estimators=100; total time=   0.0s\n",
            "[CV] END bootstrap=True, max_depth=20, max_features=auto, min_samples_leaf=1, min_samples_split=5, n_estimators=100; total time=   0.0s\n",
            "[CV] END bootstrap=True, max_depth=20, max_features=auto, min_samples_leaf=1, min_samples_split=5, n_estimators=100; total time=   0.0s\n",
            "[CV] END bootstrap=True, max_depth=20, max_features=auto, min_samples_leaf=1, min_samples_split=5, n_estimators=200; total time=   0.0s\n",
            "[CV] END bootstrap=True, max_depth=20, max_features=auto, min_samples_leaf=1, min_samples_split=5, n_estimators=200; total time=   0.0s\n",
            "[CV] END bootstrap=True, max_depth=20, max_features=auto, min_samples_leaf=1, min_samples_split=5, n_estimators=200; total time=   0.0s\n",
            "[CV] END bootstrap=True, max_depth=20, max_features=auto, min_samples_leaf=1, min_samples_split=5, n_estimators=300; total time=   0.0s\n",
            "[CV] END bootstrap=True, max_depth=20, max_features=auto, min_samples_leaf=1, min_samples_split=5, n_estimators=300; total time=   0.0s\n",
            "[CV] END bootstrap=True, max_depth=20, max_features=auto, min_samples_leaf=1, min_samples_split=5, n_estimators=300; total time=   0.0s\n",
            "[CV] END bootstrap=True, max_depth=20, max_features=auto, min_samples_leaf=1, min_samples_split=10, n_estimators=100; total time=   0.0s\n",
            "[CV] END bootstrap=True, max_depth=20, max_features=auto, min_samples_leaf=1, min_samples_split=10, n_estimators=100; total time=   0.0s\n",
            "[CV] END bootstrap=True, max_depth=20, max_features=auto, min_samples_leaf=1, min_samples_split=10, n_estimators=100; total time=   0.0s\n",
            "[CV] END bootstrap=True, max_depth=20, max_features=auto, min_samples_leaf=1, min_samples_split=10, n_estimators=200; total time=   0.0s\n",
            "[CV] END bootstrap=True, max_depth=20, max_features=auto, min_samples_leaf=1, min_samples_split=10, n_estimators=200; total time=   0.0s\n",
            "[CV] END bootstrap=True, max_depth=20, max_features=auto, min_samples_leaf=1, min_samples_split=10, n_estimators=200; total time=   0.0s\n",
            "[CV] END bootstrap=True, max_depth=20, max_features=auto, min_samples_leaf=1, min_samples_split=10, n_estimators=300; total time=   0.0s\n",
            "[CV] END bootstrap=True, max_depth=20, max_features=auto, min_samples_leaf=1, min_samples_split=10, n_estimators=300; total time=   0.0s\n",
            "[CV] END bootstrap=True, max_depth=20, max_features=auto, min_samples_leaf=1, min_samples_split=10, n_estimators=300; total time=   0.0s\n",
            "[CV] END bootstrap=True, max_depth=20, max_features=auto, min_samples_leaf=2, min_samples_split=2, n_estimators=100; total time=   0.0s\n",
            "[CV] END bootstrap=True, max_depth=20, max_features=auto, min_samples_leaf=2, min_samples_split=2, n_estimators=100; total time=   0.0s\n",
            "[CV] END bootstrap=True, max_depth=20, max_features=auto, min_samples_leaf=2, min_samples_split=2, n_estimators=100; total time=   0.0s\n",
            "[CV] END bootstrap=True, max_depth=20, max_features=auto, min_samples_leaf=2, min_samples_split=2, n_estimators=200; total time=   0.0s\n",
            "[CV] END bootstrap=True, max_depth=20, max_features=auto, min_samples_leaf=2, min_samples_split=2, n_estimators=200; total time=   0.0s\n",
            "[CV] END bootstrap=True, max_depth=20, max_features=auto, min_samples_leaf=2, min_samples_split=2, n_estimators=200; total time=   0.0s\n",
            "[CV] END bootstrap=True, max_depth=20, max_features=auto, min_samples_leaf=2, min_samples_split=2, n_estimators=300; total time=   0.0s\n",
            "[CV] END bootstrap=True, max_depth=20, max_features=auto, min_samples_leaf=2, min_samples_split=2, n_estimators=300; total time=   0.0s\n",
            "[CV] END bootstrap=True, max_depth=20, max_features=auto, min_samples_leaf=2, min_samples_split=2, n_estimators=300; total time=   0.0s\n",
            "[CV] END bootstrap=True, max_depth=20, max_features=auto, min_samples_leaf=2, min_samples_split=5, n_estimators=100; total time=   0.0s\n",
            "[CV] END bootstrap=True, max_depth=20, max_features=auto, min_samples_leaf=2, min_samples_split=5, n_estimators=100; total time=   0.0s\n",
            "[CV] END bootstrap=True, max_depth=20, max_features=auto, min_samples_leaf=2, min_samples_split=5, n_estimators=100; total time=   0.0s\n",
            "[CV] END bootstrap=True, max_depth=20, max_features=auto, min_samples_leaf=2, min_samples_split=5, n_estimators=200; total time=   0.0s\n",
            "[CV] END bootstrap=True, max_depth=10, max_features=sqrt, min_samples_leaf=1, min_samples_split=10, n_estimators=300; total time=   1.5s\n",
            "[CV] END bootstrap=True, max_depth=20, max_features=auto, min_samples_leaf=2, min_samples_split=5, n_estimators=200; total time=   0.0s\n",
            "[CV] END bootstrap=True, max_depth=20, max_features=auto, min_samples_leaf=2, min_samples_split=5, n_estimators=300; total time=   0.0s\n",
            "[CV] END bootstrap=True, max_depth=20, max_features=auto, min_samples_leaf=2, min_samples_split=5, n_estimators=200; total time=   0.0s\n",
            "[CV] END bootstrap=True, max_depth=20, max_features=auto, min_samples_leaf=2, min_samples_split=5, n_estimators=300; total time=   0.0s\n",
            "[CV] END bootstrap=True, max_depth=20, max_features=auto, min_samples_leaf=2, min_samples_split=10, n_estimators=100; total time=   0.0s\n",
            "[CV] END bootstrap=True, max_depth=20, max_features=auto, min_samples_leaf=2, min_samples_split=5, n_estimators=300; total time=   0.0s\n",
            "[CV] END bootstrap=True, max_depth=20, max_features=auto, min_samples_leaf=2, min_samples_split=10, n_estimators=100; total time=   0.0s\n",
            "[CV] END bootstrap=True, max_depth=20, max_features=auto, min_samples_leaf=2, min_samples_split=10, n_estimators=100; total time=   0.0s\n",
            "[CV] END bootstrap=True, max_depth=10, max_features=sqrt, min_samples_leaf=2, min_samples_split=2, n_estimators=300; total time=   1.6s\n",
            "[CV] END bootstrap=True, max_depth=20, max_features=auto, min_samples_leaf=2, min_samples_split=10, n_estimators=200; total time=   0.0s\n",
            "[CV] END bootstrap=True, max_depth=20, max_features=auto, min_samples_leaf=2, min_samples_split=10, n_estimators=200; total time=   0.0s\n",
            "[CV] END bootstrap=True, max_depth=20, max_features=auto, min_samples_leaf=2, min_samples_split=10, n_estimators=200; total time=   0.0s\n",
            "[CV] END bootstrap=True, max_depth=20, max_features=auto, min_samples_leaf=2, min_samples_split=10, n_estimators=300; total time=   0.0s\n",
            "[CV] END bootstrap=True, max_depth=20, max_features=auto, min_samples_leaf=4, min_samples_split=2, n_estimators=100; total time=   0.0s\n",
            "[CV] END bootstrap=True, max_depth=20, max_features=auto, min_samples_leaf=4, min_samples_split=2, n_estimators=100; total time=   0.0s\n",
            "[CV] END bootstrap=True, max_depth=20, max_features=auto, min_samples_leaf=4, min_samples_split=2, n_estimators=100; total time=   0.0s\n",
            "[CV] END bootstrap=True, max_depth=20, max_features=auto, min_samples_leaf=4, min_samples_split=2, n_estimators=200; total time=   0.0s\n",
            "[CV] END bootstrap=True, max_depth=20, max_features=auto, min_samples_leaf=2, min_samples_split=10, n_estimators=300; total time=   0.0s\n",
            "[CV] END bootstrap=True, max_depth=20, max_features=auto, min_samples_leaf=2, min_samples_split=10, n_estimators=300; total time=   0.0s\n",
            "[CV] END bootstrap=True, max_depth=20, max_features=auto, min_samples_leaf=4, min_samples_split=2, n_estimators=300; total time=   0.0s\n",
            "[CV] END bootstrap=True, max_depth=20, max_features=auto, min_samples_leaf=4, min_samples_split=2, n_estimators=300; total time=   0.0s\n",
            "[CV] END bootstrap=True, max_depth=20, max_features=auto, min_samples_leaf=4, min_samples_split=2, n_estimators=300; total time=   0.0s\n",
            "[CV] END bootstrap=True, max_depth=20, max_features=auto, min_samples_leaf=4, min_samples_split=2, n_estimators=200; total time=   0.0s\n",
            "[CV] END bootstrap=True, max_depth=20, max_features=auto, min_samples_leaf=4, min_samples_split=5, n_estimators=100; total time=   0.0s\n",
            "[CV] END bootstrap=True, max_depth=20, max_features=auto, min_samples_leaf=4, min_samples_split=2, n_estimators=200; total time=   0.0s\n",
            "[CV] END bootstrap=True, max_depth=20, max_features=auto, min_samples_leaf=4, min_samples_split=5, n_estimators=200; total time=   0.0s\n",
            "[CV] END bootstrap=True, max_depth=20, max_features=auto, min_samples_leaf=4, min_samples_split=5, n_estimators=300; total time=   0.0s\n",
            "[CV] END bootstrap=True, max_depth=20, max_features=auto, min_samples_leaf=4, min_samples_split=5, n_estimators=100; total time=   0.0s\n",
            "[CV] END bootstrap=True, max_depth=20, max_features=auto, min_samples_leaf=4, min_samples_split=5, n_estimators=100; total time=   0.0s\n",
            "[CV] END bootstrap=True, max_depth=20, max_features=auto, min_samples_leaf=4, min_samples_split=5, n_estimators=300; total time=   0.0s\n",
            "[CV] END bootstrap=True, max_depth=20, max_features=auto, min_samples_leaf=4, min_samples_split=5, n_estimators=300; total time=   0.0s\n",
            "[CV] END bootstrap=True, max_depth=20, max_features=auto, min_samples_leaf=4, min_samples_split=10, n_estimators=100; total time=   0.0s\n",
            "[CV] END bootstrap=True, max_depth=20, max_features=auto, min_samples_leaf=4, min_samples_split=10, n_estimators=100; total time=   0.0s\n",
            "[CV] END bootstrap=True, max_depth=20, max_features=auto, min_samples_leaf=4, min_samples_split=5, n_estimators=200; total time=   0.0s\n",
            "[CV] END bootstrap=True, max_depth=20, max_features=auto, min_samples_leaf=4, min_samples_split=5, n_estimators=200; total time=   0.0s\n",
            "[CV] END bootstrap=True, max_depth=20, max_features=auto, min_samples_leaf=4, min_samples_split=10, n_estimators=100; total time=   0.0s\n",
            "[CV] END bootstrap=True, max_depth=20, max_features=auto, min_samples_leaf=4, min_samples_split=10, n_estimators=200; total time=   0.0s\n",
            "[CV] END bootstrap=True, max_depth=20, max_features=auto, min_samples_leaf=4, min_samples_split=10, n_estimators=200; total time=   0.0s\n",
            "[CV] END bootstrap=True, max_depth=20, max_features=auto, min_samples_leaf=4, min_samples_split=10, n_estimators=200; total time=   0.0s\n",
            "[CV] END bootstrap=True, max_depth=20, max_features=auto, min_samples_leaf=4, min_samples_split=10, n_estimators=300; total time=   0.0s\n",
            "[CV] END bootstrap=True, max_depth=20, max_features=auto, min_samples_leaf=4, min_samples_split=10, n_estimators=300; total time=   0.0s\n",
            "[CV] END bootstrap=True, max_depth=20, max_features=auto, min_samples_leaf=4, min_samples_split=10, n_estimators=300; total time=   0.0s\n",
            "[CV] END bootstrap=True, max_depth=10, max_features=sqrt, min_samples_leaf=2, min_samples_split=5, n_estimators=300; total time=   1.7s\n",
            "[CV] END bootstrap=True, max_depth=10, max_features=sqrt, min_samples_leaf=4, min_samples_split=5, n_estimators=200; total time=   1.2s\n",
            "[CV] END bootstrap=True, max_depth=20, max_features=sqrt, min_samples_leaf=1, min_samples_split=2, n_estimators=100; total time=   0.5s\n",
            "[CV] END bootstrap=True, max_depth=20, max_features=sqrt, min_samples_leaf=1, min_samples_split=2, n_estimators=100; total time=   0.5s\n",
            "[CV] END bootstrap=True, max_depth=10, max_features=sqrt, min_samples_leaf=4, min_samples_split=10, n_estimators=200; total time=   1.1s\n",
            "[CV] END bootstrap=True, max_depth=10, max_features=sqrt, min_samples_leaf=4, min_samples_split=2, n_estimators=300; total time=   1.5s\n",
            "[CV] END bootstrap=True, max_depth=10, max_features=sqrt, min_samples_leaf=2, min_samples_split=10, n_estimators=300; total time=   1.4s\n",
            "[CV] END bootstrap=True, max_depth=10, max_features=sqrt, min_samples_leaf=4, min_samples_split=5, n_estimators=300; total time=   1.5s\n",
            "[CV] END bootstrap=True, max_depth=20, max_features=sqrt, min_samples_leaf=1, min_samples_split=2, n_estimators=200; total time=   0.8s\n",
            "[CV] END bootstrap=True, max_depth=10, max_features=sqrt, min_samples_leaf=4, min_samples_split=10, n_estimators=300; total time=   1.5s\n",
            "[CV] END bootstrap=True, max_depth=20, max_features=sqrt, min_samples_leaf=1, min_samples_split=2, n_estimators=100; total time=   0.4s\n",
            "[CV] END bootstrap=True, max_depth=20, max_features=sqrt, min_samples_leaf=1, min_samples_split=2, n_estimators=200; total time=   0.9s\n",
            "[CV] END bootstrap=True, max_depth=10, max_features=sqrt, min_samples_leaf=4, min_samples_split=2, n_estimators=100; total time=   0.4s\n",
            "[CV] END bootstrap=True, max_depth=10, max_features=sqrt, min_samples_leaf=4, min_samples_split=10, n_estimators=100; total time=   0.4s\n",
            "[CV] END bootstrap=True, max_depth=10, max_features=sqrt, min_samples_leaf=4, min_samples_split=10, n_estimators=200; total time=   0.8s\n",
            "[CV] END bootstrap=True, max_depth=20, max_features=sqrt, min_samples_leaf=1, min_samples_split=5, n_estimators=100; total time=   0.4s\n",
            "[CV] END bootstrap=True, max_depth=10, max_features=sqrt, min_samples_leaf=4, min_samples_split=5, n_estimators=300; total time=   1.1s\n",
            "[CV] END bootstrap=True, max_depth=10, max_features=sqrt, min_samples_leaf=4, min_samples_split=10, n_estimators=100; total time=   0.4s\n",
            "[CV] END bootstrap=True, max_depth=20, max_features=sqrt, min_samples_leaf=1, min_samples_split=2, n_estimators=200; total time=   0.9s\n",
            "[CV] END bootstrap=True, max_depth=20, max_features=sqrt, min_samples_leaf=1, min_samples_split=2, n_estimators=300; total time=   1.3s\n",
            "[CV] END bootstrap=True, max_depth=10, max_features=sqrt, min_samples_leaf=4, min_samples_split=2, n_estimators=300; total time=   1.2s\n",
            "[CV] END bootstrap=True, max_depth=10, max_features=sqrt, min_samples_leaf=4, min_samples_split=10, n_estimators=100; total time=   0.4s\n",
            "[CV] END bootstrap=True, max_depth=10, max_features=sqrt, min_samples_leaf=4, min_samples_split=10, n_estimators=300; total time=   1.1s\n",
            "[CV] END bootstrap=True, max_depth=20, max_features=auto, min_samples_leaf=1, min_samples_split=2, n_estimators=100; total time=   0.0s\n",
            "[CV] END bootstrap=True, max_depth=20, max_features=auto, min_samples_leaf=1, min_samples_split=2, n_estimators=100; total time=   0.0s\n",
            "[CV] END bootstrap=True, max_depth=20, max_features=sqrt, min_samples_leaf=1, min_samples_split=10, n_estimators=100; total time=   0.3s\n",
            "[CV] END bootstrap=True, max_depth=10, max_features=sqrt, min_samples_leaf=4, min_samples_split=10, n_estimators=200; total time=   0.8s\n",
            "[CV] END bootstrap=True, max_depth=20, max_features=sqrt, min_samples_leaf=1, min_samples_split=5, n_estimators=200; total time=   0.9s\n",
            "[CV] END bootstrap=True, max_depth=20, max_features=sqrt, min_samples_leaf=1, min_samples_split=5, n_estimators=300; total time=   1.2s\n",
            "[CV] END bootstrap=True, max_depth=20, max_features=sqrt, min_samples_leaf=1, min_samples_split=2, n_estimators=300; total time=   1.3s\n",
            "[CV] END bootstrap=True, max_depth=20, max_features=sqrt, min_samples_leaf=2, min_samples_split=2, n_estimators=100; total time=   0.4s\n",
            "[CV] END bootstrap=True, max_depth=20, max_features=sqrt, min_samples_leaf=1, min_samples_split=10, n_estimators=100; total time=   0.4s\n",
            "[CV] END bootstrap=True, max_depth=20, max_features=sqrt, min_samples_leaf=1, min_samples_split=10, n_estimators=200; total time=   0.8s\n",
            "[CV] END bootstrap=True, max_depth=10, max_features=sqrt, min_samples_leaf=4, min_samples_split=5, n_estimators=300; total time=   1.3s\n",
            "[CV] END bootstrap=True, max_depth=20, max_features=sqrt, min_samples_leaf=2, min_samples_split=2, n_estimators=100; total time=   0.4s\n",
            "[CV] END bootstrap=True, max_depth=20, max_features=sqrt, min_samples_leaf=2, min_samples_split=2, n_estimators=200; total time=   0.9s\n",
            "[CV] END bootstrap=True, max_depth=20, max_features=sqrt, min_samples_leaf=1, min_samples_split=2, n_estimators=300; total time=   1.3s\n",
            "[CV] END bootstrap=True, max_depth=10, max_features=sqrt, min_samples_leaf=4, min_samples_split=10, n_estimators=300; total time=   1.1s\n",
            "[CV] END bootstrap=True, max_depth=20, max_features=sqrt, min_samples_leaf=1, min_samples_split=5, n_estimators=200; total time=   0.9s\n",
            "[CV] END bootstrap=True, max_depth=20, max_features=sqrt, min_samples_leaf=2, min_samples_split=2, n_estimators=100; total time=   0.4s\n",
            "[CV] END bootstrap=True, max_depth=20, max_features=sqrt, min_samples_leaf=1, min_samples_split=10, n_estimators=200; total time=   0.8s\n",
            "[CV] END bootstrap=True, max_depth=20, max_features=sqrt, min_samples_leaf=1, min_samples_split=5, n_estimators=100; total time=   0.4s\n",
            "[CV] END bootstrap=True, max_depth=20, max_features=sqrt, min_samples_leaf=2, min_samples_split=2, n_estimators=300; total time=   1.1s\n",
            "[CV] END bootstrap=True, max_depth=20, max_features=sqrt, min_samples_leaf=2, min_samples_split=5, n_estimators=200; total time=   0.9s\n",
            "[CV] END bootstrap=True, max_depth=20, max_features=sqrt, min_samples_leaf=1, min_samples_split=5, n_estimators=300; total time=   1.3s\n",
            "[CV] END bootstrap=True, max_depth=20, max_features=sqrt, min_samples_leaf=2, min_samples_split=2, n_estimators=200; total time=   0.8s\n",
            "[CV] END bootstrap=True, max_depth=20, max_features=sqrt, min_samples_leaf=1, min_samples_split=5, n_estimators=100; total time=   0.4s\n",
            "[CV] END bootstrap=True, max_depth=20, max_features=sqrt, min_samples_leaf=1, min_samples_split=10, n_estimators=300; total time=   1.2s\n",
            "[CV] END bootstrap=True, max_depth=20, max_features=sqrt, min_samples_leaf=2, min_samples_split=5, n_estimators=100; total time=   0.4s\n",
            "[CV] END bootstrap=True, max_depth=20, max_features=sqrt, min_samples_leaf=2, min_samples_split=2, n_estimators=200; total time=   0.8s\n",
            "[CV] END bootstrap=True, max_depth=20, max_features=sqrt, min_samples_leaf=1, min_samples_split=5, n_estimators=200; total time=   0.8s\n",
            "[CV] END bootstrap=True, max_depth=20, max_features=sqrt, min_samples_leaf=1, min_samples_split=10, n_estimators=200; total time=   0.8s\n",
            "[CV] END bootstrap=True, max_depth=20, max_features=sqrt, min_samples_leaf=2, min_samples_split=10, n_estimators=100; total time=   0.4s\n",
            "[CV] END bootstrap=True, max_depth=20, max_features=sqrt, min_samples_leaf=2, min_samples_split=5, n_estimators=100; total time=   0.4s\n",
            "[CV] END bootstrap=True, max_depth=20, max_features=sqrt, min_samples_leaf=2, min_samples_split=5, n_estimators=300; total time=   1.2s\n",
            "[CV] END bootstrap=True, max_depth=20, max_features=sqrt, min_samples_leaf=2, min_samples_split=5, n_estimators=200; total time=   0.9s\n",
            "[CV] END bootstrap=True, max_depth=20, max_features=sqrt, min_samples_leaf=2, min_samples_split=5, n_estimators=100; total time=   0.5s\n",
            "[CV] END bootstrap=True, max_depth=20, max_features=sqrt, min_samples_leaf=2, min_samples_split=10, n_estimators=200; total time=   0.8s\n",
            "[CV] END bootstrap=True, max_depth=20, max_features=sqrt, min_samples_leaf=2, min_samples_split=10, n_estimators=200; total time=   0.8s\n",
            "[CV] END bootstrap=True, max_depth=20, max_features=sqrt, min_samples_leaf=2, min_samples_split=10, n_estimators=200; total time=   0.8s\n",
            "[CV] END bootstrap=True, max_depth=20, max_features=sqrt, min_samples_leaf=1, min_samples_split=5, n_estimators=300; total time=   1.3s\n",
            "[CV] END bootstrap=True, max_depth=20, max_features=sqrt, min_samples_leaf=2, min_samples_split=2, n_estimators=300; total time=   1.3s\n",
            "[CV] END bootstrap=True, max_depth=20, max_features=sqrt, min_samples_leaf=1, min_samples_split=10, n_estimators=300; total time=   1.2s\n",
            "[CV] END bootstrap=True, max_depth=20, max_features=sqrt, min_samples_leaf=2, min_samples_split=5, n_estimators=200; total time=   0.7s\n",
            "[CV] END bootstrap=True, max_depth=20, max_features=sqrt, min_samples_leaf=4, min_samples_split=2, n_estimators=100; total time=   0.4s\n",
            "[CV] END bootstrap=True, max_depth=20, max_features=sqrt, min_samples_leaf=4, min_samples_split=2, n_estimators=100; total time=   0.4s\n",
            "[CV] END bootstrap=True, max_depth=20, max_features=sqrt, min_samples_leaf=1, min_samples_split=10, n_estimators=100; total time=   0.5s\n",
            "[CV] END bootstrap=True, max_depth=20, max_features=sqrt, min_samples_leaf=2, min_samples_split=10, n_estimators=300; total time=   1.2s\n",
            "[CV] END bootstrap=True, max_depth=20, max_features=sqrt, min_samples_leaf=2, min_samples_split=5, n_estimators=300; total time=   1.2s\n",
            "[CV] END bootstrap=True, max_depth=20, max_features=sqrt, min_samples_leaf=4, min_samples_split=2, n_estimators=100; total time=   0.4s\n",
            "[CV] END bootstrap=True, max_depth=20, max_features=sqrt, min_samples_leaf=2, min_samples_split=10, n_estimators=300; total time=   1.2s\n",
            "[CV] END bootstrap=True, max_depth=20, max_features=sqrt, min_samples_leaf=2, min_samples_split=10, n_estimators=100; total time=   0.4s\n",
            "[CV] END bootstrap=True, max_depth=20, max_features=sqrt, min_samples_leaf=4, min_samples_split=2, n_estimators=200; total time=   0.8s\n",
            "[CV] END bootstrap=True, max_depth=20, max_features=sqrt, min_samples_leaf=2, min_samples_split=10, n_estimators=300; total time=   1.3s\n",
            "[CV] END bootstrap=True, max_depth=20, max_features=sqrt, min_samples_leaf=2, min_samples_split=2, n_estimators=300; total time=   1.2s\n",
            "[CV] END bootstrap=True, max_depth=20, max_features=sqrt, min_samples_leaf=1, min_samples_split=10, n_estimators=300; total time=   1.2s\n",
            "[CV] END bootstrap=True, max_depth=20, max_features=sqrt, min_samples_leaf=4, min_samples_split=2, n_estimators=200; total time=   0.8s\n",
            "[CV] END bootstrap=True, max_depth=20, max_features=sqrt, min_samples_leaf=4, min_samples_split=2, n_estimators=200; total time=   0.8s\n",
            "[CV] END bootstrap=True, max_depth=20, max_features=sqrt, min_samples_leaf=2, min_samples_split=10, n_estimators=100; total time=   0.4s\n",
            "[CV] END bootstrap=True, max_depth=20, max_features=sqrt, min_samples_leaf=2, min_samples_split=5, n_estimators=300; total time=   1.3s\n",
            "[CV] END bootstrap=True, max_depth=20, max_features=sqrt, min_samples_leaf=4, min_samples_split=5, n_estimators=100; total time=   0.4s\n",
            "[CV] END bootstrap=True, max_depth=20, max_features=sqrt, min_samples_leaf=4, min_samples_split=5, n_estimators=100; total time=   0.5s\n",
            "[CV] END bootstrap=True, max_depth=20, max_features=sqrt, min_samples_leaf=4, min_samples_split=5, n_estimators=100; total time=   0.5s\n",
            "[CV] END bootstrap=True, max_depth=20, max_features=sqrt, min_samples_leaf=4, min_samples_split=2, n_estimators=300; total time=   1.4s\n",
            "[CV] END bootstrap=True, max_depth=20, max_features=sqrt, min_samples_leaf=4, min_samples_split=10, n_estimators=100; total time=   0.4s\n",
            "[CV] END bootstrap=True, max_depth=20, max_features=sqrt, min_samples_leaf=4, min_samples_split=5, n_estimators=200; total time=   0.9s\n",
            "[CV] END bootstrap=True, max_depth=20, max_features=sqrt, min_samples_leaf=4, min_samples_split=5, n_estimators=200; total time=   0.8s\n",
            "[CV] END bootstrap=True, max_depth=20, max_features=sqrt, min_samples_leaf=4, min_samples_split=2, n_estimators=300; total time=   1.3s\n",
            "[CV] END bootstrap=True, max_depth=20, max_features=sqrt, min_samples_leaf=4, min_samples_split=5, n_estimators=200; total time=   0.9s\n",
            "[CV] END bootstrap=True, max_depth=20, max_features=sqrt, min_samples_leaf=4, min_samples_split=2, n_estimators=300; total time=   1.3s\n",
            "[CV] END bootstrap=True, max_depth=20, max_features=sqrt, min_samples_leaf=4, min_samples_split=10, n_estimators=100; total time=   0.4s\n",
            "[CV] END bootstrap=True, max_depth=20, max_features=sqrt, min_samples_leaf=4, min_samples_split=10, n_estimators=100; total time=   0.5s\n",
            "[CV] END bootstrap=True, max_depth=30, max_features=auto, min_samples_leaf=1, min_samples_split=2, n_estimators=100; total time=   0.0s\n",
            "[CV] END bootstrap=True, max_depth=30, max_features=auto, min_samples_leaf=1, min_samples_split=2, n_estimators=100; total time=   0.0s\n",
            "[CV] END bootstrap=True, max_depth=30, max_features=auto, min_samples_leaf=1, min_samples_split=2, n_estimators=100; total time=   0.0s\n",
            "[CV] END bootstrap=True, max_depth=30, max_features=auto, min_samples_leaf=1, min_samples_split=2, n_estimators=200; total time=   0.0s\n",
            "[CV] END bootstrap=True, max_depth=30, max_features=auto, min_samples_leaf=1, min_samples_split=2, n_estimators=200; total time=   0.0s\n",
            "[CV] END bootstrap=True, max_depth=30, max_features=auto, min_samples_leaf=1, min_samples_split=2, n_estimators=200; total time=   0.0s\n",
            "[CV] END bootstrap=True, max_depth=30, max_features=auto, min_samples_leaf=1, min_samples_split=2, n_estimators=300; total time=   0.0s\n",
            "[CV] END bootstrap=True, max_depth=30, max_features=auto, min_samples_leaf=1, min_samples_split=2, n_estimators=300; total time=   0.0s\n",
            "[CV] END bootstrap=True, max_depth=30, max_features=auto, min_samples_leaf=1, min_samples_split=2, n_estimators=300; total time=   0.0s\n",
            "[CV] END bootstrap=True, max_depth=30, max_features=auto, min_samples_leaf=1, min_samples_split=5, n_estimators=100; total time=   0.0s\n",
            "[CV] END bootstrap=True, max_depth=30, max_features=auto, min_samples_leaf=1, min_samples_split=5, n_estimators=100; total time=   0.0s\n",
            "[CV] END bootstrap=True, max_depth=20, max_features=sqrt, min_samples_leaf=4, min_samples_split=5, n_estimators=300; total time=   1.2s\n",
            "[CV] END bootstrap=True, max_depth=30, max_features=auto, min_samples_leaf=1, min_samples_split=5, n_estimators=100; total time=   0.0s\n",
            "[CV] END bootstrap=True, max_depth=30, max_features=auto, min_samples_leaf=1, min_samples_split=5, n_estimators=200; total time=   0.0s\n",
            "[CV] END bootstrap=True, max_depth=30, max_features=auto, min_samples_leaf=1, min_samples_split=5, n_estimators=200; total time=   0.0s\n",
            "[CV] END bootstrap=True, max_depth=30, max_features=auto, min_samples_leaf=1, min_samples_split=5, n_estimators=300; total time=   0.0s\n",
            "[CV] END bootstrap=True, max_depth=30, max_features=auto, min_samples_leaf=1, min_samples_split=5, n_estimators=200; total time=   0.0s\n",
            "[CV] END bootstrap=True, max_depth=30, max_features=auto, min_samples_leaf=1, min_samples_split=5, n_estimators=300; total time=   0.0s\n",
            "[CV] END bootstrap=True, max_depth=30, max_features=auto, min_samples_leaf=1, min_samples_split=10, n_estimators=100; total time=   0.0s\n",
            "[CV] END bootstrap=True, max_depth=30, max_features=auto, min_samples_leaf=1, min_samples_split=10, n_estimators=100; total time=   0.0s\n",
            "[CV] END bootstrap=True, max_depth=30, max_features=auto, min_samples_leaf=1, min_samples_split=5, n_estimators=300; total time=   0.0s\n",
            "[CV] END bootstrap=True, max_depth=30, max_features=auto, min_samples_leaf=1, min_samples_split=10, n_estimators=100; total time=   0.0s\n",
            "[CV] END bootstrap=True, max_depth=30, max_features=auto, min_samples_leaf=1, min_samples_split=10, n_estimators=200; total time=   0.0s\n",
            "[CV] END bootstrap=True, max_depth=30, max_features=auto, min_samples_leaf=1, min_samples_split=10, n_estimators=200; total time=   0.0s\n",
            "[CV] END bootstrap=True, max_depth=30, max_features=auto, min_samples_leaf=1, min_samples_split=10, n_estimators=200; total time=   0.0s\n",
            "[CV] END bootstrap=True, max_depth=30, max_features=auto, min_samples_leaf=1, min_samples_split=10, n_estimators=300; total time=   0.0s\n",
            "[CV] END bootstrap=True, max_depth=30, max_features=auto, min_samples_leaf=1, min_samples_split=10, n_estimators=300; total time=   0.0s\n",
            "[CV] END bootstrap=True, max_depth=30, max_features=auto, min_samples_leaf=1, min_samples_split=10, n_estimators=300; total time=   0.0s\n",
            "[CV] END bootstrap=True, max_depth=30, max_features=auto, min_samples_leaf=2, min_samples_split=2, n_estimators=100; total time=   0.0s\n",
            "[CV] END bootstrap=True, max_depth=30, max_features=auto, min_samples_leaf=2, min_samples_split=2, n_estimators=100; total time=   0.0s\n",
            "[CV] END bootstrap=True, max_depth=30, max_features=auto, min_samples_leaf=2, min_samples_split=2, n_estimators=100; total time=   0.0s\n",
            "[CV] END bootstrap=True, max_depth=20, max_features=sqrt, min_samples_leaf=4, min_samples_split=5, n_estimators=300; total time=   1.2s\n",
            "[CV] END bootstrap=True, max_depth=30, max_features=auto, min_samples_leaf=2, min_samples_split=2, n_estimators=200; total time=   0.0s\n",
            "[CV] END bootstrap=True, max_depth=30, max_features=auto, min_samples_leaf=2, min_samples_split=2, n_estimators=200; total time=   0.0s\n",
            "[CV] END bootstrap=True, max_depth=30, max_features=auto, min_samples_leaf=2, min_samples_split=2, n_estimators=200; total time=   0.0s\n",
            "[CV] END bootstrap=True, max_depth=30, max_features=auto, min_samples_leaf=2, min_samples_split=2, n_estimators=300; total time=   0.0s\n",
            "[CV] END bootstrap=True, max_depth=30, max_features=auto, min_samples_leaf=2, min_samples_split=2, n_estimators=300; total time=   0.0s\n",
            "[CV] END bootstrap=True, max_depth=30, max_features=auto, min_samples_leaf=2, min_samples_split=2, n_estimators=300; total time=   0.0s\n",
            "[CV] END bootstrap=True, max_depth=30, max_features=auto, min_samples_leaf=2, min_samples_split=5, n_estimators=100; total time=   0.0s\n",
            "[CV] END bootstrap=True, max_depth=30, max_features=auto, min_samples_leaf=2, min_samples_split=5, n_estimators=100; total time=   0.0s\n",
            "[CV] END bootstrap=True, max_depth=30, max_features=auto, min_samples_leaf=2, min_samples_split=5, n_estimators=100; total time=   0.0s\n",
            "[CV] END bootstrap=True, max_depth=30, max_features=auto, min_samples_leaf=2, min_samples_split=5, n_estimators=200; total time=   0.0s\n",
            "[CV] END bootstrap=True, max_depth=30, max_features=auto, min_samples_leaf=2, min_samples_split=5, n_estimators=300; total time=   0.0s\n",
            "[CV] END bootstrap=True, max_depth=30, max_features=auto, min_samples_leaf=2, min_samples_split=10, n_estimators=100; total time=   0.0s\n",
            "[CV] END bootstrap=True, max_depth=30, max_features=auto, min_samples_leaf=2, min_samples_split=5, n_estimators=300; total time=   0.0s\n",
            "[CV] END bootstrap=True, max_depth=30, max_features=auto, min_samples_leaf=2, min_samples_split=5, n_estimators=200; total time=   0.0s\n",
            "[CV] END bootstrap=True, max_depth=30, max_features=auto, min_samples_leaf=2, min_samples_split=10, n_estimators=100; total time=   0.0s\n",
            "[CV] END bootstrap=True, max_depth=30, max_features=auto, min_samples_leaf=2, min_samples_split=10, n_estimators=100; total time=   0.0s\n",
            "[CV] END bootstrap=True, max_depth=30, max_features=auto, min_samples_leaf=2, min_samples_split=5, n_estimators=200; total time=   0.0s\n",
            "[CV] END bootstrap=True, max_depth=30, max_features=auto, min_samples_leaf=2, min_samples_split=5, n_estimators=300; total time=   0.0s\n",
            "[CV] END bootstrap=True, max_depth=30, max_features=auto, min_samples_leaf=2, min_samples_split=10, n_estimators=200; total time=   0.0s\n",
            "[CV] END bootstrap=True, max_depth=30, max_features=auto, min_samples_leaf=2, min_samples_split=10, n_estimators=200; total time=   0.0s\n",
            "[CV] END bootstrap=True, max_depth=30, max_features=auto, min_samples_leaf=2, min_samples_split=10, n_estimators=200; total time=   0.0s\n",
            "[CV] END bootstrap=True, max_depth=30, max_features=auto, min_samples_leaf=2, min_samples_split=10, n_estimators=300; total time=   0.0s\n",
            "[CV] END bootstrap=True, max_depth=30, max_features=auto, min_samples_leaf=2, min_samples_split=10, n_estimators=300; total time=   0.0s\n",
            "[CV] END bootstrap=True, max_depth=30, max_features=auto, min_samples_leaf=4, min_samples_split=2, n_estimators=100; total time=   0.0s\n",
            "[CV] END bootstrap=True, max_depth=30, max_features=auto, min_samples_leaf=4, min_samples_split=2, n_estimators=100; total time=   0.0s\n",
            "[CV] END bootstrap=True, max_depth=30, max_features=auto, min_samples_leaf=2, min_samples_split=10, n_estimators=300; total time=   0.0s\n",
            "[CV] END bootstrap=True, max_depth=30, max_features=auto, min_samples_leaf=4, min_samples_split=2, n_estimators=100; total time=   0.0s\n",
            "[CV] END bootstrap=True, max_depth=30, max_features=auto, min_samples_leaf=4, min_samples_split=2, n_estimators=200; total time=   0.0s\n",
            "[CV] END bootstrap=True, max_depth=30, max_features=auto, min_samples_leaf=4, min_samples_split=2, n_estimators=200; total time=   0.0s\n",
            "[CV] END bootstrap=True, max_depth=30, max_features=auto, min_samples_leaf=4, min_samples_split=2, n_estimators=300; total time=   0.0s\n",
            "[CV] END bootstrap=True, max_depth=30, max_features=auto, min_samples_leaf=4, min_samples_split=2, n_estimators=200; total time=   0.0s\n",
            "[CV] END bootstrap=True, max_depth=30, max_features=auto, min_samples_leaf=4, min_samples_split=2, n_estimators=300; total time=   0.0s\n",
            "[CV] END bootstrap=True, max_depth=30, max_features=auto, min_samples_leaf=4, min_samples_split=2, n_estimators=300; total time=   0.0s\n",
            "[CV] END bootstrap=True, max_depth=30, max_features=auto, min_samples_leaf=4, min_samples_split=5, n_estimators=100; total time=   0.0s\n",
            "[CV] END bootstrap=True, max_depth=30, max_features=auto, min_samples_leaf=4, min_samples_split=5, n_estimators=100; total time=   0.0s\n",
            "[CV] END bootstrap=True, max_depth=30, max_features=auto, min_samples_leaf=4, min_samples_split=5, n_estimators=200; total time=   0.0s\n",
            "[CV] END bootstrap=True, max_depth=30, max_features=auto, min_samples_leaf=4, min_samples_split=5, n_estimators=100; total time=   0.0s\n",
            "[CV] END bootstrap=True, max_depth=30, max_features=auto, min_samples_leaf=4, min_samples_split=5, n_estimators=200; total time=   0.0s\n",
            "[CV] END bootstrap=True, max_depth=30, max_features=auto, min_samples_leaf=4, min_samples_split=5, n_estimators=300; total time=   0.0s\n",
            "[CV] END bootstrap=True, max_depth=30, max_features=auto, min_samples_leaf=4, min_samples_split=5, n_estimators=300; total time=   0.0s\n",
            "[CV] END bootstrap=True, max_depth=30, max_features=auto, min_samples_leaf=4, min_samples_split=5, n_estimators=200; total time=   0.0s\n",
            "[CV] END bootstrap=True, max_depth=30, max_features=auto, min_samples_leaf=4, min_samples_split=5, n_estimators=300; total time=   0.0s\n",
            "[CV] END bootstrap=True, max_depth=30, max_features=auto, min_samples_leaf=4, min_samples_split=10, n_estimators=100; total time=   0.0s\n",
            "[CV] END bootstrap=True, max_depth=30, max_features=auto, min_samples_leaf=4, min_samples_split=10, n_estimators=100; total time=   0.0s\n",
            "[CV] END bootstrap=True, max_depth=20, max_features=sqrt, min_samples_leaf=4, min_samples_split=5, n_estimators=300; total time=   1.2s\n",
            "[CV] END bootstrap=True, max_depth=30, max_features=auto, min_samples_leaf=4, min_samples_split=10, n_estimators=100; total time=   0.0s\n",
            "[CV] END bootstrap=True, max_depth=30, max_features=auto, min_samples_leaf=4, min_samples_split=10, n_estimators=200; total time=   0.0s\n",
            "[CV] END bootstrap=True, max_depth=30, max_features=auto, min_samples_leaf=4, min_samples_split=10, n_estimators=200; total time=   0.0s\n",
            "[CV] END bootstrap=True, max_depth=30, max_features=auto, min_samples_leaf=4, min_samples_split=10, n_estimators=200; total time=   0.0s\n",
            "[CV] END bootstrap=True, max_depth=30, max_features=auto, min_samples_leaf=4, min_samples_split=10, n_estimators=300; total time=   0.0s\n",
            "[CV] END bootstrap=True, max_depth=30, max_features=auto, min_samples_leaf=4, min_samples_split=10, n_estimators=300; total time=   0.0s\n",
            "[CV] END bootstrap=True, max_depth=30, max_features=auto, min_samples_leaf=4, min_samples_split=10, n_estimators=300; total time=   0.0s\n",
            "[CV] END bootstrap=True, max_depth=20, max_features=sqrt, min_samples_leaf=4, min_samples_split=10, n_estimators=200; total time=   0.7s\n",
            "[CV] END bootstrap=True, max_depth=20, max_features=sqrt, min_samples_leaf=4, min_samples_split=10, n_estimators=200; total time=   0.8s\n",
            "[CV] END bootstrap=True, max_depth=20, max_features=sqrt, min_samples_leaf=4, min_samples_split=10, n_estimators=200; total time=   0.8s\n",
            "[CV] END bootstrap=True, max_depth=30, max_features=sqrt, min_samples_leaf=1, min_samples_split=2, n_estimators=100; total time=   0.4s\n",
            "[CV] END bootstrap=True, max_depth=30, max_features=sqrt, min_samples_leaf=1, min_samples_split=5, n_estimators=100; total time=   0.5s\n",
            "[CV] END bootstrap=True, max_depth=20, max_features=sqrt, min_samples_leaf=4, min_samples_split=10, n_estimators=300; total time=   1.0s\n",
            "[CV] END bootstrap=True, max_depth=20, max_features=sqrt, min_samples_leaf=4, min_samples_split=10, n_estimators=300; total time=   1.1s\n",
            "[CV] END bootstrap=True, max_depth=30, max_features=sqrt, min_samples_leaf=1, min_samples_split=10, n_estimators=100; total time=   0.4s\n",
            "[CV] END bootstrap=True, max_depth=20, max_features=sqrt, min_samples_leaf=4, min_samples_split=10, n_estimators=300; total time=   1.2s\n",
            "[CV] END bootstrap=True, max_depth=30, max_features=sqrt, min_samples_leaf=1, min_samples_split=2, n_estimators=200; total time=   0.9s\n",
            "[CV] END bootstrap=True, max_depth=30, max_features=sqrt, min_samples_leaf=1, min_samples_split=2, n_estimators=100; total time=   0.5s\n",
            "[CV] END bootstrap=True, max_depth=30, max_features=sqrt, min_samples_leaf=2, min_samples_split=2, n_estimators=100; total time=   0.4s\n",
            "[CV] END bootstrap=True, max_depth=30, max_features=sqrt, min_samples_leaf=1, min_samples_split=10, n_estimators=100; total time=   0.5s\n",
            "[CV] END bootstrap=True, max_depth=30, max_features=sqrt, min_samples_leaf=1, min_samples_split=10, n_estimators=200; total time=   0.9s\n",
            "[CV] END bootstrap=True, max_depth=30, max_features=sqrt, min_samples_leaf=1, min_samples_split=2, n_estimators=300; total time=   1.2s\n",
            "[CV] END bootstrap=True, max_depth=30, max_features=sqrt, min_samples_leaf=1, min_samples_split=2, n_estimators=100; total time=   0.5s\n",
            "[CV] END bootstrap=True, max_depth=30, max_features=sqrt, min_samples_leaf=2, min_samples_split=2, n_estimators=100; total time=   0.4s\n",
            "[CV] END bootstrap=True, max_depth=30, max_features=sqrt, min_samples_leaf=1, min_samples_split=5, n_estimators=200; total time=   0.9s\n",
            "[CV] END bootstrap=True, max_depth=30, max_features=sqrt, min_samples_leaf=1, min_samples_split=5, n_estimators=300; total time=   1.4s\n",
            "[CV] END bootstrap=True, max_depth=30, max_features=sqrt, min_samples_leaf=2, min_samples_split=2, n_estimators=200; total time=   0.9s\n",
            "[CV] END bootstrap=True, max_depth=30, max_features=sqrt, min_samples_leaf=1, min_samples_split=2, n_estimators=200; total time=   0.8s\n",
            "[CV] END bootstrap=True, max_depth=30, max_features=sqrt, min_samples_leaf=2, min_samples_split=2, n_estimators=100; total time=   0.4s\n",
            "[CV] END bootstrap=True, max_depth=30, max_features=sqrt, min_samples_leaf=1, min_samples_split=10, n_estimators=200; total time=   0.8s\n",
            "[CV] END bootstrap=True, max_depth=30, max_features=sqrt, min_samples_leaf=2, min_samples_split=2, n_estimators=300; total time=   1.3s\n",
            "[CV] END bootstrap=True, max_depth=30, max_features=sqrt, min_samples_leaf=2, min_samples_split=5, n_estimators=200; total time=   0.9s\n",
            "[CV] END bootstrap=True, max_depth=30, max_features=sqrt, min_samples_leaf=1, min_samples_split=5, n_estimators=200; total time=   1.0s\n",
            "[CV] END bootstrap=True, max_depth=30, max_features=sqrt, min_samples_leaf=2, min_samples_split=2, n_estimators=200; total time=   0.9s\n",
            "[CV] END bootstrap=True, max_depth=30, max_features=sqrt, min_samples_leaf=1, min_samples_split=10, n_estimators=300; total time=   1.3s\n",
            "[CV] END bootstrap=True, max_depth=30, max_features=sqrt, min_samples_leaf=1, min_samples_split=2, n_estimators=200; total time=   0.8s\n",
            "[CV] END bootstrap=True, max_depth=30, max_features=sqrt, min_samples_leaf=2, min_samples_split=2, n_estimators=200; total time=   0.8s\n",
            "[CV] END bootstrap=True, max_depth=30, max_features=sqrt, min_samples_leaf=1, min_samples_split=5, n_estimators=300; total time=   1.1s\n",
            "[CV] END bootstrap=True, max_depth=30, max_features=sqrt, min_samples_leaf=2, min_samples_split=5, n_estimators=100; total time=   0.4s\n",
            "[CV] END bootstrap=True, max_depth=30, max_features=sqrt, min_samples_leaf=1, min_samples_split=2, n_estimators=300; total time=   1.3s\n",
            "[CV] END bootstrap=True, max_depth=30, max_features=sqrt, min_samples_leaf=1, min_samples_split=10, n_estimators=200; total time=   0.9s\n",
            "[CV] END bootstrap=True, max_depth=30, max_features=sqrt, min_samples_leaf=2, min_samples_split=5, n_estimators=100; total time=   0.4s\n",
            "[CV] END bootstrap=True, max_depth=30, max_features=sqrt, min_samples_leaf=1, min_samples_split=5, n_estimators=100; total time=   0.4s\n",
            "[CV] END bootstrap=True, max_depth=30, max_features=sqrt, min_samples_leaf=2, min_samples_split=5, n_estimators=200; total time=   0.9s\n",
            "[CV] END bootstrap=True, max_depth=30, max_features=sqrt, min_samples_leaf=2, min_samples_split=10, n_estimators=100; total time=   0.4s\n",
            "[CV] END bootstrap=True, max_depth=30, max_features=sqrt, min_samples_leaf=1, min_samples_split=5, n_estimators=200; total time=   0.9s\n",
            "[CV] END bootstrap=True, max_depth=30, max_features=sqrt, min_samples_leaf=2, min_samples_split=5, n_estimators=100; total time=   0.4s\n",
            "[CV] END bootstrap=True, max_depth=30, max_features=sqrt, min_samples_leaf=1, min_samples_split=5, n_estimators=100; total time=   0.5s\n",
            "[CV] END bootstrap=True, max_depth=30, max_features=sqrt, min_samples_leaf=2, min_samples_split=2, n_estimators=300; total time=   1.2s\n",
            "[CV] END bootstrap=True, max_depth=30, max_features=sqrt, min_samples_leaf=1, min_samples_split=10, n_estimators=300; total time=   1.2s\n",
            "[CV] END bootstrap=True, max_depth=30, max_features=sqrt, min_samples_leaf=4, min_samples_split=2, n_estimators=100; total time=   0.3s\n",
            "[CV] END bootstrap=True, max_depth=30, max_features=sqrt, min_samples_leaf=1, min_samples_split=2, n_estimators=300; total time=   1.3s\n",
            "[CV] END bootstrap=True, max_depth=30, max_features=sqrt, min_samples_leaf=2, min_samples_split=5, n_estimators=300; total time=   1.3s\n",
            "[CV] END bootstrap=True, max_depth=30, max_features=sqrt, min_samples_leaf=1, min_samples_split=5, n_estimators=300; total time=   1.3s\n",
            "[CV] END bootstrap=True, max_depth=30, max_features=sqrt, min_samples_leaf=2, min_samples_split=5, n_estimators=200; total time=   0.8s\n",
            "[CV] END bootstrap=True, max_depth=30, max_features=sqrt, min_samples_leaf=2, min_samples_split=10, n_estimators=200; total time=   0.8s\n",
            "[CV] END bootstrap=True, max_depth=30, max_features=sqrt, min_samples_leaf=4, min_samples_split=2, n_estimators=100; total time=   0.4s\n",
            "[CV] END bootstrap=True, max_depth=30, max_features=sqrt, min_samples_leaf=4, min_samples_split=5, n_estimators=100; total time=   0.4s\n",
            "[CV] END bootstrap=True, max_depth=30, max_features=sqrt, min_samples_leaf=4, min_samples_split=2, n_estimators=200; total time=   0.8s\n",
            "[CV] END bootstrap=True, max_depth=30, max_features=sqrt, min_samples_leaf=1, min_samples_split=10, n_estimators=100; total time=   0.4s\n",
            "[CV] END bootstrap=True, max_depth=30, max_features=sqrt, min_samples_leaf=2, min_samples_split=10, n_estimators=300; total time=   1.4s\n",
            "[CV] END bootstrap=True, max_depth=30, max_features=sqrt, min_samples_leaf=4, min_samples_split=5, n_estimators=100; total time=   0.4s\n",
            "[CV] END bootstrap=True, max_depth=30, max_features=sqrt, min_samples_leaf=2, min_samples_split=2, n_estimators=300; total time=   1.2s\n",
            "[CV] END bootstrap=True, max_depth=30, max_features=sqrt, min_samples_leaf=2, min_samples_split=10, n_estimators=200; total time=   0.9s\n",
            "[CV] END bootstrap=True, max_depth=30, max_features=sqrt, min_samples_leaf=1, min_samples_split=10, n_estimators=300; total time=   1.3s\n",
            "[CV] END bootstrap=True, max_depth=30, max_features=sqrt, min_samples_leaf=4, min_samples_split=2, n_estimators=200; total time=   0.7s\n",
            "[CV] END bootstrap=True, max_depth=30, max_features=sqrt, min_samples_leaf=4, min_samples_split=5, n_estimators=100; total time=   0.3s\n",
            "[CV] END bootstrap=True, max_depth=30, max_features=sqrt, min_samples_leaf=2, min_samples_split=5, n_estimators=300; total time=   1.3s\n",
            "[CV] END bootstrap=True, max_depth=30, max_features=sqrt, min_samples_leaf=4, min_samples_split=5, n_estimators=200; total time=   0.8s\n",
            "[CV] END bootstrap=True, max_depth=30, max_features=sqrt, min_samples_leaf=2, min_samples_split=5, n_estimators=300; total time=   1.4s\n",
            "[CV] END bootstrap=True, max_depth=None, max_features=auto, min_samples_leaf=1, min_samples_split=2, n_estimators=100; total time=   0.0s\n",
            "[CV] END bootstrap=True, max_depth=None, max_features=auto, min_samples_leaf=1, min_samples_split=2, n_estimators=200; total time=   0.0s\n",
            "[CV] END bootstrap=True, max_depth=None, max_features=auto, min_samples_leaf=1, min_samples_split=2, n_estimators=200; total time=   0.0s\n",
            "[CV] END bootstrap=True, max_depth=None, max_features=auto, min_samples_leaf=1, min_samples_split=2, n_estimators=200; total time=   0.0s\n",
            "[CV] END bootstrap=True, max_depth=None, max_features=auto, min_samples_leaf=1, min_samples_split=2, n_estimators=300; total time=   0.0s\n",
            "[CV] END bootstrap=True, max_depth=None, max_features=auto, min_samples_leaf=1, min_samples_split=2, n_estimators=300; total time=   0.0s\n",
            "[CV] END bootstrap=True, max_depth=None, max_features=auto, min_samples_leaf=1, min_samples_split=2, n_estimators=300; total time=   0.0s\n",
            "[CV] END bootstrap=True, max_depth=None, max_features=auto, min_samples_leaf=1, min_samples_split=5, n_estimators=100; total time=   0.0s\n",
            "[CV] END bootstrap=True, max_depth=None, max_features=auto, min_samples_leaf=1, min_samples_split=5, n_estimators=100; total time=   0.0s\n",
            "[CV] END bootstrap=True, max_depth=None, max_features=auto, min_samples_leaf=1, min_samples_split=5, n_estimators=100; total time=   0.0s\n",
            "[CV] END bootstrap=True, max_depth=None, max_features=auto, min_samples_leaf=1, min_samples_split=5, n_estimators=200; total time=   0.0s\n",
            "[CV] END bootstrap=True, max_depth=None, max_features=auto, min_samples_leaf=1, min_samples_split=5, n_estimators=200; total time=   0.0s\n",
            "[CV] END bootstrap=True, max_depth=None, max_features=auto, min_samples_leaf=1, min_samples_split=5, n_estimators=200; total time=   0.0s\n",
            "[CV] END bootstrap=True, max_depth=None, max_features=auto, min_samples_leaf=1, min_samples_split=5, n_estimators=300; total time=   0.0s\n",
            "[CV] END bootstrap=True, max_depth=None, max_features=auto, min_samples_leaf=1, min_samples_split=5, n_estimators=300; total time=   0.0s\n",
            "[CV] END bootstrap=True, max_depth=None, max_features=auto, min_samples_leaf=1, min_samples_split=5, n_estimators=300; total time=   0.0s\n",
            "[CV] END bootstrap=True, max_depth=None, max_features=auto, min_samples_leaf=1, min_samples_split=10, n_estimators=100; total time=   0.0s\n",
            "[CV] END bootstrap=True, max_depth=None, max_features=auto, min_samples_leaf=1, min_samples_split=10, n_estimators=100; total time=   0.0s\n",
            "[CV] END bootstrap=True, max_depth=None, max_features=auto, min_samples_leaf=1, min_samples_split=10, n_estimators=100; total time=   0.0s\n",
            "[CV] END bootstrap=True, max_depth=None, max_features=auto, min_samples_leaf=1, min_samples_split=10, n_estimators=200; total time=   0.0s\n",
            "[CV] END bootstrap=True, max_depth=None, max_features=auto, min_samples_leaf=1, min_samples_split=10, n_estimators=200; total time=   0.0s\n",
            "[CV] END bootstrap=True, max_depth=None, max_features=auto, min_samples_leaf=1, min_samples_split=10, n_estimators=200; total time=   0.0s\n",
            "[CV] END bootstrap=True, max_depth=None, max_features=auto, min_samples_leaf=1, min_samples_split=10, n_estimators=300; total time=   0.0s\n",
            "[CV] END bootstrap=True, max_depth=None, max_features=auto, min_samples_leaf=1, min_samples_split=10, n_estimators=300; total time=   0.0s\n",
            "[CV] END bootstrap=True, max_depth=None, max_features=auto, min_samples_leaf=1, min_samples_split=10, n_estimators=300; total time=   0.0s\n",
            "[CV] END bootstrap=True, max_depth=None, max_features=auto, min_samples_leaf=2, min_samples_split=2, n_estimators=100; total time=   0.0s\n",
            "[CV] END bootstrap=True, max_depth=None, max_features=auto, min_samples_leaf=2, min_samples_split=2, n_estimators=100; total time=   0.0s\n",
            "[CV] END bootstrap=True, max_depth=None, max_features=auto, min_samples_leaf=2, min_samples_split=2, n_estimators=100; total time=   0.0s\n",
            "[CV] END bootstrap=True, max_depth=None, max_features=auto, min_samples_leaf=2, min_samples_split=2, n_estimators=200; total time=   0.0s\n",
            "[CV] END bootstrap=True, max_depth=None, max_features=auto, min_samples_leaf=2, min_samples_split=2, n_estimators=200; total time=   0.0s\n",
            "[CV] END bootstrap=True, max_depth=None, max_features=auto, min_samples_leaf=2, min_samples_split=2, n_estimators=200; total time=   0.0s\n",
            "[CV] END bootstrap=True, max_depth=None, max_features=auto, min_samples_leaf=2, min_samples_split=2, n_estimators=300; total time=   0.0s\n",
            "[CV] END bootstrap=True, max_depth=None, max_features=auto, min_samples_leaf=2, min_samples_split=2, n_estimators=300; total time=   0.0s\n",
            "[CV] END bootstrap=True, max_depth=None, max_features=auto, min_samples_leaf=2, min_samples_split=2, n_estimators=300; total time=   0.0s\n",
            "[CV] END bootstrap=True, max_depth=None, max_features=auto, min_samples_leaf=2, min_samples_split=5, n_estimators=100; total time=   0.0s\n",
            "[CV] END bootstrap=True, max_depth=None, max_features=auto, min_samples_leaf=2, min_samples_split=5, n_estimators=100; total time=   0.0s\n",
            "[CV] END bootstrap=True, max_depth=None, max_features=auto, min_samples_leaf=2, min_samples_split=5, n_estimators=100; total time=   0.0s\n",
            "[CV] END bootstrap=True, max_depth=None, max_features=auto, min_samples_leaf=2, min_samples_split=5, n_estimators=200; total time=   0.0s\n",
            "[CV] END bootstrap=True, max_depth=None, max_features=auto, min_samples_leaf=2, min_samples_split=5, n_estimators=200; total time=   0.0s\n",
            "[CV] END bootstrap=True, max_depth=30, max_features=sqrt, min_samples_leaf=4, min_samples_split=2, n_estimators=300; total time=   1.1s\n",
            "[CV] END bootstrap=True, max_depth=None, max_features=auto, min_samples_leaf=2, min_samples_split=5, n_estimators=200; total time=   0.0s\n",
            "[CV] END bootstrap=True, max_depth=None, max_features=auto, min_samples_leaf=2, min_samples_split=5, n_estimators=300; total time=   0.0s\n",
            "[CV] END bootstrap=True, max_depth=None, max_features=auto, min_samples_leaf=2, min_samples_split=5, n_estimators=300; total time=   0.0s\n",
            "[CV] END bootstrap=True, max_depth=None, max_features=auto, min_samples_leaf=2, min_samples_split=5, n_estimators=300; total time=   0.0s\n",
            "[CV] END bootstrap=True, max_depth=None, max_features=auto, min_samples_leaf=2, min_samples_split=10, n_estimators=100; total time=   0.0s\n",
            "[CV] END bootstrap=True, max_depth=None, max_features=auto, min_samples_leaf=2, min_samples_split=10, n_estimators=100; total time=   0.0s\n",
            "[CV] END bootstrap=True, max_depth=None, max_features=auto, min_samples_leaf=2, min_samples_split=10, n_estimators=100; total time=   0.0s\n",
            "[CV] END bootstrap=True, max_depth=None, max_features=auto, min_samples_leaf=2, min_samples_split=10, n_estimators=200; total time=   0.0s\n",
            "[CV] END bootstrap=True, max_depth=None, max_features=auto, min_samples_leaf=2, min_samples_split=10, n_estimators=200; total time=   0.0s\n",
            "[CV] END bootstrap=True, max_depth=None, max_features=auto, min_samples_leaf=2, min_samples_split=10, n_estimators=200; total time=   0.0s\n",
            "[CV] END bootstrap=True, max_depth=None, max_features=auto, min_samples_leaf=2, min_samples_split=10, n_estimators=300; total time=   0.0s\n",
            "[CV] END bootstrap=True, max_depth=None, max_features=auto, min_samples_leaf=2, min_samples_split=10, n_estimators=300; total time=   0.0s\n",
            "[CV] END bootstrap=True, max_depth=None, max_features=auto, min_samples_leaf=2, min_samples_split=10, n_estimators=300; total time=   0.0s\n",
            "[CV] END bootstrap=True, max_depth=None, max_features=auto, min_samples_leaf=4, min_samples_split=2, n_estimators=100; total time=   0.0s\n",
            "[CV] END bootstrap=True, max_depth=None, max_features=auto, min_samples_leaf=4, min_samples_split=2, n_estimators=100; total time=   0.0s\n",
            "[CV] END bootstrap=True, max_depth=None, max_features=auto, min_samples_leaf=4, min_samples_split=2, n_estimators=100; total time=   0.0s\n",
            "[CV] END bootstrap=True, max_depth=None, max_features=auto, min_samples_leaf=4, min_samples_split=2, n_estimators=200; total time=   0.0s\n",
            "[CV] END bootstrap=True, max_depth=None, max_features=auto, min_samples_leaf=4, min_samples_split=2, n_estimators=200; total time=   0.0s\n",
            "[CV] END bootstrap=True, max_depth=None, max_features=auto, min_samples_leaf=4, min_samples_split=2, n_estimators=200; total time=   0.0s\n",
            "[CV] END bootstrap=True, max_depth=None, max_features=auto, min_samples_leaf=4, min_samples_split=2, n_estimators=300; total time=   0.0s\n",
            "[CV] END bootstrap=True, max_depth=None, max_features=auto, min_samples_leaf=4, min_samples_split=2, n_estimators=300; total time=   0.0s\n",
            "[CV] END bootstrap=True, max_depth=None, max_features=auto, min_samples_leaf=4, min_samples_split=2, n_estimators=300; total time=   0.0s\n",
            "[CV] END bootstrap=True, max_depth=None, max_features=auto, min_samples_leaf=4, min_samples_split=5, n_estimators=100; total time=   0.0s\n",
            "[CV] END bootstrap=True, max_depth=None, max_features=auto, min_samples_leaf=4, min_samples_split=5, n_estimators=100; total time=   0.0s\n",
            "[CV] END bootstrap=True, max_depth=None, max_features=auto, min_samples_leaf=4, min_samples_split=5, n_estimators=100; total time=   0.0s\n",
            "[CV] END bootstrap=True, max_depth=None, max_features=auto, min_samples_leaf=4, min_samples_split=5, n_estimators=200; total time=   0.0s\n",
            "[CV] END bootstrap=True, max_depth=None, max_features=auto, min_samples_leaf=4, min_samples_split=5, n_estimators=200; total time=   0.0s\n",
            "[CV] END bootstrap=True, max_depth=None, max_features=auto, min_samples_leaf=4, min_samples_split=5, n_estimators=200; total time=   0.0s\n",
            "[CV] END bootstrap=True, max_depth=None, max_features=auto, min_samples_leaf=4, min_samples_split=5, n_estimators=300; total time=   0.0s\n",
            "[CV] END bootstrap=True, max_depth=None, max_features=auto, min_samples_leaf=4, min_samples_split=5, n_estimators=300; total time=   0.0s\n",
            "[CV] END bootstrap=True, max_depth=None, max_features=auto, min_samples_leaf=4, min_samples_split=5, n_estimators=300; total time=   0.0s\n",
            "[CV] END bootstrap=True, max_depth=None, max_features=auto, min_samples_leaf=4, min_samples_split=10, n_estimators=100; total time=   0.0s\n",
            "[CV] END bootstrap=True, max_depth=None, max_features=auto, min_samples_leaf=4, min_samples_split=10, n_estimators=100; total time=   0.0s\n",
            "[CV] END bootstrap=True, max_depth=None, max_features=auto, min_samples_leaf=4, min_samples_split=10, n_estimators=100; total time=   0.0s\n",
            "[CV] END bootstrap=True, max_depth=None, max_features=auto, min_samples_leaf=4, min_samples_split=10, n_estimators=200; total time=   0.0s\n",
            "[CV] END bootstrap=True, max_depth=30, max_features=sqrt, min_samples_leaf=2, min_samples_split=10, n_estimators=100; total time=   0.4s\n",
            "[CV] END bootstrap=True, max_depth=None, max_features=auto, min_samples_leaf=4, min_samples_split=10, n_estimators=200; total time=   0.0s\n",
            "[CV] END bootstrap=True, max_depth=None, max_features=auto, min_samples_leaf=4, min_samples_split=10, n_estimators=200; total time=   0.0s\n",
            "[CV] END bootstrap=True, max_depth=None, max_features=auto, min_samples_leaf=4, min_samples_split=10, n_estimators=300; total time=   0.0s\n",
            "[CV] END bootstrap=True, max_depth=None, max_features=auto, min_samples_leaf=4, min_samples_split=10, n_estimators=300; total time=   0.0s\n",
            "[CV] END bootstrap=True, max_depth=None, max_features=auto, min_samples_leaf=4, min_samples_split=10, n_estimators=300; total time=   0.0s\n",
            "[CV] END bootstrap=True, max_depth=30, max_features=sqrt, min_samples_leaf=4, min_samples_split=10, n_estimators=200; total time=   0.8s\n",
            "[CV] END bootstrap=True, max_depth=30, max_features=sqrt, min_samples_leaf=2, min_samples_split=10, n_estimators=200; total time=   0.9s\n",
            "[CV] END bootstrap=True, max_depth=30, max_features=sqrt, min_samples_leaf=4, min_samples_split=2, n_estimators=200; total time=   0.8s\n",
            "[CV] END bootstrap=True, max_depth=30, max_features=sqrt, min_samples_leaf=2, min_samples_split=10, n_estimators=300; total time=   1.2s\n",
            "[CV] END bootstrap=True, max_depth=30, max_features=sqrt, min_samples_leaf=4, min_samples_split=5, n_estimators=200; total time=   0.8s\n",
            "[CV] END bootstrap=True, max_depth=30, max_features=sqrt, min_samples_leaf=2, min_samples_split=10, n_estimators=100; total time=   0.4s\n",
            "[CV] END bootstrap=True, max_depth=None, max_features=sqrt, min_samples_leaf=1, min_samples_split=2, n_estimators=100; total time=   0.4s\n",
            "[CV] END bootstrap=True, max_depth=30, max_features=sqrt, min_samples_leaf=4, min_samples_split=5, n_estimators=200; total time=   0.7s\n",
            "[CV] END bootstrap=True, max_depth=30, max_features=sqrt, min_samples_leaf=4, min_samples_split=5, n_estimators=300; total time=   1.3s\n",
            "[CV] END bootstrap=True, max_depth=None, max_features=sqrt, min_samples_leaf=1, min_samples_split=5, n_estimators=100; total time=   0.4s\n",
            "[CV] END bootstrap=True, max_depth=None, max_features=sqrt, min_samples_leaf=1, min_samples_split=2, n_estimators=100; total time=   0.4s\n",
            "[CV] END bootstrap=True, max_depth=30, max_features=sqrt, min_samples_leaf=4, min_samples_split=10, n_estimators=100; total time=   0.4s\n",
            "[CV] END bootstrap=True, max_depth=30, max_features=sqrt, min_samples_leaf=4, min_samples_split=10, n_estimators=200; total time=   0.8s\n",
            "[CV] END bootstrap=True, max_depth=None, max_features=sqrt, min_samples_leaf=1, min_samples_split=5, n_estimators=100; total time=   0.5s\n",
            "[CV] END bootstrap=True, max_depth=30, max_features=sqrt, min_samples_leaf=4, min_samples_split=2, n_estimators=300; total time=   1.2s\n",
            "[CV] END bootstrap=True, max_depth=None, max_features=sqrt, min_samples_leaf=1, min_samples_split=2, n_estimators=100; total time=   0.5s\n",
            "[CV] END bootstrap=True, max_depth=30, max_features=sqrt, min_samples_leaf=4, min_samples_split=10, n_estimators=100; total time=   0.5s\n",
            "[CV] END bootstrap=True, max_depth=None, max_features=sqrt, min_samples_leaf=1, min_samples_split=5, n_estimators=300; total time=   1.4s\n",
            "[CV] END bootstrap=True, max_depth=30, max_features=sqrt, min_samples_leaf=2, min_samples_split=10, n_estimators=300; total time=   1.4s\n",
            "[CV] END bootstrap=True, max_depth=None, max_features=sqrt, min_samples_leaf=1, min_samples_split=5, n_estimators=100; total time=   0.6s\n",
            "[CV] END bootstrap=True, max_depth=30, max_features=sqrt, min_samples_leaf=4, min_samples_split=5, n_estimators=300; total time=   1.3s\n",
            "[CV] END bootstrap=True, max_depth=None, max_features=sqrt, min_samples_leaf=1, min_samples_split=10, n_estimators=300; total time=   1.4s\n",
            "[CV] END bootstrap=True, max_depth=30, max_features=sqrt, min_samples_leaf=4, min_samples_split=10, n_estimators=100; total time=   0.5s\n",
            "[CV] END bootstrap=True, max_depth=None, max_features=sqrt, min_samples_leaf=2, min_samples_split=2, n_estimators=300; total time=   1.4s\n",
            "[CV] END bootstrap=True, max_depth=30, max_features=sqrt, min_samples_leaf=4, min_samples_split=10, n_estimators=200; total time=   1.0s\n",
            "[CV] END bootstrap=True, max_depth=30, max_features=sqrt, min_samples_leaf=4, min_samples_split=2, n_estimators=100; total time=   0.4s\n",
            "[CV] END bootstrap=True, max_depth=None, max_features=sqrt, min_samples_leaf=1, min_samples_split=10, n_estimators=100; total time=   0.4s\n",
            "[CV] END bootstrap=True, max_depth=None, max_features=sqrt, min_samples_leaf=1, min_samples_split=2, n_estimators=200; total time=   1.0s\n",
            "[CV] END bootstrap=True, max_depth=30, max_features=sqrt, min_samples_leaf=4, min_samples_split=2, n_estimators=300; total time=   1.4s\n",
            "[CV] END bootstrap=True, max_depth=None, max_features=sqrt, min_samples_leaf=1, min_samples_split=10, n_estimators=100; total time=   0.4s\n",
            "[CV] END bootstrap=True, max_depth=None, max_features=sqrt, min_samples_leaf=1, min_samples_split=5, n_estimators=200; total time=   0.9s\n",
            "[CV] END bootstrap=True, max_depth=None, max_features=sqrt, min_samples_leaf=2, min_samples_split=5, n_estimators=200; total time=   0.8s\n",
            "[CV] END bootstrap=True, max_depth=None, max_features=sqrt, min_samples_leaf=2, min_samples_split=10, n_estimators=200; total time=   0.8s\n",
            "[CV] END bootstrap=True, max_depth=None, max_features=sqrt, min_samples_leaf=1, min_samples_split=10, n_estimators=100; total time=   0.5s\n",
            "[CV] END bootstrap=True, max_depth=30, max_features=sqrt, min_samples_leaf=4, min_samples_split=5, n_estimators=300; total time=   1.2s\n",
            "[CV] END bootstrap=True, max_depth=None, max_features=sqrt, min_samples_leaf=1, min_samples_split=2, n_estimators=200; total time=   0.9s\n",
            "[CV] END bootstrap=True, max_depth=30, max_features=sqrt, min_samples_leaf=4, min_samples_split=10, n_estimators=300; total time=   1.1s\n",
            "[CV] END bootstrap=True, max_depth=None, max_features=sqrt, min_samples_leaf=1, min_samples_split=10, n_estimators=300; total time=   1.3s\n",
            "[CV] END bootstrap=True, max_depth=None, max_features=sqrt, min_samples_leaf=2, min_samples_split=2, n_estimators=300; total time=   1.3s\n",
            "[CV] END bootstrap=True, max_depth=None, max_features=sqrt, min_samples_leaf=4, min_samples_split=2, n_estimators=200; total time=   0.8s\n",
            "[CV] END bootstrap=True, max_depth=None, max_features=sqrt, min_samples_leaf=4, min_samples_split=5, n_estimators=100; total time=   0.4s\n",
            "[CV] END bootstrap=True, max_depth=None, max_features=sqrt, min_samples_leaf=1, min_samples_split=5, n_estimators=200; total time=   0.9s\n",
            "[CV] END bootstrap=True, max_depth=None, max_features=sqrt, min_samples_leaf=2, min_samples_split=2, n_estimators=100; total time=   0.4s\n",
            "[CV] END bootstrap=True, max_depth=None, max_features=sqrt, min_samples_leaf=1, min_samples_split=10, n_estimators=200; total time=   0.8s\n",
            "[CV] END bootstrap=True, max_depth=None, max_features=sqrt, min_samples_leaf=2, min_samples_split=10, n_estimators=200; total time=   0.9s\n",
            "[CV] END bootstrap=True, max_depth=None, max_features=sqrt, min_samples_leaf=1, min_samples_split=2, n_estimators=200; total time=   0.9s\n",
            "[CV] END bootstrap=True, max_depth=None, max_features=sqrt, min_samples_leaf=2, min_samples_split=5, n_estimators=300; total time=   1.3s\n",
            "[CV] END bootstrap=True, max_depth=None, max_features=sqrt, min_samples_leaf=2, min_samples_split=2, n_estimators=100; total time=   0.4s\n",
            "[CV] END bootstrap=True, max_depth=None, max_features=sqrt, min_samples_leaf=4, min_samples_split=2, n_estimators=200; total time=   0.8s\n",
            "[CV] END bootstrap=True, max_depth=None, max_features=sqrt, min_samples_leaf=4, min_samples_split=5, n_estimators=200; total time=   0.8s\n",
            "[CV] END bootstrap=True, max_depth=30, max_features=sqrt, min_samples_leaf=4, min_samples_split=10, n_estimators=300; total time=   1.3s\n",
            "[CV] END bootstrap=True, max_depth=None, max_features=sqrt, min_samples_leaf=2, min_samples_split=2, n_estimators=300; total time=   1.3s\n",
            "[CV] END bootstrap=True, max_depth=None, max_features=sqrt, min_samples_leaf=1, min_samples_split=5, n_estimators=200; total time=   0.9s\n",
            "[CV] END bootstrap=True, max_depth=None, max_features=sqrt, min_samples_leaf=2, min_samples_split=2, n_estimators=100; total time=   0.4s\n",
            "[CV] END bootstrap=True, max_depth=None, max_features=sqrt, min_samples_leaf=1, min_samples_split=10, n_estimators=200; total time=   0.9s\n",
            "[CV] END bootstrap=True, max_depth=None, max_features=sqrt, min_samples_leaf=2, min_samples_split=5, n_estimators=100; total time=   0.4s\n",
            "[CV] END bootstrap=True, max_depth=None, max_features=sqrt, min_samples_leaf=4, min_samples_split=2, n_estimators=200; total time=   0.8s\n",
            "[CV] END bootstrap=True, max_depth=None, max_features=sqrt, min_samples_leaf=4, min_samples_split=5, n_estimators=200; total time=   0.8s\n",
            "[CV] END bootstrap=True, max_depth=None, max_features=sqrt, min_samples_leaf=2, min_samples_split=10, n_estimators=300; total time=   1.2s\n",
            "[CV] END bootstrap=True, max_depth=None, max_features=sqrt, min_samples_leaf=1, min_samples_split=2, n_estimators=300; total time=   1.2s\n",
            "[CV] END bootstrap=True, max_depth=None, max_features=sqrt, min_samples_leaf=2, min_samples_split=2, n_estimators=200; total time=   0.8s\n",
            "[CV] END bootstrap=True, max_depth=None, max_features=sqrt, min_samples_leaf=2, min_samples_split=5, n_estimators=100; total time=   0.5s\n",
            "[CV] END bootstrap=True, max_depth=None, max_features=sqrt, min_samples_leaf=2, min_samples_split=5, n_estimators=300; total time=   1.4s\n",
            "[CV] END bootstrap=True, max_depth=None, max_features=sqrt, min_samples_leaf=1, min_samples_split=10, n_estimators=200; total time=   0.8s\n",
            "[CV] END bootstrap=True, max_depth=30, max_features=sqrt, min_samples_leaf=4, min_samples_split=10, n_estimators=300; total time=   1.4s\n",
            "[CV] END bootstrap=True, max_depth=None, max_features=auto, min_samples_leaf=1, min_samples_split=2, n_estimators=100; total time=   0.0s\n",
            "[CV] END bootstrap=True, max_depth=None, max_features=auto, min_samples_leaf=1, min_samples_split=2, n_estimators=100; total time=   0.0s\n",
            "[CV] END bootstrap=True, max_depth=None, max_features=sqrt, min_samples_leaf=2, min_samples_split=5, n_estimators=100; total time=   0.5s\n",
            "[CV] END bootstrap=True, max_depth=None, max_features=sqrt, min_samples_leaf=1, min_samples_split=5, n_estimators=300; total time=   1.3s\n",
            "[CV] END bootstrap=True, max_depth=None, max_features=sqrt, min_samples_leaf=4, min_samples_split=5, n_estimators=200; total time=   0.9s\n",
            "[CV] END bootstrap=True, max_depth=None, max_features=sqrt, min_samples_leaf=4, min_samples_split=2, n_estimators=300; total time=   1.4s\n",
            "[CV] END bootstrap=True, max_depth=None, max_features=sqrt, min_samples_leaf=4, min_samples_split=10, n_estimators=100; total time=   0.5s\n",
            "[CV] END bootstrap=True, max_depth=None, max_features=sqrt, min_samples_leaf=2, min_samples_split=2, n_estimators=200; total time=   1.0s\n",
            "[CV] END bootstrap=True, max_depth=None, max_features=sqrt, min_samples_leaf=2, min_samples_split=10, n_estimators=300; total time=   1.4s\n",
            "[CV] END bootstrap=True, max_depth=None, max_features=sqrt, min_samples_leaf=1, min_samples_split=2, n_estimators=300; total time=   1.5s\n",
            "[CV] END bootstrap=True, max_depth=None, max_features=sqrt, min_samples_leaf=4, min_samples_split=10, n_estimators=100; total time=   0.4s\n",
            "[CV] END bootstrap=True, max_depth=None, max_features=sqrt, min_samples_leaf=2, min_samples_split=5, n_estimators=300; total time=   1.4s\n",
            "[CV] END bootstrap=True, max_depth=None, max_features=sqrt, min_samples_leaf=2, min_samples_split=5, n_estimators=200; total time=   1.0s\n",
            "[CV] END bootstrap=True, max_depth=None, max_features=sqrt, min_samples_leaf=1, min_samples_split=10, n_estimators=300; total time=   1.4s\n",
            "[CV] END bootstrap=True, max_depth=None, max_features=sqrt, min_samples_leaf=4, min_samples_split=5, n_estimators=300; total time=   1.3s\n",
            "[CV] END bootstrap=True, max_depth=None, max_features=sqrt, min_samples_leaf=2, min_samples_split=10, n_estimators=100; total time=   0.4s\n",
            "[CV] END bootstrap=True, max_depth=None, max_features=sqrt, min_samples_leaf=2, min_samples_split=2, n_estimators=200; total time=   0.9s\n",
            "[CV] END bootstrap=True, max_depth=None, max_features=sqrt, min_samples_leaf=1, min_samples_split=5, n_estimators=300; total time=   1.4s\n",
            "[CV] END bootstrap=True, max_depth=None, max_features=sqrt, min_samples_leaf=4, min_samples_split=2, n_estimators=300; total time=   1.2s\n",
            "[CV] END bootstrap=True, max_depth=None, max_features=sqrt, min_samples_leaf=4, min_samples_split=10, n_estimators=200; total time=   0.8s\n",
            "[CV] END bootstrap=True, max_depth=None, max_features=sqrt, min_samples_leaf=2, min_samples_split=10, n_estimators=100; total time=   0.4s\n",
            "[CV] END bootstrap=True, max_depth=None, max_features=sqrt, min_samples_leaf=2, min_samples_split=10, n_estimators=300; total time=   1.3s\n",
            "[CV] END bootstrap=True, max_depth=None, max_features=sqrt, min_samples_leaf=2, min_samples_split=5, n_estimators=200; total time=   0.9s\n",
            "[CV] END bootstrap=True, max_depth=None, max_features=sqrt, min_samples_leaf=4, min_samples_split=10, n_estimators=200; total time=   0.9s\n",
            "[CV] END bootstrap=False, max_depth=10, max_features=auto, min_samples_leaf=1, min_samples_split=2, n_estimators=100; total time=   0.0s\n",
            "[CV] END bootstrap=False, max_depth=10, max_features=auto, min_samples_leaf=1, min_samples_split=2, n_estimators=100; total time=   0.0s\n",
            "[CV] END bootstrap=False, max_depth=10, max_features=auto, min_samples_leaf=1, min_samples_split=2, n_estimators=100; total time=   0.0s\n",
            "[CV] END bootstrap=False, max_depth=10, max_features=auto, min_samples_leaf=1, min_samples_split=2, n_estimators=200; total time=   0.0s\n",
            "[CV] END bootstrap=False, max_depth=10, max_features=auto, min_samples_leaf=1, min_samples_split=2, n_estimators=200; total time=   0.0s\n",
            "[CV] END bootstrap=False, max_depth=10, max_features=auto, min_samples_leaf=1, min_samples_split=2, n_estimators=200; total time=   0.0s\n",
            "[CV] END bootstrap=False, max_depth=10, max_features=auto, min_samples_leaf=1, min_samples_split=2, n_estimators=300; total time=   0.0s\n",
            "[CV] END bootstrap=False, max_depth=10, max_features=auto, min_samples_leaf=1, min_samples_split=2, n_estimators=300; total time=   0.0s\n",
            "[CV] END bootstrap=False, max_depth=10, max_features=auto, min_samples_leaf=1, min_samples_split=2, n_estimators=300; total time=   0.0s\n",
            "[CV] END bootstrap=False, max_depth=10, max_features=auto, min_samples_leaf=1, min_samples_split=5, n_estimators=100; total time=   0.0s\n",
            "[CV] END bootstrap=False, max_depth=10, max_features=auto, min_samples_leaf=1, min_samples_split=5, n_estimators=100; total time=   0.0s\n",
            "[CV] END bootstrap=False, max_depth=10, max_features=auto, min_samples_leaf=1, min_samples_split=5, n_estimators=100; total time=   0.0s\n",
            "[CV] END bootstrap=False, max_depth=10, max_features=auto, min_samples_leaf=1, min_samples_split=5, n_estimators=200; total time=   0.0s\n",
            "[CV] END bootstrap=False, max_depth=10, max_features=auto, min_samples_leaf=1, min_samples_split=5, n_estimators=200; total time=   0.0s\n",
            "[CV] END bootstrap=True, max_depth=None, max_features=sqrt, min_samples_leaf=1, min_samples_split=2, n_estimators=300; total time=   1.3s\n",
            "[CV] END bootstrap=False, max_depth=10, max_features=auto, min_samples_leaf=1, min_samples_split=5, n_estimators=200; total time=   0.0s\n",
            "[CV] END bootstrap=False, max_depth=10, max_features=auto, min_samples_leaf=1, min_samples_split=5, n_estimators=300; total time=   0.0s\n",
            "[CV] END bootstrap=False, max_depth=10, max_features=auto, min_samples_leaf=1, min_samples_split=5, n_estimators=300; total time=   0.0s\n",
            "[CV] END bootstrap=False, max_depth=10, max_features=auto, min_samples_leaf=1, min_samples_split=5, n_estimators=300; total time=   0.0s\n",
            "[CV] END bootstrap=False, max_depth=10, max_features=auto, min_samples_leaf=1, min_samples_split=10, n_estimators=100; total time=   0.0s\n",
            "[CV] END bootstrap=False, max_depth=10, max_features=auto, min_samples_leaf=1, min_samples_split=10, n_estimators=100; total time=   0.0s\n",
            "[CV] END bootstrap=False, max_depth=10, max_features=auto, min_samples_leaf=1, min_samples_split=10, n_estimators=100; total time=   0.0s\n",
            "[CV] END bootstrap=False, max_depth=10, max_features=auto, min_samples_leaf=1, min_samples_split=10, n_estimators=200; total time=   0.0s\n",
            "[CV] END bootstrap=False, max_depth=10, max_features=auto, min_samples_leaf=1, min_samples_split=10, n_estimators=200; total time=   0.0s\n",
            "[CV] END bootstrap=False, max_depth=10, max_features=auto, min_samples_leaf=1, min_samples_split=10, n_estimators=200; total time=   0.0s\n",
            "[CV] END bootstrap=False, max_depth=10, max_features=auto, min_samples_leaf=1, min_samples_split=10, n_estimators=300; total time=   0.0s\n",
            "[CV] END bootstrap=False, max_depth=10, max_features=auto, min_samples_leaf=1, min_samples_split=10, n_estimators=300; total time=   0.0s\n",
            "[CV] END bootstrap=False, max_depth=10, max_features=auto, min_samples_leaf=1, min_samples_split=10, n_estimators=300; total time=   0.0s\n",
            "[CV] END bootstrap=False, max_depth=10, max_features=auto, min_samples_leaf=2, min_samples_split=2, n_estimators=100; total time=   0.0s\n",
            "[CV] END bootstrap=False, max_depth=10, max_features=auto, min_samples_leaf=2, min_samples_split=2, n_estimators=100; total time=   0.0s\n",
            "[CV] END bootstrap=False, max_depth=10, max_features=auto, min_samples_leaf=2, min_samples_split=2, n_estimators=100; total time=   0.0s\n",
            "[CV] END bootstrap=False, max_depth=10, max_features=auto, min_samples_leaf=2, min_samples_split=2, n_estimators=200; total time=   0.0s\n",
            "[CV] END bootstrap=False, max_depth=10, max_features=auto, min_samples_leaf=2, min_samples_split=2, n_estimators=200; total time=   0.0s\n",
            "[CV] END bootstrap=True, max_depth=None, max_features=sqrt, min_samples_leaf=4, min_samples_split=10, n_estimators=200; total time=   0.8s\n",
            "[CV] END bootstrap=False, max_depth=10, max_features=auto, min_samples_leaf=2, min_samples_split=2, n_estimators=200; total time=   0.0s\n",
            "[CV] END bootstrap=False, max_depth=10, max_features=auto, min_samples_leaf=2, min_samples_split=2, n_estimators=300; total time=   0.0s\n",
            "[CV] END bootstrap=False, max_depth=10, max_features=auto, min_samples_leaf=2, min_samples_split=5, n_estimators=100; total time=   0.0s\n",
            "[CV] END bootstrap=False, max_depth=10, max_features=auto, min_samples_leaf=2, min_samples_split=5, n_estimators=200; total time=   0.0s\n",
            "[CV] END bootstrap=False, max_depth=10, max_features=auto, min_samples_leaf=2, min_samples_split=2, n_estimators=300; total time=   0.0s\n",
            "[CV] END bootstrap=False, max_depth=10, max_features=auto, min_samples_leaf=2, min_samples_split=5, n_estimators=100; total time=   0.0s\n",
            "[CV] END bootstrap=False, max_depth=10, max_features=auto, min_samples_leaf=2, min_samples_split=2, n_estimators=300; total time=   0.0s\n",
            "[CV] END bootstrap=False, max_depth=10, max_features=auto, min_samples_leaf=2, min_samples_split=5, n_estimators=100; total time=   0.0s\n",
            "[CV] END bootstrap=False, max_depth=10, max_features=auto, min_samples_leaf=2, min_samples_split=5, n_estimators=200; total time=   0.0s\n",
            "[CV] END bootstrap=True, max_depth=None, max_features=sqrt, min_samples_leaf=4, min_samples_split=2, n_estimators=100; total time=   0.3s\n",
            "[CV] END bootstrap=False, max_depth=10, max_features=auto, min_samples_leaf=2, min_samples_split=5, n_estimators=200; total time=   0.0s\n",
            "[CV] END bootstrap=False, max_depth=10, max_features=auto, min_samples_leaf=2, min_samples_split=5, n_estimators=300; total time=   0.0s\n",
            "[CV] END bootstrap=False, max_depth=10, max_features=auto, min_samples_leaf=2, min_samples_split=5, n_estimators=300; total time=   0.0s\n",
            "[CV] END bootstrap=True, max_depth=None, max_features=sqrt, min_samples_leaf=2, min_samples_split=10, n_estimators=100; total time=   0.4s\n",
            "[CV] END bootstrap=False, max_depth=10, max_features=auto, min_samples_leaf=2, min_samples_split=5, n_estimators=300; total time=   0.0s\n",
            "[CV] END bootstrap=False, max_depth=10, max_features=auto, min_samples_leaf=2, min_samples_split=10, n_estimators=100; total time=   0.0s\n",
            "[CV] END bootstrap=False, max_depth=10, max_features=auto, min_samples_leaf=2, min_samples_split=10, n_estimators=100; total time=   0.0s\n",
            "[CV] END bootstrap=False, max_depth=10, max_features=auto, min_samples_leaf=2, min_samples_split=10, n_estimators=100; total time=   0.0s\n",
            "[CV] END bootstrap=False, max_depth=10, max_features=auto, min_samples_leaf=2, min_samples_split=10, n_estimators=200; total time=   0.0s\n",
            "[CV] END bootstrap=False, max_depth=10, max_features=auto, min_samples_leaf=2, min_samples_split=10, n_estimators=200; total time=   0.0s\n",
            "[CV] END bootstrap=False, max_depth=10, max_features=auto, min_samples_leaf=2, min_samples_split=10, n_estimators=200; total time=   0.0s\n",
            "[CV] END bootstrap=False, max_depth=10, max_features=auto, min_samples_leaf=2, min_samples_split=10, n_estimators=300; total time=   0.0s\n",
            "[CV] END bootstrap=False, max_depth=10, max_features=auto, min_samples_leaf=2, min_samples_split=10, n_estimators=300; total time=   0.0s\n",
            "[CV] END bootstrap=False, max_depth=10, max_features=auto, min_samples_leaf=2, min_samples_split=10, n_estimators=300; total time=   0.0s\n",
            "[CV] END bootstrap=False, max_depth=10, max_features=auto, min_samples_leaf=4, min_samples_split=2, n_estimators=100; total time=   0.0s\n",
            "[CV] END bootstrap=False, max_depth=10, max_features=auto, min_samples_leaf=4, min_samples_split=2, n_estimators=100; total time=   0.0s\n",
            "[CV] END bootstrap=False, max_depth=10, max_features=auto, min_samples_leaf=4, min_samples_split=2, n_estimators=100; total time=   0.0s\n",
            "[CV] END bootstrap=False, max_depth=10, max_features=auto, min_samples_leaf=4, min_samples_split=2, n_estimators=200; total time=   0.0s\n",
            "[CV] END bootstrap=False, max_depth=10, max_features=auto, min_samples_leaf=4, min_samples_split=2, n_estimators=300; total time=   0.0s\n",
            "[CV] END bootstrap=False, max_depth=10, max_features=auto, min_samples_leaf=4, min_samples_split=2, n_estimators=200; total time=   0.0s\n",
            "[CV] END bootstrap=False, max_depth=10, max_features=auto, min_samples_leaf=4, min_samples_split=2, n_estimators=300; total time=   0.0s\n",
            "[CV] END bootstrap=False, max_depth=10, max_features=auto, min_samples_leaf=4, min_samples_split=2, n_estimators=200; total time=   0.0s\n",
            "[CV] END bootstrap=False, max_depth=10, max_features=auto, min_samples_leaf=4, min_samples_split=2, n_estimators=300; total time=   0.0s\n",
            "[CV] END bootstrap=False, max_depth=10, max_features=auto, min_samples_leaf=4, min_samples_split=5, n_estimators=100; total time=   0.0s\n",
            "[CV] END bootstrap=False, max_depth=10, max_features=auto, min_samples_leaf=4, min_samples_split=5, n_estimators=100; total time=   0.0s\n",
            "[CV] END bootstrap=False, max_depth=10, max_features=auto, min_samples_leaf=4, min_samples_split=5, n_estimators=100; total time=   0.0s\n",
            "[CV] END bootstrap=False, max_depth=10, max_features=auto, min_samples_leaf=4, min_samples_split=5, n_estimators=200; total time=   0.0s\n",
            "[CV] END bootstrap=False, max_depth=10, max_features=auto, min_samples_leaf=4, min_samples_split=5, n_estimators=200; total time=   0.0s\n",
            "[CV] END bootstrap=False, max_depth=10, max_features=auto, min_samples_leaf=4, min_samples_split=5, n_estimators=200; total time=   0.0s\n",
            "[CV] END bootstrap=False, max_depth=10, max_features=auto, min_samples_leaf=4, min_samples_split=5, n_estimators=300; total time=   0.0s\n",
            "[CV] END bootstrap=False, max_depth=10, max_features=auto, min_samples_leaf=4, min_samples_split=5, n_estimators=300; total time=   0.0s\n",
            "[CV] END bootstrap=False, max_depth=10, max_features=auto, min_samples_leaf=4, min_samples_split=5, n_estimators=300; total time=   0.0s\n",
            "[CV] END bootstrap=False, max_depth=10, max_features=auto, min_samples_leaf=4, min_samples_split=10, n_estimators=100; total time=   0.0s\n",
            "[CV] END bootstrap=False, max_depth=10, max_features=auto, min_samples_leaf=4, min_samples_split=10, n_estimators=100; total time=   0.0s\n",
            "[CV] END bootstrap=False, max_depth=10, max_features=auto, min_samples_leaf=4, min_samples_split=10, n_estimators=100; total time=   0.0s\n",
            "[CV] END bootstrap=False, max_depth=10, max_features=auto, min_samples_leaf=4, min_samples_split=10, n_estimators=200; total time=   0.0s\n",
            "[CV] END bootstrap=False, max_depth=10, max_features=auto, min_samples_leaf=4, min_samples_split=10, n_estimators=200; total time=   0.0s\n",
            "[CV] END bootstrap=False, max_depth=10, max_features=auto, min_samples_leaf=4, min_samples_split=10, n_estimators=200; total time=   0.0s\n",
            "[CV] END bootstrap=False, max_depth=10, max_features=auto, min_samples_leaf=4, min_samples_split=10, n_estimators=300; total time=   0.0s\n",
            "[CV] END bootstrap=False, max_depth=10, max_features=auto, min_samples_leaf=4, min_samples_split=10, n_estimators=300; total time=   0.0s\n",
            "[CV] END bootstrap=False, max_depth=10, max_features=auto, min_samples_leaf=4, min_samples_split=10, n_estimators=300; total time=   0.0s\n",
            "[CV] END bootstrap=True, max_depth=None, max_features=sqrt, min_samples_leaf=4, min_samples_split=5, n_estimators=300; total time=   1.2s\n",
            "[CV] END bootstrap=True, max_depth=None, max_features=sqrt, min_samples_leaf=4, min_samples_split=2, n_estimators=100; total time=   0.3s\n",
            "[CV] END bootstrap=True, max_depth=None, max_features=sqrt, min_samples_leaf=4, min_samples_split=10, n_estimators=300; total time=   1.3s\n",
            "[CV] END bootstrap=True, max_depth=None, max_features=sqrt, min_samples_leaf=4, min_samples_split=2, n_estimators=300; total time=   1.2s\n",
            "[CV] END bootstrap=False, max_depth=10, max_features=sqrt, min_samples_leaf=1, min_samples_split=2, n_estimators=100; total time=   0.5s\n",
            "[CV] END bootstrap=True, max_depth=None, max_features=sqrt, min_samples_leaf=4, min_samples_split=10, n_estimators=300; total time=   1.2s\n",
            "[CV] END bootstrap=True, max_depth=None, max_features=sqrt, min_samples_leaf=4, min_samples_split=2, n_estimators=100; total time=   0.4s\n",
            "[CV] END bootstrap=True, max_depth=None, max_features=sqrt, min_samples_leaf=2, min_samples_split=10, n_estimators=200; total time=   0.8s\n",
            "[CV] END bootstrap=True, max_depth=None, max_features=sqrt, min_samples_leaf=4, min_samples_split=10, n_estimators=300; total time=   1.2s\n",
            "[CV] END bootstrap=False, max_depth=10, max_features=sqrt, min_samples_leaf=1, min_samples_split=5, n_estimators=100; total time=   0.5s\n",
            "[CV] END bootstrap=True, max_depth=None, max_features=sqrt, min_samples_leaf=4, min_samples_split=5, n_estimators=100; total time=   0.4s\n",
            "[CV] END bootstrap=False, max_depth=10, max_features=sqrt, min_samples_leaf=1, min_samples_split=2, n_estimators=100; total time=   0.4s\n",
            "[CV] END bootstrap=False, max_depth=10, max_features=sqrt, min_samples_leaf=1, min_samples_split=2, n_estimators=200; total time=   0.9s\n",
            "[CV] END bootstrap=False, max_depth=10, max_features=sqrt, min_samples_leaf=1, min_samples_split=10, n_estimators=100; total time=   0.5s\n",
            "[CV] END bootstrap=False, max_depth=10, max_features=sqrt, min_samples_leaf=2, min_samples_split=2, n_estimators=100; total time=   0.4s\n",
            "[CV] END bootstrap=True, max_depth=None, max_features=sqrt, min_samples_leaf=4, min_samples_split=5, n_estimators=300; total time=   1.1s\n",
            "[CV] END bootstrap=True, max_depth=None, max_features=sqrt, min_samples_leaf=4, min_samples_split=5, n_estimators=100; total time=   0.4s\n",
            "[CV] END bootstrap=False, max_depth=10, max_features=sqrt, min_samples_leaf=1, min_samples_split=2, n_estimators=100; total time=   0.4s\n",
            "[CV] END bootstrap=False, max_depth=10, max_features=sqrt, min_samples_leaf=1, min_samples_split=2, n_estimators=300; total time=   1.3s\n",
            "[CV] END bootstrap=False, max_depth=10, max_features=sqrt, min_samples_leaf=1, min_samples_split=10, n_estimators=100; total time=   0.4s\n",
            "[CV] END bootstrap=False, max_depth=10, max_features=sqrt, min_samples_leaf=1, min_samples_split=10, n_estimators=200; total time=   0.9s\n",
            "[CV] END bootstrap=True, max_depth=None, max_features=sqrt, min_samples_leaf=4, min_samples_split=10, n_estimators=100; total time=   0.4s\n",
            "[CV] END bootstrap=False, max_depth=10, max_features=sqrt, min_samples_leaf=2, min_samples_split=2, n_estimators=100; total time=   0.5s\n",
            "[CV] END bootstrap=False, max_depth=10, max_features=sqrt, min_samples_leaf=1, min_samples_split=5, n_estimators=200; total time=   0.9s\n",
            "[CV] END bootstrap=False, max_depth=10, max_features=sqrt, min_samples_leaf=1, min_samples_split=2, n_estimators=200; total time=   0.9s\n",
            "[CV] END bootstrap=False, max_depth=10, max_features=sqrt, min_samples_leaf=1, min_samples_split=5, n_estimators=300; total time=   1.3s\n",
            "[CV] END bootstrap=False, max_depth=10, max_features=sqrt, min_samples_leaf=2, min_samples_split=2, n_estimators=100; total time=   0.4s\n",
            "[CV] END bootstrap=False, max_depth=10, max_features=sqrt, min_samples_leaf=2, min_samples_split=2, n_estimators=200; total time=   0.8s\n",
            "[CV] END bootstrap=False, max_depth=10, max_features=sqrt, min_samples_leaf=1, min_samples_split=10, n_estimators=200; total time=   0.8s\n",
            "[CV] END bootstrap=False, max_depth=10, max_features=sqrt, min_samples_leaf=2, min_samples_split=5, n_estimators=200; total time=   0.9s\n",
            "[CV] END bootstrap=False, max_depth=10, max_features=sqrt, min_samples_leaf=1, min_samples_split=5, n_estimators=200; total time=   0.9s\n",
            "[CV] END bootstrap=False, max_depth=10, max_features=sqrt, min_samples_leaf=1, min_samples_split=2, n_estimators=300; total time=   1.3s\n",
            "[CV] END bootstrap=False, max_depth=10, max_features=sqrt, min_samples_leaf=2, min_samples_split=2, n_estimators=300; total time=   1.4s\n",
            "[CV] END bootstrap=False, max_depth=10, max_features=sqrt, min_samples_leaf=1, min_samples_split=2, n_estimators=200; total time=   1.0s\n",
            "[CV] END bootstrap=False, max_depth=10, max_features=sqrt, min_samples_leaf=1, min_samples_split=10, n_estimators=300; total time=   1.3s\n",
            "[CV] END bootstrap=False, max_depth=10, max_features=sqrt, min_samples_leaf=2, min_samples_split=2, n_estimators=200; total time=   0.9s\n",
            "[CV] END bootstrap=False, max_depth=10, max_features=sqrt, min_samples_leaf=2, min_samples_split=2, n_estimators=200; total time=   0.9s\n",
            "[CV] END bootstrap=False, max_depth=10, max_features=sqrt, min_samples_leaf=2, min_samples_split=5, n_estimators=100; total time=   0.4s\n",
            "[CV] END bootstrap=False, max_depth=10, max_features=sqrt, min_samples_leaf=1, min_samples_split=5, n_estimators=100; total time=   0.5s\n",
            "[CV] END bootstrap=False, max_depth=10, max_features=sqrt, min_samples_leaf=1, min_samples_split=10, n_estimators=200; total time=   0.9s\n",
            "[CV] END bootstrap=False, max_depth=10, max_features=sqrt, min_samples_leaf=1, min_samples_split=5, n_estimators=300; total time=   1.4s\n",
            "[CV] END bootstrap=False, max_depth=10, max_features=sqrt, min_samples_leaf=2, min_samples_split=5, n_estimators=200; total time=   0.9s\n",
            "[CV] END bootstrap=False, max_depth=10, max_features=sqrt, min_samples_leaf=1, min_samples_split=5, n_estimators=200; total time=   0.9s\n",
            "[CV] END bootstrap=False, max_depth=10, max_features=sqrt, min_samples_leaf=2, min_samples_split=5, n_estimators=100; total time=   0.4s\n",
            "[CV] END bootstrap=False, max_depth=10, max_features=sqrt, min_samples_leaf=1, min_samples_split=5, n_estimators=100; total time=   0.5s\n",
            "[CV] END bootstrap=False, max_depth=10, max_features=sqrt, min_samples_leaf=2, min_samples_split=10, n_estimators=100; total time=   0.5s\n",
            "[CV] END bootstrap=False, max_depth=10, max_features=sqrt, min_samples_leaf=2, min_samples_split=5, n_estimators=100; total time=   0.4s\n",
            "[CV] END bootstrap=False, max_depth=10, max_features=sqrt, min_samples_leaf=4, min_samples_split=2, n_estimators=100; total time=   0.4s\n",
            "[CV] END bootstrap=False, max_depth=10, max_features=sqrt, min_samples_leaf=1, min_samples_split=2, n_estimators=300; total time=   1.4s\n",
            "[CV] END bootstrap=False, max_depth=10, max_features=sqrt, min_samples_leaf=2, min_samples_split=5, n_estimators=300; total time=   1.3s\n",
            "[CV] END bootstrap=False, max_depth=10, max_features=sqrt, min_samples_leaf=2, min_samples_split=2, n_estimators=300; total time=   1.2s\n",
            "[CV] END bootstrap=False, max_depth=10, max_features=sqrt, min_samples_leaf=2, min_samples_split=5, n_estimators=200; total time=   0.8s\n",
            "[CV] END bootstrap=False, max_depth=10, max_features=sqrt, min_samples_leaf=1, min_samples_split=10, n_estimators=300; total time=   1.4s\n",
            "[CV] END bootstrap=False, max_depth=10, max_features=sqrt, min_samples_leaf=4, min_samples_split=2, n_estimators=100; total time=   0.4s\n",
            "[CV] END bootstrap=False, max_depth=10, max_features=sqrt, min_samples_leaf=2, min_samples_split=10, n_estimators=200; total time=   0.9s\n",
            "[CV] END bootstrap=False, max_depth=10, max_features=sqrt, min_samples_leaf=4, min_samples_split=5, n_estimators=100; total time=   0.4s\n",
            "[CV] END bootstrap=False, max_depth=10, max_features=sqrt, min_samples_leaf=1, min_samples_split=5, n_estimators=300; total time=   1.3s\n",
            "[CV] END bootstrap=False, max_depth=10, max_features=sqrt, min_samples_leaf=4, min_samples_split=2, n_estimators=200; total time=   0.9s\n",
            "[CV] END bootstrap=False, max_depth=10, max_features=sqrt, min_samples_leaf=2, min_samples_split=10, n_estimators=300; total time=   1.3s\n",
            "[CV] END bootstrap=False, max_depth=10, max_features=sqrt, min_samples_leaf=4, min_samples_split=5, n_estimators=100; total time=   0.4s\n",
            "[CV] END bootstrap=False, max_depth=10, max_features=sqrt, min_samples_leaf=1, min_samples_split=10, n_estimators=100; total time=   0.5s\n",
            "[CV] END bootstrap=False, max_depth=10, max_features=sqrt, min_samples_leaf=4, min_samples_split=2, n_estimators=200; total time=   0.8s\n",
            "[CV] END bootstrap=False, max_depth=10, max_features=sqrt, min_samples_leaf=4, min_samples_split=5, n_estimators=100; total time=   0.4s\n",
            "[CV] END bootstrap=False, max_depth=10, max_features=sqrt, min_samples_leaf=2, min_samples_split=10, n_estimators=200; total time=   0.8s\n",
            "[CV] END bootstrap=False, max_depth=10, max_features=sqrt, min_samples_leaf=2, min_samples_split=5, n_estimators=300; total time=   1.3s\n",
            "[CV] END bootstrap=False, max_depth=10, max_features=sqrt, min_samples_leaf=2, min_samples_split=5, n_estimators=300; total time=   1.3s\n",
            "[CV] END bootstrap=False, max_depth=10, max_features=sqrt, min_samples_leaf=2, min_samples_split=2, n_estimators=300; total time=   1.4s\n",
            "[CV] END bootstrap=False, max_depth=10, max_features=sqrt, min_samples_leaf=1, min_samples_split=10, n_estimators=300; total time=   1.4s\n",
            "[CV] END bootstrap=False, max_depth=10, max_features=sqrt, min_samples_leaf=2, min_samples_split=10, n_estimators=100; total time=   0.4s\n",
            "[CV] END bootstrap=False, max_depth=10, max_features=sqrt, min_samples_leaf=4, min_samples_split=5, n_estimators=200; total time=   0.9s\n",
            "[CV] END bootstrap=False, max_depth=10, max_features=sqrt, min_samples_leaf=4, min_samples_split=10, n_estimators=100; total time=   0.5s\n",
            "[CV] END bootstrap=False, max_depth=10, max_features=sqrt, min_samples_leaf=4, min_samples_split=2, n_estimators=200; total time=   0.8s\n",
            "[CV] END bootstrap=False, max_depth=10, max_features=sqrt, min_samples_leaf=4, min_samples_split=10, n_estimators=100; total time=   0.4s\n",
            "[CV] END bootstrap=False, max_depth=10, max_features=sqrt, min_samples_leaf=4, min_samples_split=2, n_estimators=300; total time=   1.4s\n",
            "[CV] END bootstrap=False, max_depth=10, max_features=sqrt, min_samples_leaf=4, min_samples_split=5, n_estimators=200; total time=   0.9s\n",
            "[CV] END bootstrap=False, max_depth=10, max_features=sqrt, min_samples_leaf=2, min_samples_split=10, n_estimators=300; total time=   1.4s\n",
            "[CV] END bootstrap=False, max_depth=10, max_features=sqrt, min_samples_leaf=2, min_samples_split=10, n_estimators=200; total time=   0.9s\n",
            "[CV] END bootstrap=False, max_depth=10, max_features=sqrt, min_samples_leaf=2, min_samples_split=10, n_estimators=100; total time=   0.4s\n",
            "[CV] END bootstrap=False, max_depth=10, max_features=sqrt, min_samples_leaf=4, min_samples_split=10, n_estimators=100; total time=   0.4s\n",
            "[CV] END bootstrap=False, max_depth=10, max_features=sqrt, min_samples_leaf=4, min_samples_split=5, n_estimators=200; total time=   0.9s\n",
            "[CV] END bootstrap=False, max_depth=10, max_features=sqrt, min_samples_leaf=4, min_samples_split=10, n_estimators=200; total time=   0.8s\n",
            "[CV] END bootstrap=False, max_depth=10, max_features=sqrt, min_samples_leaf=4, min_samples_split=5, n_estimators=300; total time=   1.3s\n",
            "[CV] END bootstrap=False, max_depth=20, max_features=auto, min_samples_leaf=1, min_samples_split=2, n_estimators=100; total time=   0.0s\n",
            "[CV] END bootstrap=False, max_depth=20, max_features=auto, min_samples_leaf=1, min_samples_split=2, n_estimators=100; total time=   0.0s\n",
            "[CV] END bootstrap=False, max_depth=20, max_features=auto, min_samples_leaf=1, min_samples_split=2, n_estimators=200; total time=   0.0s\n",
            "[CV] END bootstrap=False, max_depth=20, max_features=auto, min_samples_leaf=1, min_samples_split=2, n_estimators=100; total time=   0.0s\n",
            "[CV] END bootstrap=False, max_depth=20, max_features=auto, min_samples_leaf=1, min_samples_split=2, n_estimators=200; total time=   0.0s\n",
            "[CV] END bootstrap=False, max_depth=20, max_features=auto, min_samples_leaf=1, min_samples_split=2, n_estimators=200; total time=   0.0s\n",
            "[CV] END bootstrap=False, max_depth=20, max_features=auto, min_samples_leaf=1, min_samples_split=2, n_estimators=300; total time=   0.0s\n",
            "[CV] END bootstrap=False, max_depth=20, max_features=auto, min_samples_leaf=1, min_samples_split=2, n_estimators=300; total time=   0.0s\n",
            "[CV] END bootstrap=False, max_depth=20, max_features=auto, min_samples_leaf=1, min_samples_split=2, n_estimators=300; total time=   0.0s\n",
            "[CV] END bootstrap=False, max_depth=20, max_features=auto, min_samples_leaf=1, min_samples_split=5, n_estimators=100; total time=   0.0s\n",
            "[CV] END bootstrap=False, max_depth=20, max_features=auto, min_samples_leaf=1, min_samples_split=5, n_estimators=100; total time=   0.0s\n",
            "[CV] END bootstrap=False, max_depth=20, max_features=auto, min_samples_leaf=1, min_samples_split=5, n_estimators=100; total time=   0.0s\n",
            "[CV] END bootstrap=False, max_depth=20, max_features=auto, min_samples_leaf=1, min_samples_split=5, n_estimators=200; total time=   0.0s\n",
            "[CV] END bootstrap=False, max_depth=20, max_features=auto, min_samples_leaf=1, min_samples_split=5, n_estimators=200; total time=   0.0s\n",
            "[CV] END bootstrap=False, max_depth=20, max_features=auto, min_samples_leaf=1, min_samples_split=5, n_estimators=200; total time=   0.0s\n",
            "[CV] END bootstrap=False, max_depth=20, max_features=auto, min_samples_leaf=1, min_samples_split=5, n_estimators=300; total time=   0.0s\n",
            "[CV] END bootstrap=False, max_depth=20, max_features=auto, min_samples_leaf=1, min_samples_split=5, n_estimators=300; total time=   0.0s\n",
            "[CV] END bootstrap=False, max_depth=20, max_features=auto, min_samples_leaf=1, min_samples_split=10, n_estimators=100; total time=   0.0s\n",
            "[CV] END bootstrap=False, max_depth=20, max_features=auto, min_samples_leaf=1, min_samples_split=5, n_estimators=300; total time=   0.0s\n",
            "[CV] END bootstrap=False, max_depth=20, max_features=auto, min_samples_leaf=1, min_samples_split=10, n_estimators=100; total time=   0.0s\n",
            "[CV] END bootstrap=False, max_depth=20, max_features=auto, min_samples_leaf=1, min_samples_split=10, n_estimators=100; total time=   0.0s\n",
            "[CV] END bootstrap=False, max_depth=10, max_features=sqrt, min_samples_leaf=4, min_samples_split=10, n_estimators=200; total time=   0.9s\n",
            "[CV] END bootstrap=False, max_depth=20, max_features=auto, min_samples_leaf=1, min_samples_split=10, n_estimators=200; total time=   0.0s\n",
            "[CV] END bootstrap=False, max_depth=20, max_features=auto, min_samples_leaf=1, min_samples_split=10, n_estimators=200; total time=   0.0s\n",
            "[CV] END bootstrap=False, max_depth=20, max_features=auto, min_samples_leaf=1, min_samples_split=10, n_estimators=200; total time=   0.0s\n",
            "[CV] END bootstrap=False, max_depth=20, max_features=auto, min_samples_leaf=1, min_samples_split=10, n_estimators=300; total time=   0.0s\n",
            "[CV] END bootstrap=False, max_depth=20, max_features=auto, min_samples_leaf=1, min_samples_split=10, n_estimators=300; total time=   0.0s\n",
            "[CV] END bootstrap=False, max_depth=20, max_features=auto, min_samples_leaf=2, min_samples_split=2, n_estimators=100; total time=   0.0s\n",
            "[CV] END bootstrap=False, max_depth=20, max_features=auto, min_samples_leaf=1, min_samples_split=10, n_estimators=300; total time=   0.0s\n",
            "[CV] END bootstrap=False, max_depth=20, max_features=auto, min_samples_leaf=2, min_samples_split=2, n_estimators=100; total time=   0.0s\n",
            "[CV] END bootstrap=False, max_depth=20, max_features=auto, min_samples_leaf=2, min_samples_split=2, n_estimators=100; total time=   0.0s\n",
            "[CV] END bootstrap=False, max_depth=20, max_features=auto, min_samples_leaf=2, min_samples_split=2, n_estimators=200; total time=   0.0s\n",
            "[CV] END bootstrap=False, max_depth=20, max_features=auto, min_samples_leaf=2, min_samples_split=2, n_estimators=200; total time=   0.0s\n",
            "[CV] END bootstrap=False, max_depth=20, max_features=auto, min_samples_leaf=2, min_samples_split=2, n_estimators=200; total time=   0.0s\n",
            "[CV] END bootstrap=False, max_depth=20, max_features=auto, min_samples_leaf=2, min_samples_split=2, n_estimators=300; total time=   0.0s\n",
            "[CV] END bootstrap=False, max_depth=20, max_features=auto, min_samples_leaf=2, min_samples_split=2, n_estimators=300; total time=   0.0s\n",
            "[CV] END bootstrap=False, max_depth=20, max_features=auto, min_samples_leaf=2, min_samples_split=2, n_estimators=300; total time=   0.0s\n",
            "[CV] END bootstrap=False, max_depth=20, max_features=auto, min_samples_leaf=2, min_samples_split=5, n_estimators=100; total time=   0.0s\n",
            "[CV] END bootstrap=False, max_depth=20, max_features=auto, min_samples_leaf=2, min_samples_split=5, n_estimators=100; total time=   0.0s\n",
            "[CV] END bootstrap=False, max_depth=10, max_features=sqrt, min_samples_leaf=4, min_samples_split=10, n_estimators=200; total time=   0.9s\n",
            "[CV] END bootstrap=False, max_depth=20, max_features=auto, min_samples_leaf=2, min_samples_split=5, n_estimators=100; total time=   0.0s\n",
            "[CV] END bootstrap=False, max_depth=20, max_features=auto, min_samples_leaf=2, min_samples_split=5, n_estimators=300; total time=   0.0s\n",
            "[CV] END bootstrap=False, max_depth=20, max_features=auto, min_samples_leaf=2, min_samples_split=5, n_estimators=200; total time=   0.0s\n",
            "[CV] END bootstrap=False, max_depth=20, max_features=auto, min_samples_leaf=2, min_samples_split=5, n_estimators=300; total time=   0.0s\n",
            "[CV] END bootstrap=False, max_depth=20, max_features=auto, min_samples_leaf=2, min_samples_split=5, n_estimators=200; total time=   0.0s\n",
            "[CV] END bootstrap=False, max_depth=20, max_features=auto, min_samples_leaf=2, min_samples_split=5, n_estimators=200; total time=   0.0s\n",
            "[CV] END bootstrap=False, max_depth=20, max_features=auto, min_samples_leaf=2, min_samples_split=10, n_estimators=100; total time=   0.0s\n",
            "[CV] END bootstrap=False, max_depth=20, max_features=auto, min_samples_leaf=2, min_samples_split=10, n_estimators=200; total time=   0.0s\n",
            "[CV] END bootstrap=False, max_depth=20, max_features=auto, min_samples_leaf=2, min_samples_split=10, n_estimators=100; total time=   0.0s\n",
            "[CV] END bootstrap=False, max_depth=20, max_features=auto, min_samples_leaf=2, min_samples_split=10, n_estimators=200; total time=   0.0s\n",
            "[CV] END bootstrap=False, max_depth=20, max_features=auto, min_samples_leaf=2, min_samples_split=5, n_estimators=300; total time=   0.0s\n",
            "[CV] END bootstrap=False, max_depth=20, max_features=auto, min_samples_leaf=2, min_samples_split=10, n_estimators=100; total time=   0.0s\n",
            "[CV] END bootstrap=False, max_depth=20, max_features=auto, min_samples_leaf=2, min_samples_split=10, n_estimators=200; total time=   0.0s\n",
            "[CV] END bootstrap=False, max_depth=20, max_features=auto, min_samples_leaf=4, min_samples_split=2, n_estimators=100; total time=   0.0s\n",
            "[CV] END bootstrap=False, max_depth=20, max_features=auto, min_samples_leaf=2, min_samples_split=10, n_estimators=300; total time=   0.0s\n",
            "[CV] END bootstrap=False, max_depth=20, max_features=auto, min_samples_leaf=2, min_samples_split=10, n_estimators=300; total time=   0.0s\n",
            "[CV] END bootstrap=False, max_depth=20, max_features=auto, min_samples_leaf=4, min_samples_split=2, n_estimators=100; total time=   0.0s\n",
            "[CV] END bootstrap=False, max_depth=20, max_features=auto, min_samples_leaf=2, min_samples_split=10, n_estimators=300; total time=   0.0s\n",
            "[CV] END bootstrap=False, max_depth=20, max_features=auto, min_samples_leaf=4, min_samples_split=2, n_estimators=200; total time=   0.0s\n",
            "[CV] END bootstrap=False, max_depth=20, max_features=auto, min_samples_leaf=4, min_samples_split=2, n_estimators=100; total time=   0.0s\n",
            "[CV] END bootstrap=False, max_depth=20, max_features=auto, min_samples_leaf=4, min_samples_split=2, n_estimators=200; total time=   0.0s\n",
            "[CV] END bootstrap=False, max_depth=20, max_features=auto, min_samples_leaf=4, min_samples_split=2, n_estimators=200; total time=   0.0s\n",
            "[CV] END bootstrap=False, max_depth=20, max_features=auto, min_samples_leaf=4, min_samples_split=2, n_estimators=300; total time=   0.0s\n",
            "[CV] END bootstrap=False, max_depth=20, max_features=auto, min_samples_leaf=4, min_samples_split=2, n_estimators=300; total time=   0.0s\n",
            "[CV] END bootstrap=False, max_depth=20, max_features=auto, min_samples_leaf=4, min_samples_split=2, n_estimators=300; total time=   0.0s\n",
            "[CV] END bootstrap=False, max_depth=20, max_features=auto, min_samples_leaf=4, min_samples_split=5, n_estimators=100; total time=   0.0s\n",
            "[CV] END bootstrap=False, max_depth=20, max_features=auto, min_samples_leaf=4, min_samples_split=5, n_estimators=100; total time=   0.0s\n",
            "[CV] END bootstrap=False, max_depth=20, max_features=auto, min_samples_leaf=4, min_samples_split=5, n_estimators=200; total time=   0.0s\n",
            "[CV] END bootstrap=False, max_depth=20, max_features=auto, min_samples_leaf=4, min_samples_split=5, n_estimators=100; total time=   0.0s\n",
            "[CV] END bootstrap=False, max_depth=20, max_features=auto, min_samples_leaf=4, min_samples_split=5, n_estimators=200; total time=   0.0s\n",
            "[CV] END bootstrap=False, max_depth=20, max_features=auto, min_samples_leaf=4, min_samples_split=5, n_estimators=200; total time=   0.0s\n",
            "[CV] END bootstrap=False, max_depth=20, max_features=auto, min_samples_leaf=4, min_samples_split=5, n_estimators=300; total time=   0.0s\n",
            "[CV] END bootstrap=False, max_depth=20, max_features=auto, min_samples_leaf=4, min_samples_split=10, n_estimators=100; total time=   0.0s\n",
            "[CV] END bootstrap=False, max_depth=20, max_features=auto, min_samples_leaf=4, min_samples_split=5, n_estimators=300; total time=   0.0s\n",
            "[CV] END bootstrap=False, max_depth=20, max_features=auto, min_samples_leaf=4, min_samples_split=10, n_estimators=100; total time=   0.0s\n",
            "[CV] END bootstrap=False, max_depth=20, max_features=auto, min_samples_leaf=4, min_samples_split=5, n_estimators=300; total time=   0.0s\n",
            "[CV] END bootstrap=False, max_depth=20, max_features=auto, min_samples_leaf=4, min_samples_split=10, n_estimators=200; total time=   0.0s\n",
            "[CV] END bootstrap=False, max_depth=20, max_features=auto, min_samples_leaf=4, min_samples_split=10, n_estimators=100; total time=   0.0s\n",
            "[CV] END bootstrap=False, max_depth=20, max_features=auto, min_samples_leaf=4, min_samples_split=10, n_estimators=200; total time=   0.0s\n",
            "[CV] END bootstrap=False, max_depth=20, max_features=auto, min_samples_leaf=4, min_samples_split=10, n_estimators=300; total time=   0.0s\n",
            "[CV] END bootstrap=False, max_depth=20, max_features=auto, min_samples_leaf=4, min_samples_split=10, n_estimators=200; total time=   0.0s\n",
            "[CV] END bootstrap=False, max_depth=20, max_features=auto, min_samples_leaf=4, min_samples_split=10, n_estimators=300; total time=   0.0s\n",
            "[CV] END bootstrap=False, max_depth=20, max_features=auto, min_samples_leaf=4, min_samples_split=10, n_estimators=300; total time=   0.0s\n",
            "[CV] END bootstrap=False, max_depth=10, max_features=sqrt, min_samples_leaf=4, min_samples_split=2, n_estimators=300; total time=   1.3s\n",
            "[CV] END bootstrap=False, max_depth=10, max_features=sqrt, min_samples_leaf=4, min_samples_split=10, n_estimators=300; total time=   1.3s\n",
            "[CV] END bootstrap=False, max_depth=10, max_features=sqrt, min_samples_leaf=4, min_samples_split=10, n_estimators=300; total time=   1.3s\n",
            "[CV] END bootstrap=False, max_depth=20, max_features=sqrt, min_samples_leaf=1, min_samples_split=2, n_estimators=100; total time=   0.5s\n",
            "[CV] END bootstrap=False, max_depth=10, max_features=sqrt, min_samples_leaf=2, min_samples_split=10, n_estimators=300; total time=   1.4s\n",
            "[CV] END bootstrap=False, max_depth=20, max_features=sqrt, min_samples_leaf=1, min_samples_split=5, n_estimators=100; total time=   0.5s\n",
            "[CV] END bootstrap=False, max_depth=10, max_features=sqrt, min_samples_leaf=4, min_samples_split=10, n_estimators=300; total time=   1.2s\n",
            "[CV] END bootstrap=False, max_depth=10, max_features=sqrt, min_samples_leaf=4, min_samples_split=2, n_estimators=100; total time=   0.4s\n",
            "[CV] END bootstrap=False, max_depth=20, max_features=sqrt, min_samples_leaf=1, min_samples_split=2, n_estimators=100; total time=   0.5s\n",
            "[CV] END bootstrap=False, max_depth=20, max_features=sqrt, min_samples_leaf=1, min_samples_split=2, n_estimators=200; total time=   1.0s\n",
            "[CV] END bootstrap=False, max_depth=10, max_features=sqrt, min_samples_leaf=4, min_samples_split=5, n_estimators=300; total time=   1.3s\n",
            "[CV] END bootstrap=False, max_depth=20, max_features=sqrt, min_samples_leaf=1, min_samples_split=10, n_estimators=100; total time=   0.5s\n",
            "[CV] END bootstrap=False, max_depth=20, max_features=sqrt, min_samples_leaf=2, min_samples_split=2, n_estimators=100; total time=   0.5s\n",
            "[CV] END bootstrap=False, max_depth=20, max_features=sqrt, min_samples_leaf=1, min_samples_split=2, n_estimators=100; total time=   0.6s\n",
            "[CV] END bootstrap=False, max_depth=20, max_features=sqrt, min_samples_leaf=1, min_samples_split=10, n_estimators=100; total time=   0.6s\n",
            "[CV] END bootstrap=False, max_depth=20, max_features=sqrt, min_samples_leaf=1, min_samples_split=2, n_estimators=300; total time=   1.6s\n",
            "[CV] END bootstrap=False, max_depth=10, max_features=sqrt, min_samples_leaf=4, min_samples_split=2, n_estimators=300; total time=   1.4s\n",
            "[CV] END bootstrap=False, max_depth=20, max_features=sqrt, min_samples_leaf=1, min_samples_split=5, n_estimators=200; total time=   1.2s\n",
            "[CV] END bootstrap=False, max_depth=20, max_features=sqrt, min_samples_leaf=1, min_samples_split=10, n_estimators=200; total time=   1.1s\n",
            "[CV] END bootstrap=False, max_depth=20, max_features=sqrt, min_samples_leaf=2, min_samples_split=2, n_estimators=100; total time=   0.5s\n",
            "[CV] END bootstrap=False, max_depth=20, max_features=sqrt, min_samples_leaf=1, min_samples_split=2, n_estimators=200; total time=   1.1s\n",
            "[CV] END bootstrap=False, max_depth=20, max_features=sqrt, min_samples_leaf=1, min_samples_split=5, n_estimators=300; total time=   1.6s\n",
            "[CV] END bootstrap=False, max_depth=10, max_features=sqrt, min_samples_leaf=4, min_samples_split=5, n_estimators=300; total time=   1.4s\n",
            "[CV] END bootstrap=False, max_depth=20, max_features=sqrt, min_samples_leaf=2, min_samples_split=2, n_estimators=100; total time=   0.6s\n",
            "[CV] END bootstrap=False, max_depth=20, max_features=sqrt, min_samples_leaf=2, min_samples_split=2, n_estimators=200; total time=   1.0s\n",
            "[CV] END bootstrap=False, max_depth=20, max_features=sqrt, min_samples_leaf=1, min_samples_split=10, n_estimators=200; total time=   1.1s\n",
            "[CV] END bootstrap=False, max_depth=20, max_features=sqrt, min_samples_leaf=1, min_samples_split=5, n_estimators=200; total time=   1.1s\n",
            "[CV] END bootstrap=False, max_depth=20, max_features=sqrt, min_samples_leaf=1, min_samples_split=2, n_estimators=200; total time=   1.1s\n",
            "[CV] END bootstrap=False, max_depth=20, max_features=sqrt, min_samples_leaf=2, min_samples_split=2, n_estimators=300; total time=   1.5s\n",
            "[CV] END bootstrap=False, max_depth=20, max_features=sqrt, min_samples_leaf=1, min_samples_split=10, n_estimators=300; total time=   1.5s\n",
            "[CV] END bootstrap=False, max_depth=20, max_features=sqrt, min_samples_leaf=1, min_samples_split=2, n_estimators=300; total time=   1.7s\n",
            "[CV] END bootstrap=False, max_depth=20, max_features=sqrt, min_samples_leaf=2, min_samples_split=5, n_estimators=200; total time=   1.1s\n",
            "[CV] END bootstrap=False, max_depth=20, max_features=sqrt, min_samples_leaf=2, min_samples_split=2, n_estimators=200; total time=   1.0s\n",
            "[CV] END bootstrap=False, max_depth=20, max_features=sqrt, min_samples_leaf=1, min_samples_split=10, n_estimators=200; total time=   0.9s\n",
            "[CV] END bootstrap=False, max_depth=20, max_features=sqrt, min_samples_leaf=2, min_samples_split=5, n_estimators=100; total time=   0.5s\n",
            "[CV] END bootstrap=False, max_depth=20, max_features=sqrt, min_samples_leaf=2, min_samples_split=2, n_estimators=200; total time=   1.0s\n",
            "[CV] END bootstrap=False, max_depth=20, max_features=sqrt, min_samples_leaf=1, min_samples_split=5, n_estimators=300; total time=   1.6s\n",
            "[CV] END bootstrap=False, max_depth=20, max_features=sqrt, min_samples_leaf=1, min_samples_split=5, n_estimators=200; total time=   1.0s\n",
            "[CV] END bootstrap=False, max_depth=20, max_features=sqrt, min_samples_leaf=2, min_samples_split=10, n_estimators=100; total time=   0.5s\n",
            "[CV] END bootstrap=False, max_depth=20, max_features=sqrt, min_samples_leaf=1, min_samples_split=5, n_estimators=100; total time=   0.8s\n",
            "[CV] END bootstrap=False, max_depth=20, max_features=sqrt, min_samples_leaf=2, min_samples_split=5, n_estimators=100; total time=   0.5s\n",
            "[CV] END bootstrap=False, max_depth=20, max_features=sqrt, min_samples_leaf=2, min_samples_split=5, n_estimators=200; total time=   0.9s\n",
            "[CV] END bootstrap=False, max_depth=20, max_features=sqrt, min_samples_leaf=1, min_samples_split=5, n_estimators=100; total time=   0.5s\n",
            "[CV] END bootstrap=False, max_depth=20, max_features=sqrt, min_samples_leaf=2, min_samples_split=5, n_estimators=100; total time=   0.5s\n",
            "[CV] END bootstrap=False, max_depth=20, max_features=sqrt, min_samples_leaf=1, min_samples_split=2, n_estimators=300; total time=   1.6s\n",
            "[CV] END bootstrap=False, max_depth=20, max_features=sqrt, min_samples_leaf=1, min_samples_split=10, n_estimators=300; total time=   1.5s\n",
            "[CV] END bootstrap=False, max_depth=20, max_features=sqrt, min_samples_leaf=2, min_samples_split=5, n_estimators=300; total time=   1.5s\n",
            "[CV] END bootstrap=False, max_depth=20, max_features=sqrt, min_samples_leaf=4, min_samples_split=2, n_estimators=100; total time=   0.5s\n",
            "[CV] END bootstrap=False, max_depth=20, max_features=sqrt, min_samples_leaf=2, min_samples_split=10, n_estimators=200; total time=   1.1s\n",
            "[CV] END bootstrap=False, max_depth=20, max_features=sqrt, min_samples_leaf=2, min_samples_split=2, n_estimators=300; total time=   1.5s\n",
            "[CV] END bootstrap=False, max_depth=20, max_features=sqrt, min_samples_leaf=4, min_samples_split=5, n_estimators=100; total time=   0.5s\n",
            "[CV] END bootstrap=False, max_depth=20, max_features=sqrt, min_samples_leaf=2, min_samples_split=10, n_estimators=300; total time=   1.5s\n",
            "[CV] END bootstrap=False, max_depth=20, max_features=sqrt, min_samples_leaf=1, min_samples_split=5, n_estimators=300; total time=   1.6s\n",
            "[CV] END bootstrap=False, max_depth=20, max_features=sqrt, min_samples_leaf=2, min_samples_split=5, n_estimators=200; total time=   1.0s\n",
            "[CV] END bootstrap=False, max_depth=20, max_features=sqrt, min_samples_leaf=4, min_samples_split=2, n_estimators=100; total time=   0.5s\n",
            "[CV] END bootstrap=False, max_depth=20, max_features=sqrt, min_samples_leaf=4, min_samples_split=2, n_estimators=200; total time=   1.0s\n",
            "[CV] END bootstrap=False, max_depth=20, max_features=sqrt, min_samples_leaf=4, min_samples_split=5, n_estimators=100; total time=   0.5s\n",
            "[CV] END bootstrap=False, max_depth=20, max_features=sqrt, min_samples_leaf=1, min_samples_split=10, n_estimators=100; total time=   0.5s\n",
            "[CV] END bootstrap=False, max_depth=20, max_features=sqrt, min_samples_leaf=2, min_samples_split=10, n_estimators=200; total time=   1.0s\n",
            "[CV] END bootstrap=False, max_depth=20, max_features=sqrt, min_samples_leaf=4, min_samples_split=5, n_estimators=100; total time=   0.5s\n",
            "[CV] END bootstrap=False, max_depth=20, max_features=sqrt, min_samples_leaf=1, min_samples_split=10, n_estimators=300; total time=   1.5s\n",
            "[CV] END bootstrap=False, max_depth=20, max_features=sqrt, min_samples_leaf=2, min_samples_split=5, n_estimators=300; total time=   1.5s\n",
            "[CV] END bootstrap=False, max_depth=20, max_features=sqrt, min_samples_leaf=4, min_samples_split=2, n_estimators=200; total time=   0.9s\n",
            "[CV] END bootstrap=False, max_depth=20, max_features=sqrt, min_samples_leaf=2, min_samples_split=2, n_estimators=300; total time=   1.5s\n",
            "[CV] END bootstrap=False, max_depth=20, max_features=sqrt, min_samples_leaf=2, min_samples_split=10, n_estimators=300; total time=   1.5s\n",
            "[CV] END bootstrap=False, max_depth=20, max_features=sqrt, min_samples_leaf=2, min_samples_split=5, n_estimators=300; total time=   1.4s\n",
            "[CV] END bootstrap=False, max_depth=20, max_features=sqrt, min_samples_leaf=4, min_samples_split=5, n_estimators=200; total time=   1.2s\n",
            "[CV] END bootstrap=False, max_depth=20, max_features=sqrt, min_samples_leaf=2, min_samples_split=10, n_estimators=100; total time=   0.5s\n",
            "[CV] END bootstrap=False, max_depth=20, max_features=sqrt, min_samples_leaf=2, min_samples_split=10, n_estimators=200; total time=   1.1s\n",
            "[CV] END bootstrap=False, max_depth=20, max_features=sqrt, min_samples_leaf=4, min_samples_split=2, n_estimators=300; total time=   1.5s\n",
            "[CV] END bootstrap=False, max_depth=20, max_features=sqrt, min_samples_leaf=4, min_samples_split=5, n_estimators=200; total time=   1.1s\n",
            "[CV] END bootstrap=False, max_depth=30, max_features=auto, min_samples_leaf=1, min_samples_split=2, n_estimators=100; total time=   0.0s\n",
            "[CV] END bootstrap=False, max_depth=30, max_features=auto, min_samples_leaf=1, min_samples_split=2, n_estimators=100; total time=   0.0s\n",
            "[CV] END bootstrap=False, max_depth=30, max_features=auto, min_samples_leaf=1, min_samples_split=2, n_estimators=100; total time=   0.0s\n",
            "[CV] END bootstrap=False, max_depth=30, max_features=auto, min_samples_leaf=1, min_samples_split=2, n_estimators=200; total time=   0.0s\n",
            "[CV] END bootstrap=False, max_depth=30, max_features=auto, min_samples_leaf=1, min_samples_split=2, n_estimators=200; total time=   0.0s\n",
            "[CV] END bootstrap=False, max_depth=30, max_features=auto, min_samples_leaf=1, min_samples_split=2, n_estimators=200; total time=   0.0s\n",
            "[CV] END bootstrap=False, max_depth=30, max_features=auto, min_samples_leaf=1, min_samples_split=2, n_estimators=300; total time=   0.0s\n",
            "[CV] END bootstrap=False, max_depth=30, max_features=auto, min_samples_leaf=1, min_samples_split=2, n_estimators=300; total time=   0.0s\n",
            "[CV] END bootstrap=False, max_depth=30, max_features=auto, min_samples_leaf=1, min_samples_split=2, n_estimators=300; total time=   0.0s\n",
            "[CV] END bootstrap=False, max_depth=30, max_features=auto, min_samples_leaf=1, min_samples_split=5, n_estimators=100; total time=   0.0s\n",
            "[CV] END bootstrap=False, max_depth=30, max_features=auto, min_samples_leaf=1, min_samples_split=5, n_estimators=100; total time=   0.0s\n",
            "[CV] END bootstrap=False, max_depth=30, max_features=auto, min_samples_leaf=1, min_samples_split=5, n_estimators=100; total time=   0.0s\n",
            "[CV] END bootstrap=False, max_depth=30, max_features=auto, min_samples_leaf=1, min_samples_split=5, n_estimators=200; total time=   0.0s\n",
            "[CV] END bootstrap=False, max_depth=30, max_features=auto, min_samples_leaf=1, min_samples_split=5, n_estimators=200; total time=   0.0s\n",
            "[CV] END bootstrap=False, max_depth=30, max_features=auto, min_samples_leaf=1, min_samples_split=5, n_estimators=200; total time=   0.0s\n",
            "[CV] END bootstrap=False, max_depth=30, max_features=auto, min_samples_leaf=1, min_samples_split=5, n_estimators=300; total time=   0.0s\n",
            "[CV] END bootstrap=False, max_depth=30, max_features=auto, min_samples_leaf=1, min_samples_split=5, n_estimators=300; total time=   0.0s\n",
            "[CV] END bootstrap=False, max_depth=30, max_features=auto, min_samples_leaf=1, min_samples_split=5, n_estimators=300; total time=   0.0s\n",
            "[CV] END bootstrap=False, max_depth=30, max_features=auto, min_samples_leaf=1, min_samples_split=10, n_estimators=100; total time=   0.0s\n",
            "[CV] END bootstrap=False, max_depth=30, max_features=auto, min_samples_leaf=1, min_samples_split=10, n_estimators=100; total time=   0.0s\n",
            "[CV] END bootstrap=False, max_depth=30, max_features=auto, min_samples_leaf=1, min_samples_split=10, n_estimators=100; total time=   0.0s\n",
            "[CV] END bootstrap=False, max_depth=30, max_features=auto, min_samples_leaf=1, min_samples_split=10, n_estimators=200; total time=   0.0s\n",
            "[CV] END bootstrap=False, max_depth=30, max_features=auto, min_samples_leaf=1, min_samples_split=10, n_estimators=200; total time=   0.0s\n",
            "[CV] END bootstrap=False, max_depth=30, max_features=auto, min_samples_leaf=1, min_samples_split=10, n_estimators=200; total time=   0.0s\n",
            "[CV] END bootstrap=False, max_depth=30, max_features=auto, min_samples_leaf=1, min_samples_split=10, n_estimators=300; total time=   0.0s\n",
            "[CV] END bootstrap=False, max_depth=30, max_features=auto, min_samples_leaf=1, min_samples_split=10, n_estimators=300; total time=   0.0s\n",
            "[CV] END bootstrap=False, max_depth=30, max_features=auto, min_samples_leaf=1, min_samples_split=10, n_estimators=300; total time=   0.0s\n",
            "[CV] END bootstrap=False, max_depth=30, max_features=auto, min_samples_leaf=2, min_samples_split=2, n_estimators=100; total time=   0.0s\n",
            "[CV] END bootstrap=False, max_depth=30, max_features=auto, min_samples_leaf=2, min_samples_split=2, n_estimators=100; total time=   0.0s\n",
            "[CV] END bootstrap=False, max_depth=30, max_features=auto, min_samples_leaf=2, min_samples_split=2, n_estimators=100; total time=   0.0s\n",
            "[CV] END bootstrap=False, max_depth=30, max_features=auto, min_samples_leaf=2, min_samples_split=2, n_estimators=200; total time=   0.0s\n",
            "[CV] END bootstrap=False, max_depth=30, max_features=auto, min_samples_leaf=2, min_samples_split=2, n_estimators=200; total time=   0.0s\n",
            "[CV] END bootstrap=False, max_depth=30, max_features=auto, min_samples_leaf=2, min_samples_split=2, n_estimators=200; total time=   0.0s\n",
            "[CV] END bootstrap=False, max_depth=30, max_features=auto, min_samples_leaf=2, min_samples_split=2, n_estimators=300; total time=   0.0s\n",
            "[CV] END bootstrap=False, max_depth=30, max_features=auto, min_samples_leaf=2, min_samples_split=2, n_estimators=300; total time=   0.0s\n",
            "[CV] END bootstrap=False, max_depth=30, max_features=auto, min_samples_leaf=2, min_samples_split=2, n_estimators=300; total time=   0.0s\n",
            "[CV] END bootstrap=False, max_depth=30, max_features=auto, min_samples_leaf=2, min_samples_split=5, n_estimators=100; total time=   0.0s\n",
            "[CV] END bootstrap=False, max_depth=30, max_features=auto, min_samples_leaf=2, min_samples_split=5, n_estimators=100; total time=   0.0s\n",
            "[CV] END bootstrap=False, max_depth=30, max_features=auto, min_samples_leaf=2, min_samples_split=5, n_estimators=100; total time=   0.0s\n",
            "[CV] END bootstrap=False, max_depth=30, max_features=auto, min_samples_leaf=2, min_samples_split=5, n_estimators=200; total time=   0.0s\n",
            "[CV] END bootstrap=False, max_depth=30, max_features=auto, min_samples_leaf=2, min_samples_split=5, n_estimators=200; total time=   0.0s\n",
            "[CV] END bootstrap=False, max_depth=30, max_features=auto, min_samples_leaf=2, min_samples_split=5, n_estimators=200; total time=   0.0s\n",
            "[CV] END bootstrap=False, max_depth=30, max_features=auto, min_samples_leaf=2, min_samples_split=5, n_estimators=300; total time=   0.0s\n",
            "[CV] END bootstrap=False, max_depth=30, max_features=auto, min_samples_leaf=2, min_samples_split=5, n_estimators=300; total time=   0.0s\n",
            "[CV] END bootstrap=False, max_depth=30, max_features=auto, min_samples_leaf=2, min_samples_split=5, n_estimators=300; total time=   0.0s\n",
            "[CV] END bootstrap=False, max_depth=30, max_features=auto, min_samples_leaf=2, min_samples_split=10, n_estimators=100; total time=   0.0s\n",
            "[CV] END bootstrap=False, max_depth=30, max_features=auto, min_samples_leaf=2, min_samples_split=10, n_estimators=100; total time=   0.0s\n",
            "[CV] END bootstrap=False, max_depth=30, max_features=auto, min_samples_leaf=2, min_samples_split=10, n_estimators=100; total time=   0.0s\n",
            "[CV] END bootstrap=False, max_depth=30, max_features=auto, min_samples_leaf=2, min_samples_split=10, n_estimators=200; total time=   0.0s\n",
            "[CV] END bootstrap=False, max_depth=30, max_features=auto, min_samples_leaf=2, min_samples_split=10, n_estimators=200; total time=   0.0s\n",
            "[CV] END bootstrap=False, max_depth=30, max_features=auto, min_samples_leaf=2, min_samples_split=10, n_estimators=200; total time=   0.0s\n",
            "[CV] END bootstrap=False, max_depth=30, max_features=auto, min_samples_leaf=2, min_samples_split=10, n_estimators=300; total time=   0.0s\n",
            "[CV] END bootstrap=False, max_depth=30, max_features=auto, min_samples_leaf=2, min_samples_split=10, n_estimators=300; total time=   0.0s\n",
            "[CV] END bootstrap=False, max_depth=30, max_features=auto, min_samples_leaf=2, min_samples_split=10, n_estimators=300; total time=   0.0s\n",
            "[CV] END bootstrap=False, max_depth=20, max_features=sqrt, min_samples_leaf=4, min_samples_split=2, n_estimators=200; total time=   1.1s\n",
            "[CV] END bootstrap=False, max_depth=30, max_features=auto, min_samples_leaf=4, min_samples_split=2, n_estimators=100; total time=   0.0s\n",
            "[CV] END bootstrap=False, max_depth=20, max_features=sqrt, min_samples_leaf=2, min_samples_split=10, n_estimators=100; total time=   0.5s\n",
            "[CV] END bootstrap=False, max_depth=30, max_features=auto, min_samples_leaf=4, min_samples_split=2, n_estimators=200; total time=   0.0s\n",
            "[CV] END bootstrap=False, max_depth=30, max_features=auto, min_samples_leaf=4, min_samples_split=2, n_estimators=100; total time=   0.0s\n",
            "[CV] END bootstrap=False, max_depth=30, max_features=auto, min_samples_leaf=4, min_samples_split=2, n_estimators=100; total time=   0.0s\n",
            "[CV] END bootstrap=False, max_depth=30, max_features=auto, min_samples_leaf=4, min_samples_split=2, n_estimators=200; total time=   0.0s\n",
            "[CV] END bootstrap=False, max_depth=30, max_features=auto, min_samples_leaf=4, min_samples_split=2, n_estimators=200; total time=   0.0s\n",
            "[CV] END bootstrap=False, max_depth=30, max_features=auto, min_samples_leaf=4, min_samples_split=2, n_estimators=300; total time=   0.0s\n",
            "[CV] END bootstrap=False, max_depth=30, max_features=auto, min_samples_leaf=4, min_samples_split=2, n_estimators=300; total time=   0.0s\n",
            "[CV] END bootstrap=False, max_depth=30, max_features=auto, min_samples_leaf=4, min_samples_split=2, n_estimators=300; total time=   0.0s\n",
            "[CV] END bootstrap=False, max_depth=30, max_features=auto, min_samples_leaf=4, min_samples_split=5, n_estimators=100; total time=   0.0s\n",
            "[CV] END bootstrap=False, max_depth=30, max_features=auto, min_samples_leaf=4, min_samples_split=5, n_estimators=100; total time=   0.0s\n",
            "[CV] END bootstrap=False, max_depth=30, max_features=auto, min_samples_leaf=4, min_samples_split=5, n_estimators=100; total time=   0.0s\n",
            "[CV] END bootstrap=False, max_depth=30, max_features=auto, min_samples_leaf=4, min_samples_split=5, n_estimators=200; total time=   0.0s\n",
            "[CV] END bootstrap=False, max_depth=30, max_features=auto, min_samples_leaf=4, min_samples_split=5, n_estimators=200; total time=   0.0s\n",
            "[CV] END bootstrap=False, max_depth=30, max_features=auto, min_samples_leaf=4, min_samples_split=5, n_estimators=200; total time=   0.0s\n",
            "[CV] END bootstrap=False, max_depth=30, max_features=auto, min_samples_leaf=4, min_samples_split=5, n_estimators=300; total time=   0.0s\n",
            "[CV] END bootstrap=False, max_depth=30, max_features=auto, min_samples_leaf=4, min_samples_split=10, n_estimators=100; total time=   0.0s\n",
            "[CV] END bootstrap=False, max_depth=30, max_features=auto, min_samples_leaf=4, min_samples_split=5, n_estimators=300; total time=   0.0s\n",
            "[CV] END bootstrap=False, max_depth=30, max_features=auto, min_samples_leaf=4, min_samples_split=10, n_estimators=100; total time=   0.0s\n",
            "[CV] END bootstrap=False, max_depth=30, max_features=auto, min_samples_leaf=4, min_samples_split=5, n_estimators=300; total time=   0.0s\n",
            "[CV] END bootstrap=False, max_depth=30, max_features=auto, min_samples_leaf=4, min_samples_split=10, n_estimators=200; total time=   0.0s\n",
            "[CV] END bootstrap=False, max_depth=30, max_features=auto, min_samples_leaf=4, min_samples_split=10, n_estimators=200; total time=   0.0s\n",
            "[CV] END bootstrap=False, max_depth=30, max_features=auto, min_samples_leaf=4, min_samples_split=10, n_estimators=100; total time=   0.0s\n",
            "[CV] END bootstrap=False, max_depth=30, max_features=auto, min_samples_leaf=4, min_samples_split=10, n_estimators=300; total time=   0.0s\n",
            "[CV] END bootstrap=False, max_depth=30, max_features=auto, min_samples_leaf=4, min_samples_split=10, n_estimators=200; total time=   0.0s\n",
            "[CV] END bootstrap=False, max_depth=30, max_features=auto, min_samples_leaf=4, min_samples_split=10, n_estimators=300; total time=   0.0s\n",
            "[CV] END bootstrap=False, max_depth=30, max_features=auto, min_samples_leaf=4, min_samples_split=10, n_estimators=300; total time=   0.0s\n",
            "[CV] END bootstrap=False, max_depth=20, max_features=sqrt, min_samples_leaf=4, min_samples_split=10, n_estimators=200; total time=   1.1s\n",
            "[CV] END bootstrap=False, max_depth=20, max_features=sqrt, min_samples_leaf=4, min_samples_split=5, n_estimators=300; total time=   1.6s\n",
            "[CV] END bootstrap=False, max_depth=20, max_features=sqrt, min_samples_leaf=4, min_samples_split=5, n_estimators=200; total time=   1.2s\n",
            "[CV] END bootstrap=False, max_depth=30, max_features=sqrt, min_samples_leaf=1, min_samples_split=2, n_estimators=100; total time=   0.6s\n",
            "[CV] END bootstrap=False, max_depth=30, max_features=sqrt, min_samples_leaf=1, min_samples_split=2, n_estimators=100; total time=   0.6s\n",
            "[CV] END bootstrap=False, max_depth=30, max_features=sqrt, min_samples_leaf=1, min_samples_split=2, n_estimators=100; total time=   0.6s\n",
            "[CV] END bootstrap=False, max_depth=20, max_features=sqrt, min_samples_leaf=2, min_samples_split=10, n_estimators=300; total time=   1.6s\n",
            "[CV] END bootstrap=False, max_depth=20, max_features=sqrt, min_samples_leaf=4, min_samples_split=10, n_estimators=100; total time=   0.5s\n",
            "[CV] END bootstrap=False, max_depth=20, max_features=sqrt, min_samples_leaf=4, min_samples_split=10, n_estimators=300; total time=   1.7s\n",
            "[CV] END bootstrap=False, max_depth=20, max_features=sqrt, min_samples_leaf=4, min_samples_split=10, n_estimators=300; total time=   1.4s\n",
            "[CV] END bootstrap=False, max_depth=20, max_features=sqrt, min_samples_leaf=4, min_samples_split=2, n_estimators=300; total time=   1.7s\n",
            "[CV] END bootstrap=False, max_depth=20, max_features=sqrt, min_samples_leaf=4, min_samples_split=10, n_estimators=200; total time=   1.1s\n",
            "[CV] END bootstrap=False, max_depth=20, max_features=sqrt, min_samples_leaf=4, min_samples_split=2, n_estimators=100; total time=   0.6s\n",
            "[CV] END bootstrap=False, max_depth=20, max_features=sqrt, min_samples_leaf=4, min_samples_split=10, n_estimators=100; total time=   0.6s\n",
            "[CV] END bootstrap=False, max_depth=30, max_features=sqrt, min_samples_leaf=1, min_samples_split=2, n_estimators=200; total time=   1.1s\n",
            "[CV] END bootstrap=False, max_depth=30, max_features=sqrt, min_samples_leaf=1, min_samples_split=2, n_estimators=200; total time=   1.2s\n",
            "[CV] END bootstrap=False, max_depth=20, max_features=sqrt, min_samples_leaf=4, min_samples_split=10, n_estimators=100; total time=   0.5s\n",
            "[CV] END bootstrap=False, max_depth=30, max_features=sqrt, min_samples_leaf=1, min_samples_split=2, n_estimators=200; total time=   1.3s\n",
            "[CV] END bootstrap=False, max_depth=20, max_features=sqrt, min_samples_leaf=4, min_samples_split=5, n_estimators=300; total time=   1.6s\n",
            "[CV] END bootstrap=False, max_depth=30, max_features=sqrt, min_samples_leaf=1, min_samples_split=5, n_estimators=100; total time=   0.5s\n",
            "[CV] END bootstrap=False, max_depth=20, max_features=sqrt, min_samples_leaf=4, min_samples_split=10, n_estimators=200; total time=   1.1s\n",
            "[CV] END bootstrap=False, max_depth=30, max_features=sqrt, min_samples_leaf=1, min_samples_split=5, n_estimators=100; total time=   0.5s\n",
            "[CV] END bootstrap=False, max_depth=30, max_features=sqrt, min_samples_leaf=1, min_samples_split=2, n_estimators=300; total time=   1.7s\n",
            "[CV] END bootstrap=False, max_depth=30, max_features=sqrt, min_samples_leaf=1, min_samples_split=5, n_estimators=100; total time=   0.7s\n",
            "[CV] END bootstrap=False, max_depth=30, max_features=sqrt, min_samples_leaf=1, min_samples_split=2, n_estimators=300; total time=   1.8s\n",
            "[CV] END bootstrap=False, max_depth=20, max_features=sqrt, min_samples_leaf=4, min_samples_split=2, n_estimators=300; total time=   1.5s\n",
            "[CV] END bootstrap=False, max_depth=30, max_features=sqrt, min_samples_leaf=1, min_samples_split=2, n_estimators=300; total time=   1.6s\n",
            "[CV] END bootstrap=False, max_depth=30, max_features=sqrt, min_samples_leaf=1, min_samples_split=5, n_estimators=200; total time=   1.1s\n",
            "[CV] END bootstrap=False, max_depth=30, max_features=sqrt, min_samples_leaf=1, min_samples_split=5, n_estimators=200; total time=   1.0s\n",
            "[CV] END bootstrap=False, max_depth=30, max_features=sqrt, min_samples_leaf=1, min_samples_split=5, n_estimators=200; total time=   1.1s\n",
            "[CV] END bootstrap=False, max_depth=20, max_features=sqrt, min_samples_leaf=4, min_samples_split=5, n_estimators=300; total time=   1.4s\n",
            "[CV] END bootstrap=False, max_depth=30, max_features=sqrt, min_samples_leaf=2, min_samples_split=2, n_estimators=100; total time=   0.5s\n",
            "[CV] END bootstrap=False, max_depth=30, max_features=sqrt, min_samples_leaf=1, min_samples_split=10, n_estimators=200; total time=   1.0s\n",
            "[CV] END bootstrap=False, max_depth=20, max_features=sqrt, min_samples_leaf=4, min_samples_split=10, n_estimators=300; total time=   1.5s\n",
            "[CV] END bootstrap=False, max_depth=30, max_features=sqrt, min_samples_leaf=2, min_samples_split=5, n_estimators=100; total time=   0.5s\n",
            "[CV] END bootstrap=False, max_depth=30, max_features=sqrt, min_samples_leaf=1, min_samples_split=5, n_estimators=300; total time=   1.5s\n",
            "[CV] END bootstrap=False, max_depth=30, max_features=sqrt, min_samples_leaf=1, min_samples_split=5, n_estimators=300; total time=   1.6s\n",
            "[CV] END bootstrap=False, max_depth=30, max_features=sqrt, min_samples_leaf=1, min_samples_split=5, n_estimators=300; total time=   1.5s\n",
            "[CV] END bootstrap=False, max_depth=30, max_features=sqrt, min_samples_leaf=2, min_samples_split=10, n_estimators=100; total time=   0.5s\n",
            "[CV] END bootstrap=False, max_depth=30, max_features=sqrt, min_samples_leaf=1, min_samples_split=10, n_estimators=300; total time=   1.5s\n",
            "[CV] END bootstrap=False, max_depth=30, max_features=sqrt, min_samples_leaf=2, min_samples_split=5, n_estimators=100; total time=   0.5s\n",
            "[CV] END bootstrap=False, max_depth=30, max_features=sqrt, min_samples_leaf=2, min_samples_split=2, n_estimators=200; total time=   1.0s\n",
            "[CV] END bootstrap=False, max_depth=30, max_features=sqrt, min_samples_leaf=2, min_samples_split=5, n_estimators=200; total time=   1.1s\n",
            "[CV] END bootstrap=False, max_depth=30, max_features=sqrt, min_samples_leaf=2, min_samples_split=10, n_estimators=100; total time=   0.5s\n",
            "[CV] END bootstrap=False, max_depth=30, max_features=sqrt, min_samples_leaf=2, min_samples_split=2, n_estimators=300; total time=   1.5s\n",
            "[CV] END bootstrap=False, max_depth=30, max_features=sqrt, min_samples_leaf=1, min_samples_split=10, n_estimators=200; total time=   1.0s\n",
            "[CV] END bootstrap=False, max_depth=30, max_features=sqrt, min_samples_leaf=1, min_samples_split=10, n_estimators=100; total time=   0.6s\n",
            "[CV] END bootstrap=False, max_depth=30, max_features=sqrt, min_samples_leaf=2, min_samples_split=10, n_estimators=200; total time=   0.9s\n",
            "[CV] END bootstrap=False, max_depth=30, max_features=sqrt, min_samples_leaf=2, min_samples_split=10, n_estimators=100; total time=   0.5s\n",
            "[CV] END bootstrap=False, max_depth=30, max_features=sqrt, min_samples_leaf=1, min_samples_split=10, n_estimators=100; total time=   0.5s\n",
            "[CV] END bootstrap=False, max_depth=30, max_features=sqrt, min_samples_leaf=2, min_samples_split=5, n_estimators=200; total time=   1.0s\n",
            "[CV] END bootstrap=False, max_depth=30, max_features=sqrt, min_samples_leaf=2, min_samples_split=2, n_estimators=200; total time=   0.9s\n",
            "[CV] END bootstrap=False, max_depth=30, max_features=sqrt, min_samples_leaf=2, min_samples_split=10, n_estimators=300; total time=   1.4s\n",
            "[CV] END bootstrap=False, max_depth=30, max_features=sqrt, min_samples_leaf=1, min_samples_split=10, n_estimators=100; total time=   0.5s\n",
            "[CV] END bootstrap=False, max_depth=30, max_features=sqrt, min_samples_leaf=1, min_samples_split=10, n_estimators=200; total time=   1.0s\n",
            "[CV] END bootstrap=False, max_depth=30, max_features=sqrt, min_samples_leaf=1, min_samples_split=10, n_estimators=300; total time=   1.5s\n",
            "[CV] END bootstrap=False, max_depth=30, max_features=sqrt, min_samples_leaf=2, min_samples_split=10, n_estimators=200; total time=   1.0s\n",
            "[CV] END bootstrap=False, max_depth=30, max_features=sqrt, min_samples_leaf=4, min_samples_split=2, n_estimators=100; total time=   0.5s\n",
            "[CV] END bootstrap=False, max_depth=30, max_features=sqrt, min_samples_leaf=2, min_samples_split=5, n_estimators=300; total time=   1.5s\n",
            "[CV] END bootstrap=False, max_depth=30, max_features=sqrt, min_samples_leaf=2, min_samples_split=2, n_estimators=300; total time=   1.5s\n",
            "[CV] END bootstrap=False, max_depth=30, max_features=sqrt, min_samples_leaf=2, min_samples_split=10, n_estimators=200; total time=   1.0s\n",
            "[CV] END bootstrap=False, max_depth=30, max_features=sqrt, min_samples_leaf=2, min_samples_split=2, n_estimators=100; total time=   0.5s\n",
            "[CV] END bootstrap=False, max_depth=30, max_features=sqrt, min_samples_leaf=2, min_samples_split=2, n_estimators=200; total time=   1.0s\n",
            "[CV] END bootstrap=False, max_depth=30, max_features=sqrt, min_samples_leaf=4, min_samples_split=2, n_estimators=100; total time=   0.5s\n",
            "[CV] END bootstrap=False, max_depth=30, max_features=sqrt, min_samples_leaf=2, min_samples_split=5, n_estimators=200; total time=   1.1s\n",
            "[CV] END bootstrap=False, max_depth=30, max_features=sqrt, min_samples_leaf=4, min_samples_split=2, n_estimators=200; total time=   0.9s\n",
            "[CV] END bootstrap=False, max_depth=30, max_features=sqrt, min_samples_leaf=2, min_samples_split=2, n_estimators=100; total time=   0.5s\n",
            "[CV] END bootstrap=False, max_depth=30, max_features=sqrt, min_samples_leaf=4, min_samples_split=2, n_estimators=100; total time=   0.5s\n",
            "[CV] END bootstrap=False, max_depth=30, max_features=sqrt, min_samples_leaf=4, min_samples_split=2, n_estimators=200; total time=   0.9s\n",
            "[CV] END bootstrap=False, max_depth=30, max_features=sqrt, min_samples_leaf=1, min_samples_split=10, n_estimators=300; total time=   1.5s\n",
            "[CV] END bootstrap=False, max_depth=30, max_features=sqrt, min_samples_leaf=4, min_samples_split=2, n_estimators=200; total time=   0.9s\n",
            "[CV] END bootstrap=False, max_depth=30, max_features=sqrt, min_samples_leaf=2, min_samples_split=10, n_estimators=300; total time=   1.4s\n",
            "[CV] END bootstrap=False, max_depth=30, max_features=sqrt, min_samples_leaf=4, min_samples_split=5, n_estimators=100; total time=   0.5s\n",
            "[CV] END bootstrap=False, max_depth=30, max_features=sqrt, min_samples_leaf=4, min_samples_split=5, n_estimators=100; total time=   0.4s\n",
            "[CV] END bootstrap=False, max_depth=30, max_features=sqrt, min_samples_leaf=2, min_samples_split=5, n_estimators=300; total time=   1.6s\n",
            "[CV] END bootstrap=False, max_depth=30, max_features=sqrt, min_samples_leaf=2, min_samples_split=2, n_estimators=300; total time=   1.5s\n",
            "[CV] END bootstrap=False, max_depth=30, max_features=sqrt, min_samples_leaf=4, min_samples_split=5, n_estimators=100; total time=   0.5s\n",
            "[CV] END bootstrap=False, max_depth=30, max_features=sqrt, min_samples_leaf=4, min_samples_split=2, n_estimators=300; total time=   1.3s\n",
            "[CV] END bootstrap=False, max_depth=30, max_features=sqrt, min_samples_leaf=4, min_samples_split=2, n_estimators=300; total time=   1.4s\n",
            "[CV] END bootstrap=False, max_depth=30, max_features=sqrt, min_samples_leaf=4, min_samples_split=2, n_estimators=300; total time=   1.4s\n",
            "[CV] END bootstrap=False, max_depth=30, max_features=sqrt, min_samples_leaf=2, min_samples_split=5, n_estimators=100; total time=   0.6s\n",
            "[CV] END bootstrap=False, max_depth=30, max_features=sqrt, min_samples_leaf=4, min_samples_split=5, n_estimators=200; total time=   1.1s\n",
            "[CV] END bootstrap=False, max_depth=30, max_features=sqrt, min_samples_leaf=4, min_samples_split=5, n_estimators=200; total time=   1.1s\n",
            "[CV] END bootstrap=False, max_depth=30, max_features=sqrt, min_samples_leaf=4, min_samples_split=5, n_estimators=200; total time=   1.1s\n",
            "[CV] END bootstrap=False, max_depth=30, max_features=sqrt, min_samples_leaf=4, min_samples_split=10, n_estimators=100; total time=   0.6s\n",
            "[CV] END bootstrap=False, max_depth=30, max_features=sqrt, min_samples_leaf=4, min_samples_split=10, n_estimators=100; total time=   0.6s\n",
            "[CV] END bootstrap=False, max_depth=30, max_features=sqrt, min_samples_leaf=4, min_samples_split=10, n_estimators=100; total time=   0.6s\n",
            "[CV] END bootstrap=False, max_depth=30, max_features=sqrt, min_samples_leaf=2, min_samples_split=10, n_estimators=300; total time=   1.6s\n",
            "[CV] END bootstrap=False, max_depth=30, max_features=sqrt, min_samples_leaf=4, min_samples_split=5, n_estimators=300; total time=   1.7s\n",
            "[CV] END bootstrap=False, max_depth=None, max_features=auto, min_samples_leaf=1, min_samples_split=2, n_estimators=100; total time=   0.0s\n",
            "[CV] END bootstrap=False, max_depth=None, max_features=auto, min_samples_leaf=1, min_samples_split=2, n_estimators=100; total time=   0.0s\n",
            "[CV] END bootstrap=False, max_depth=None, max_features=auto, min_samples_leaf=1, min_samples_split=2, n_estimators=100; total time=   0.0s\n",
            "[CV] END bootstrap=False, max_depth=None, max_features=auto, min_samples_leaf=1, min_samples_split=2, n_estimators=200; total time=   0.0s\n",
            "[CV] END bootstrap=False, max_depth=None, max_features=auto, min_samples_leaf=1, min_samples_split=2, n_estimators=200; total time=   0.0s\n",
            "[CV] END bootstrap=False, max_depth=None, max_features=auto, min_samples_leaf=1, min_samples_split=2, n_estimators=200; total time=   0.0s\n",
            "[CV] END bootstrap=False, max_depth=None, max_features=auto, min_samples_leaf=1, min_samples_split=2, n_estimators=300; total time=   0.0s\n",
            "[CV] END bootstrap=False, max_depth=None, max_features=auto, min_samples_leaf=1, min_samples_split=2, n_estimators=300; total time=   0.0s\n",
            "[CV] END bootstrap=False, max_depth=30, max_features=sqrt, min_samples_leaf=2, min_samples_split=5, n_estimators=300; total time=   1.8s\n",
            "[CV] END bootstrap=False, max_depth=None, max_features=auto, min_samples_leaf=1, min_samples_split=2, n_estimators=300; total time=   0.0s\n",
            "[CV] END bootstrap=False, max_depth=None, max_features=auto, min_samples_leaf=1, min_samples_split=5, n_estimators=100; total time=   0.0s\n",
            "[CV] END bootstrap=False, max_depth=None, max_features=auto, min_samples_leaf=1, min_samples_split=5, n_estimators=100; total time=   0.0s\n",
            "[CV] END bootstrap=False, max_depth=None, max_features=auto, min_samples_leaf=1, min_samples_split=5, n_estimators=100; total time=   0.0s\n",
            "[CV] END bootstrap=False, max_depth=None, max_features=auto, min_samples_leaf=1, min_samples_split=5, n_estimators=200; total time=   0.0s\n",
            "[CV] END bootstrap=False, max_depth=None, max_features=auto, min_samples_leaf=1, min_samples_split=5, n_estimators=200; total time=   0.0s\n",
            "[CV] END bootstrap=False, max_depth=None, max_features=auto, min_samples_leaf=1, min_samples_split=5, n_estimators=200; total time=   0.0s\n",
            "[CV] END bootstrap=False, max_depth=None, max_features=auto, min_samples_leaf=1, min_samples_split=5, n_estimators=300; total time=   0.0s\n",
            "[CV] END bootstrap=False, max_depth=None, max_features=auto, min_samples_leaf=1, min_samples_split=5, n_estimators=300; total time=   0.0s\n",
            "[CV] END bootstrap=False, max_depth=None, max_features=auto, min_samples_leaf=1, min_samples_split=5, n_estimators=300; total time=   0.0s\n",
            "[CV] END bootstrap=False, max_depth=None, max_features=auto, min_samples_leaf=1, min_samples_split=10, n_estimators=100; total time=   0.0s\n",
            "[CV] END bootstrap=False, max_depth=None, max_features=auto, min_samples_leaf=1, min_samples_split=10, n_estimators=100; total time=   0.0s\n",
            "[CV] END bootstrap=False, max_depth=None, max_features=auto, min_samples_leaf=1, min_samples_split=10, n_estimators=100; total time=   0.0s\n",
            "[CV] END bootstrap=False, max_depth=None, max_features=auto, min_samples_leaf=1, min_samples_split=10, n_estimators=200; total time=   0.0s\n",
            "[CV] END bootstrap=False, max_depth=None, max_features=auto, min_samples_leaf=1, min_samples_split=10, n_estimators=200; total time=   0.0s\n",
            "[CV] END bootstrap=False, max_depth=None, max_features=auto, min_samples_leaf=1, min_samples_split=10, n_estimators=200; total time=   0.0s\n",
            "[CV] END bootstrap=False, max_depth=None, max_features=auto, min_samples_leaf=1, min_samples_split=10, n_estimators=300; total time=   0.0s\n",
            "[CV] END bootstrap=False, max_depth=None, max_features=auto, min_samples_leaf=1, min_samples_split=10, n_estimators=300; total time=   0.0s\n",
            "[CV] END bootstrap=False, max_depth=None, max_features=auto, min_samples_leaf=1, min_samples_split=10, n_estimators=300; total time=   0.0s\n",
            "[CV] END bootstrap=False, max_depth=None, max_features=auto, min_samples_leaf=2, min_samples_split=2, n_estimators=100; total time=   0.0s\n",
            "[CV] END bootstrap=False, max_depth=None, max_features=auto, min_samples_leaf=2, min_samples_split=2, n_estimators=100; total time=   0.0s\n",
            "[CV] END bootstrap=False, max_depth=None, max_features=auto, min_samples_leaf=2, min_samples_split=2, n_estimators=100; total time=   0.0s\n",
            "[CV] END bootstrap=False, max_depth=None, max_features=auto, min_samples_leaf=2, min_samples_split=2, n_estimators=200; total time=   0.0s\n",
            "[CV] END bootstrap=False, max_depth=None, max_features=auto, min_samples_leaf=2, min_samples_split=2, n_estimators=200; total time=   0.0s\n",
            "[CV] END bootstrap=False, max_depth=None, max_features=auto, min_samples_leaf=2, min_samples_split=2, n_estimators=200; total time=   0.0s\n",
            "[CV] END bootstrap=False, max_depth=None, max_features=auto, min_samples_leaf=2, min_samples_split=2, n_estimators=300; total time=   0.0s\n",
            "[CV] END bootstrap=False, max_depth=None, max_features=auto, min_samples_leaf=2, min_samples_split=2, n_estimators=300; total time=   0.0s\n",
            "[CV] END bootstrap=False, max_depth=None, max_features=auto, min_samples_leaf=2, min_samples_split=2, n_estimators=300; total time=   0.0s\n",
            "[CV] END bootstrap=False, max_depth=None, max_features=auto, min_samples_leaf=2, min_samples_split=5, n_estimators=100; total time=   0.0s\n",
            "[CV] END bootstrap=False, max_depth=None, max_features=auto, min_samples_leaf=2, min_samples_split=5, n_estimators=100; total time=   0.0s\n",
            "[CV] END bootstrap=False, max_depth=None, max_features=auto, min_samples_leaf=2, min_samples_split=5, n_estimators=100; total time=   0.0s\n",
            "[CV] END bootstrap=False, max_depth=None, max_features=auto, min_samples_leaf=2, min_samples_split=5, n_estimators=200; total time=   0.0s\n",
            "[CV] END bootstrap=False, max_depth=None, max_features=auto, min_samples_leaf=2, min_samples_split=5, n_estimators=300; total time=   0.0s\n",
            "[CV] END bootstrap=False, max_depth=None, max_features=auto, min_samples_leaf=2, min_samples_split=5, n_estimators=200; total time=   0.0s\n",
            "[CV] END bootstrap=False, max_depth=None, max_features=auto, min_samples_leaf=2, min_samples_split=5, n_estimators=300; total time=   0.0s\n",
            "[CV] END bootstrap=False, max_depth=None, max_features=auto, min_samples_leaf=2, min_samples_split=5, n_estimators=200; total time=   0.0s\n",
            "[CV] END bootstrap=False, max_depth=None, max_features=auto, min_samples_leaf=2, min_samples_split=5, n_estimators=300; total time=   0.0s\n",
            "[CV] END bootstrap=False, max_depth=None, max_features=auto, min_samples_leaf=2, min_samples_split=10, n_estimators=100; total time=   0.0s\n",
            "[CV] END bootstrap=False, max_depth=None, max_features=auto, min_samples_leaf=2, min_samples_split=10, n_estimators=100; total time=   0.0s\n",
            "[CV] END bootstrap=False, max_depth=None, max_features=auto, min_samples_leaf=2, min_samples_split=10, n_estimators=100; total time=   0.0s\n",
            "[CV] END bootstrap=False, max_depth=None, max_features=auto, min_samples_leaf=2, min_samples_split=10, n_estimators=200; total time=   0.0s\n",
            "[CV] END bootstrap=False, max_depth=None, max_features=auto, min_samples_leaf=2, min_samples_split=10, n_estimators=200; total time=   0.0s\n",
            "[CV] END bootstrap=False, max_depth=None, max_features=auto, min_samples_leaf=2, min_samples_split=10, n_estimators=200; total time=   0.0s\n",
            "[CV] END bootstrap=False, max_depth=None, max_features=auto, min_samples_leaf=2, min_samples_split=10, n_estimators=300; total time=   0.0s\n",
            "[CV] END bootstrap=False, max_depth=None, max_features=auto, min_samples_leaf=4, min_samples_split=2, n_estimators=100; total time=   0.0s\n",
            "[CV] END bootstrap=False, max_depth=None, max_features=auto, min_samples_leaf=4, min_samples_split=2, n_estimators=100; total time=   0.0s\n",
            "[CV] END bootstrap=False, max_depth=None, max_features=auto, min_samples_leaf=2, min_samples_split=10, n_estimators=300; total time=   0.0s\n",
            "[CV] END bootstrap=False, max_depth=None, max_features=auto, min_samples_leaf=2, min_samples_split=10, n_estimators=300; total time=   0.0s\n",
            "[CV] END bootstrap=False, max_depth=None, max_features=auto, min_samples_leaf=4, min_samples_split=2, n_estimators=100; total time=   0.0s\n",
            "[CV] END bootstrap=False, max_depth=None, max_features=auto, min_samples_leaf=4, min_samples_split=2, n_estimators=200; total time=   0.0s\n",
            "[CV] END bootstrap=False, max_depth=30, max_features=sqrt, min_samples_leaf=4, min_samples_split=5, n_estimators=300; total time=   1.8s\n",
            "[CV] END bootstrap=False, max_depth=None, max_features=auto, min_samples_leaf=4, min_samples_split=2, n_estimators=200; total time=   0.0s\n",
            "[CV] END bootstrap=False, max_depth=None, max_features=auto, min_samples_leaf=4, min_samples_split=2, n_estimators=200; total time=   0.0s\n",
            "[CV] END bootstrap=False, max_depth=None, max_features=auto, min_samples_leaf=4, min_samples_split=2, n_estimators=300; total time=   0.0s\n",
            "[CV] END bootstrap=False, max_depth=None, max_features=auto, min_samples_leaf=4, min_samples_split=2, n_estimators=300; total time=   0.0s\n",
            "[CV] END bootstrap=False, max_depth=None, max_features=auto, min_samples_leaf=4, min_samples_split=2, n_estimators=300; total time=   0.0s\n",
            "[CV] END bootstrap=False, max_depth=None, max_features=auto, min_samples_leaf=4, min_samples_split=5, n_estimators=100; total time=   0.0s\n",
            "[CV] END bootstrap=False, max_depth=None, max_features=auto, min_samples_leaf=4, min_samples_split=5, n_estimators=100; total time=   0.0s\n",
            "[CV] END bootstrap=False, max_depth=None, max_features=auto, min_samples_leaf=4, min_samples_split=5, n_estimators=100; total time=   0.0s\n",
            "[CV] END bootstrap=False, max_depth=None, max_features=auto, min_samples_leaf=4, min_samples_split=5, n_estimators=200; total time=   0.0s\n",
            "[CV] END bootstrap=False, max_depth=None, max_features=auto, min_samples_leaf=4, min_samples_split=5, n_estimators=200; total time=   0.0s\n",
            "[CV] END bootstrap=False, max_depth=None, max_features=auto, min_samples_leaf=4, min_samples_split=5, n_estimators=200; total time=   0.0s\n",
            "[CV] END bootstrap=False, max_depth=None, max_features=auto, min_samples_leaf=4, min_samples_split=5, n_estimators=300; total time=   0.0s\n",
            "[CV] END bootstrap=False, max_depth=None, max_features=auto, min_samples_leaf=4, min_samples_split=5, n_estimators=300; total time=   0.0s\n",
            "[CV] END bootstrap=False, max_depth=None, max_features=auto, min_samples_leaf=4, min_samples_split=5, n_estimators=300; total time=   0.0s\n",
            "[CV] END bootstrap=False, max_depth=None, max_features=auto, min_samples_leaf=4, min_samples_split=10, n_estimators=100; total time=   0.0s\n",
            "[CV] END bootstrap=False, max_depth=None, max_features=auto, min_samples_leaf=4, min_samples_split=10, n_estimators=100; total time=   0.0s\n",
            "[CV] END bootstrap=False, max_depth=None, max_features=auto, min_samples_leaf=4, min_samples_split=10, n_estimators=100; total time=   0.0s\n",
            "[CV] END bootstrap=False, max_depth=None, max_features=auto, min_samples_leaf=4, min_samples_split=10, n_estimators=200; total time=   0.0s\n",
            "[CV] END bootstrap=False, max_depth=None, max_features=auto, min_samples_leaf=4, min_samples_split=10, n_estimators=200; total time=   0.0s\n",
            "[CV] END bootstrap=False, max_depth=None, max_features=auto, min_samples_leaf=4, min_samples_split=10, n_estimators=200; total time=   0.0s\n",
            "[CV] END bootstrap=False, max_depth=None, max_features=auto, min_samples_leaf=4, min_samples_split=10, n_estimators=300; total time=   0.0s\n",
            "[CV] END bootstrap=False, max_depth=None, max_features=auto, min_samples_leaf=4, min_samples_split=10, n_estimators=300; total time=   0.0s\n",
            "[CV] END bootstrap=False, max_depth=None, max_features=auto, min_samples_leaf=4, min_samples_split=10, n_estimators=300; total time=   0.0s\n",
            "[CV] END bootstrap=False, max_depth=30, max_features=sqrt, min_samples_leaf=4, min_samples_split=10, n_estimators=200; total time=   1.2s\n",
            "[CV] END bootstrap=False, max_depth=30, max_features=sqrt, min_samples_leaf=4, min_samples_split=5, n_estimators=300; total time=   1.8s\n",
            "[CV] END bootstrap=False, max_depth=30, max_features=sqrt, min_samples_leaf=4, min_samples_split=10, n_estimators=200; total time=   1.3s\n",
            "[CV] END bootstrap=False, max_depth=30, max_features=sqrt, min_samples_leaf=4, min_samples_split=10, n_estimators=200; total time=   1.3s\n",
            "[CV] END bootstrap=False, max_depth=None, max_features=sqrt, min_samples_leaf=1, min_samples_split=2, n_estimators=100; total time=   0.6s\n",
            "[CV] END bootstrap=False, max_depth=None, max_features=sqrt, min_samples_leaf=1, min_samples_split=5, n_estimators=100; total time=   0.6s\n",
            "[CV] END bootstrap=False, max_depth=None, max_features=sqrt, min_samples_leaf=1, min_samples_split=10, n_estimators=100; total time=   0.5s\n",
            "[CV] END bootstrap=False, max_depth=30, max_features=sqrt, min_samples_leaf=4, min_samples_split=10, n_estimators=300; total time=   1.8s\n",
            "[CV] END bootstrap=False, max_depth=30, max_features=sqrt, min_samples_leaf=4, min_samples_split=10, n_estimators=300; total time=   1.7s\n",
            "[CV] END bootstrap=False, max_depth=None, max_features=sqrt, min_samples_leaf=1, min_samples_split=2, n_estimators=100; total time=   0.5s\n",
            "[CV] END bootstrap=False, max_depth=None, max_features=sqrt, min_samples_leaf=1, min_samples_split=2, n_estimators=200; total time=   1.1s\n",
            "[CV] END bootstrap=False, max_depth=30, max_features=sqrt, min_samples_leaf=4, min_samples_split=10, n_estimators=300; total time=   1.8s\n",
            "[CV] END bootstrap=False, max_depth=None, max_features=sqrt, min_samples_leaf=1, min_samples_split=10, n_estimators=100; total time=   0.5s\n",
            "[CV] END bootstrap=False, max_depth=None, max_features=sqrt, min_samples_leaf=2, min_samples_split=2, n_estimators=100; total time=   0.5s\n",
            "[CV] END bootstrap=False, max_depth=None, max_features=sqrt, min_samples_leaf=1, min_samples_split=10, n_estimators=200; total time=   1.0s\n",
            "[CV] END bootstrap=False, max_depth=None, max_features=sqrt, min_samples_leaf=1, min_samples_split=2, n_estimators=100; total time=   0.5s\n",
            "[CV] END bootstrap=False, max_depth=None, max_features=sqrt, min_samples_leaf=1, min_samples_split=2, n_estimators=300; total time=   1.7s\n",
            "[CV] END bootstrap=False, max_depth=None, max_features=sqrt, min_samples_leaf=1, min_samples_split=5, n_estimators=200; total time=   1.1s\n",
            "[CV] END bootstrap=False, max_depth=None, max_features=sqrt, min_samples_leaf=1, min_samples_split=5, n_estimators=300; total time=   1.6s\n",
            "[CV] END bootstrap=False, max_depth=None, max_features=sqrt, min_samples_leaf=2, min_samples_split=2, n_estimators=100; total time=   0.5s\n",
            "[CV] END bootstrap=False, max_depth=None, max_features=sqrt, min_samples_leaf=2, min_samples_split=2, n_estimators=200; total time=   1.0s\n",
            "[CV] END bootstrap=False, max_depth=None, max_features=sqrt, min_samples_leaf=1, min_samples_split=2, n_estimators=200; total time=   1.1s\n",
            "[CV] END bootstrap=False, max_depth=None, max_features=sqrt, min_samples_leaf=1, min_samples_split=10, n_estimators=200; total time=   1.0s\n",
            "[CV] END bootstrap=False, max_depth=None, max_features=sqrt, min_samples_leaf=2, min_samples_split=2, n_estimators=100; total time=   0.6s\n",
            "[CV] END bootstrap=False, max_depth=None, max_features=sqrt, min_samples_leaf=2, min_samples_split=5, n_estimators=200; total time=   1.0s\n",
            "[CV] END bootstrap=False, max_depth=None, max_features=sqrt, min_samples_leaf=1, min_samples_split=5, n_estimators=200; total time=   1.0s\n",
            "[CV] END bootstrap=False, max_depth=None, max_features=sqrt, min_samples_leaf=2, min_samples_split=2, n_estimators=300; total time=   1.5s\n",
            "[CV] END bootstrap=False, max_depth=None, max_features=sqrt, min_samples_leaf=1, min_samples_split=10, n_estimators=300; total time=   1.7s\n",
            "[CV] END bootstrap=False, max_depth=None, max_features=sqrt, min_samples_leaf=2, min_samples_split=2, n_estimators=200; total time=   1.0s\n",
            "[CV] END bootstrap=False, max_depth=None, max_features=sqrt, min_samples_leaf=1, min_samples_split=2, n_estimators=300; total time=   1.6s\n",
            "[CV] END bootstrap=False, max_depth=None, max_features=sqrt, min_samples_leaf=2, min_samples_split=5, n_estimators=100; total time=   0.6s\n",
            "[CV] END bootstrap=False, max_depth=None, max_features=sqrt, min_samples_leaf=1, min_samples_split=10, n_estimators=200; total time=   1.0s\n",
            "[CV] END bootstrap=False, max_depth=None, max_features=sqrt, min_samples_leaf=1, min_samples_split=2, n_estimators=200; total time=   1.1s\n",
            "[CV] END bootstrap=False, max_depth=None, max_features=sqrt, min_samples_leaf=1, min_samples_split=5, n_estimators=300; total time=   1.6s\n",
            "[CV] END bootstrap=False, max_depth=None, max_features=sqrt, min_samples_leaf=2, min_samples_split=2, n_estimators=200; total time=   1.0s\n",
            "[CV] END bootstrap=False, max_depth=None, max_features=sqrt, min_samples_leaf=2, min_samples_split=5, n_estimators=200; total time=   1.0s\n",
            "[CV] END bootstrap=False, max_depth=None, max_features=sqrt, min_samples_leaf=1, min_samples_split=5, n_estimators=100; total time=   0.5s\n",
            "[CV] END bootstrap=False, max_depth=None, max_features=sqrt, min_samples_leaf=2, min_samples_split=5, n_estimators=100; total time=   0.5s\n",
            "[CV] END bootstrap=False, max_depth=None, max_features=sqrt, min_samples_leaf=1, min_samples_split=5, n_estimators=200; total time=   1.1s\n",
            "[CV] END bootstrap=False, max_depth=None, max_features=sqrt, min_samples_leaf=2, min_samples_split=10, n_estimators=100; total time=   0.5s\n",
            "[CV] END bootstrap=False, max_depth=None, max_features=sqrt, min_samples_leaf=1, min_samples_split=5, n_estimators=100; total time=   0.5s\n",
            "[CV] END bootstrap=False, max_depth=None, max_features=sqrt, min_samples_leaf=2, min_samples_split=5, n_estimators=100; total time=   0.6s\n",
            "[CV] END bootstrap=False, max_depth=None, max_features=sqrt, min_samples_leaf=2, min_samples_split=5, n_estimators=200; total time=   1.0s\n",
            "[CV] END bootstrap=False, max_depth=None, max_features=sqrt, min_samples_leaf=1, min_samples_split=10, n_estimators=300; total time=   1.5s\n",
            "[CV] END bootstrap=False, max_depth=None, max_features=sqrt, min_samples_leaf=2, min_samples_split=2, n_estimators=300; total time=   1.6s\n",
            "[CV] END bootstrap=False, max_depth=None, max_features=sqrt, min_samples_leaf=4, min_samples_split=2, n_estimators=100; total time=   0.5s\n",
            "[CV] END bootstrap=False, max_depth=None, max_features=sqrt, min_samples_leaf=2, min_samples_split=5, n_estimators=300; total time=   1.6s\n",
            "[CV] END bootstrap=False, max_depth=None, max_features=sqrt, min_samples_leaf=1, min_samples_split=2, n_estimators=300; total time=   1.6s\n",
            "[CV] END bootstrap=False, max_depth=None, max_features=sqrt, min_samples_leaf=1, min_samples_split=5, n_estimators=300; total time=   1.7s\n",
            "[CV] END bootstrap=False, max_depth=None, max_features=sqrt, min_samples_leaf=2, min_samples_split=10, n_estimators=200; total time=   1.1s\n",
            "[CV] END bootstrap=False, max_depth=None, max_features=sqrt, min_samples_leaf=4, min_samples_split=2, n_estimators=100; total time=   0.6s\n",
            "[CV] END bootstrap=False, max_depth=None, max_features=sqrt, min_samples_leaf=2, min_samples_split=10, n_estimators=300; total time=   1.6s\n",
            "[CV] END bootstrap=False, max_depth=None, max_features=sqrt, min_samples_leaf=4, min_samples_split=5, n_estimators=100; total time=   0.5s\n",
            "[CV] END bootstrap=False, max_depth=None, max_features=sqrt, min_samples_leaf=4, min_samples_split=2, n_estimators=200; total time=   1.1s\n",
            "[CV] END bootstrap=False, max_depth=None, max_features=sqrt, min_samples_leaf=1, min_samples_split=10, n_estimators=100; total time=   0.5s\n",
            "[CV] END bootstrap=False, max_depth=None, max_features=sqrt, min_samples_leaf=4, min_samples_split=5, n_estimators=100; total time=   0.5s\n",
            "[CV] END bootstrap=False, max_depth=None, max_features=sqrt, min_samples_leaf=2, min_samples_split=10, n_estimators=200; total time=   1.0s\n",
            "[CV] END bootstrap=False, max_depth=None, max_features=sqrt, min_samples_leaf=4, min_samples_split=2, n_estimators=200; total time=   0.9s\n",
            "[CV] END bootstrap=False, max_depth=None, max_features=sqrt, min_samples_leaf=2, min_samples_split=2, n_estimators=300; total time=   1.6s\n",
            "[CV] END bootstrap=False, max_depth=None, max_features=sqrt, min_samples_leaf=2, min_samples_split=5, n_estimators=300; total time=   1.7s\n",
            "[CV] END bootstrap=False, max_depth=None, max_features=sqrt, min_samples_leaf=1, min_samples_split=10, n_estimators=300; total time=   1.7s\n",
            "[CV] END bootstrap=False, max_depth=None, max_features=sqrt, min_samples_leaf=2, min_samples_split=5, n_estimators=300; total time=   1.5s\n",
            "[CV] END bootstrap=False, max_depth=None, max_features=sqrt, min_samples_leaf=4, min_samples_split=5, n_estimators=100; total time=   0.5s\n",
            "[CV] END bootstrap=False, max_depth=None, max_features=sqrt, min_samples_leaf=4, min_samples_split=5, n_estimators=200; total time=   1.0s\n",
            "[CV] END bootstrap=False, max_depth=None, max_features=sqrt, min_samples_leaf=2, min_samples_split=10, n_estimators=300; total time=   1.5s\n",
            "[CV] END bootstrap=False, max_depth=None, max_features=sqrt, min_samples_leaf=4, min_samples_split=2, n_estimators=300; total time=   1.4s\n",
            "[CV] END bootstrap=False, max_depth=None, max_features=sqrt, min_samples_leaf=2, min_samples_split=10, n_estimators=100; total time=   0.7s\n",
            "[CV] END bootstrap=False, max_depth=None, max_features=sqrt, min_samples_leaf=4, min_samples_split=10, n_estimators=200; total time=   0.9s\n",
            "[CV] END bootstrap=False, max_depth=None, max_features=sqrt, min_samples_leaf=2, min_samples_split=10, n_estimators=200; total time=   1.1s\n",
            "[CV] END bootstrap=False, max_depth=None, max_features=sqrt, min_samples_leaf=4, min_samples_split=10, n_estimators=200; total time=   0.9s\n",
            "[CV] END bootstrap=False, max_depth=None, max_features=sqrt, min_samples_leaf=4, min_samples_split=2, n_estimators=200; total time=   1.1s\n",
            "[CV] END bootstrap=False, max_depth=None, max_features=sqrt, min_samples_leaf=2, min_samples_split=10, n_estimators=100; total time=   0.5s\n",
            "[CV] END bootstrap=False, max_depth=None, max_features=sqrt, min_samples_leaf=4, min_samples_split=5, n_estimators=200; total time=   1.0s\n",
            "[CV] END bootstrap=False, max_depth=None, max_features=sqrt, min_samples_leaf=4, min_samples_split=5, n_estimators=200; total time=   1.0s\n",
            "[CV] END bootstrap=False, max_depth=None, max_features=sqrt, min_samples_leaf=4, min_samples_split=5, n_estimators=300; total time=   1.4s\n",
            "[CV] END bootstrap=False, max_depth=None, max_features=sqrt, min_samples_leaf=4, min_samples_split=10, n_estimators=200; total time=   0.8s\n",
            "[CV] END bootstrap=False, max_depth=None, max_features=sqrt, min_samples_leaf=4, min_samples_split=10, n_estimators=100; total time=   0.4s\n",
            "[CV] END bootstrap=False, max_depth=None, max_features=sqrt, min_samples_leaf=4, min_samples_split=2, n_estimators=300; total time=   1.3s\n",
            "[CV] END bootstrap=False, max_depth=None, max_features=sqrt, min_samples_leaf=2, min_samples_split=10, n_estimators=300; total time=   1.6s\n",
            "[CV] END bootstrap=False, max_depth=None, max_features=sqrt, min_samples_leaf=4, min_samples_split=10, n_estimators=300; total time=   1.2s\n",
            "[CV] END bootstrap=False, max_depth=None, max_features=sqrt, min_samples_leaf=4, min_samples_split=10, n_estimators=300; total time=   1.2s\n",
            "[CV] END bootstrap=False, max_depth=None, max_features=sqrt, min_samples_leaf=4, min_samples_split=10, n_estimators=100; total time=   0.4s\n",
            "[CV] END bootstrap=False, max_depth=None, max_features=sqrt, min_samples_leaf=4, min_samples_split=10, n_estimators=300; total time=   1.2s\n",
            "[CV] END bootstrap=False, max_depth=None, max_features=sqrt, min_samples_leaf=4, min_samples_split=5, n_estimators=300; total time=   1.2s\n",
            "[CV] END bootstrap=False, max_depth=None, max_features=sqrt, min_samples_leaf=4, min_samples_split=2, n_estimators=100; total time=   0.4s\n",
            "[CV] END bootstrap=False, max_depth=None, max_features=sqrt, min_samples_leaf=4, min_samples_split=10, n_estimators=100; total time=   0.4s\n",
            "[CV] END bootstrap=False, max_depth=None, max_features=sqrt, min_samples_leaf=4, min_samples_split=2, n_estimators=300; total time=   1.1s\n",
            "[CV] END bootstrap=False, max_depth=None, max_features=sqrt, min_samples_leaf=4, min_samples_split=5, n_estimators=300; total time=   1.1s\n"
          ]
        },
        {
          "name": "stderr",
          "output_type": "stream",
          "text": [
            "/opt/homebrew/lib/python3.9/site-packages/sklearn/model_selection/_validation.py:547: FitFailedWarning: \n",
            "648 fits failed out of a total of 1296.\n",
            "The score on these train-test partitions for these parameters will be set to nan.\n",
            "If these failures are not expected, you can try to debug them by setting error_score='raise'.\n",
            "\n",
            "Below are more details about the failures:\n",
            "--------------------------------------------------------------------------------\n",
            "570 fits failed with the following error:\n",
            "Traceback (most recent call last):\n",
            "  File \"/opt/homebrew/lib/python3.9/site-packages/sklearn/model_selection/_validation.py\", line 895, in _fit_and_score\n",
            "    estimator.fit(X_train, y_train, **fit_params)\n",
            "  File \"/opt/homebrew/lib/python3.9/site-packages/sklearn/base.py\", line 1467, in wrapper\n",
            "    estimator._validate_params()\n",
            "  File \"/opt/homebrew/lib/python3.9/site-packages/sklearn/base.py\", line 666, in _validate_params\n",
            "    validate_parameter_constraints(\n",
            "  File \"/opt/homebrew/lib/python3.9/site-packages/sklearn/utils/_param_validation.py\", line 95, in validate_parameter_constraints\n",
            "    raise InvalidParameterError(\n",
            "sklearn.utils._param_validation.InvalidParameterError: The 'max_features' parameter of RandomForestClassifier must be an int in the range [1, inf), a float in the range (0.0, 1.0], a str among {'log2', 'sqrt'} or None. Got 'auto' instead.\n",
            "\n",
            "--------------------------------------------------------------------------------\n",
            "78 fits failed with the following error:\n",
            "Traceback (most recent call last):\n",
            "  File \"/opt/homebrew/lib/python3.9/site-packages/sklearn/model_selection/_validation.py\", line 895, in _fit_and_score\n",
            "    estimator.fit(X_train, y_train, **fit_params)\n",
            "  File \"/opt/homebrew/lib/python3.9/site-packages/sklearn/base.py\", line 1467, in wrapper\n",
            "    estimator._validate_params()\n",
            "  File \"/opt/homebrew/lib/python3.9/site-packages/sklearn/base.py\", line 666, in _validate_params\n",
            "    validate_parameter_constraints(\n",
            "  File \"/opt/homebrew/lib/python3.9/site-packages/sklearn/utils/_param_validation.py\", line 95, in validate_parameter_constraints\n",
            "    raise InvalidParameterError(\n",
            "sklearn.utils._param_validation.InvalidParameterError: The 'max_features' parameter of RandomForestClassifier must be an int in the range [1, inf), a float in the range (0.0, 1.0], a str among {'sqrt', 'log2'} or None. Got 'auto' instead.\n",
            "\n",
            "  warnings.warn(some_fits_failed_message, FitFailedWarning)\n",
            "/opt/homebrew/lib/python3.9/site-packages/sklearn/model_selection/_search.py:1051: UserWarning: One or more of the test scores are non-finite: [       nan        nan        nan        nan        nan        nan\n",
            "        nan        nan        nan        nan        nan        nan\n",
            "        nan        nan        nan        nan        nan        nan\n",
            "        nan        nan        nan        nan        nan        nan\n",
            "        nan        nan        nan 0.93975366 0.93757936 0.937269\n",
            " 0.93882227 0.93757994 0.93789031 0.937269   0.93757907 0.937269\n",
            " 0.93975337 0.93788944 0.93788973 0.93664826 0.93695805 0.93757936\n",
            " 0.93602695 0.93695805 0.93757936 0.93540506 0.93602638 0.93540564\n",
            " 0.93540506 0.93602638 0.93540564 0.93540564 0.93540535 0.9357163\n",
            "        nan        nan        nan        nan        nan        nan\n",
            "        nan        nan        nan        nan        nan        nan\n",
            "        nan        nan        nan        nan        nan        nan\n",
            "        nan        nan        nan        nan        nan        nan\n",
            "        nan        nan        nan 0.94472473 0.94534459 0.94596619\n",
            " 0.9456538  0.94285877 0.94348008 0.9416176  0.94192767 0.94254898\n",
            " 0.94347921 0.94316914 0.94285848 0.94130636 0.94099571 0.94285877\n",
            " 0.93851162 0.94006345 0.94037468 0.93788944 0.93913177 0.93851075\n",
            " 0.93788944 0.93913177 0.93851075 0.93851046 0.93851046 0.93820038\n",
            "        nan        nan        nan        nan        nan        nan\n",
            "        nan        nan        nan        nan        nan        nan\n",
            "        nan        nan        nan        nan        nan        nan\n",
            "        nan        nan        nan        nan        nan        nan\n",
            "        nan        nan        nan 0.94534401 0.94813905 0.94689729\n",
            " 0.94565496 0.94596446 0.94627482 0.94161702 0.9425484  0.94161702\n",
            " 0.9425484  0.94316943 0.94285877 0.94223804 0.94192709 0.94130607\n",
            " 0.93975337 0.94068505 0.94068505 0.9382001  0.93788944 0.93913206\n",
            " 0.9382001  0.93788944 0.93913206 0.94037353 0.93975308 0.93944243\n",
            "        nan        nan        nan        nan        nan        nan\n",
            "        nan        nan        nan        nan        nan        nan\n",
            "        nan        nan        nan        nan        nan        nan\n",
            "        nan        nan        nan        nan        nan        nan\n",
            "        nan        nan        nan 0.94441378 0.94720824 0.94627656\n",
            " 0.94534401 0.94379132 0.9447227  0.94068534 0.94161731 0.94223804\n",
            " 0.94316972 0.9425484  0.94285877 0.94161702 0.94130578 0.94192767\n",
            " 0.93975337 0.94037439 0.94068505 0.93788944 0.93788944 0.93882141\n",
            " 0.93788944 0.93788944 0.93882141 0.94099484 0.94037411 0.93975279\n",
            "        nan        nan        nan        nan        nan        nan\n",
            "        nan        nan        nan        nan        nan        nan\n",
            "        nan        nan        nan        nan        nan        nan\n",
            "        nan        nan        nan        nan        nan        nan\n",
            "        nan        nan        nan 0.93820096 0.93944301 0.93944301\n",
            " 0.94068505 0.93944243 0.93975337 0.93944243 0.93975337 0.93944272\n",
            " 0.93851104 0.93789002 0.9382001  0.9378906  0.94006374 0.93882141\n",
            " 0.93695805 0.93789031 0.93913235 0.93757907 0.93633703 0.93789002\n",
            " 0.93757907 0.93633703 0.93789002 0.93726929 0.93726929 0.9378906\n",
            "        nan        nan        nan        nan        nan        nan\n",
            "        nan        nan        nan        nan        nan        nan\n",
            "        nan        nan        nan        nan        nan        nan\n",
            "        nan        nan        nan        nan        nan        nan\n",
            "        nan        nan        nan 0.94845028 0.94751918 0.94627627\n",
            " 0.94876036 0.94782868 0.9475186  0.94503365 0.94658606 0.94534401\n",
            " 0.94658635 0.94565438 0.94503307 0.9462754  0.94627482 0.94565409\n",
            " 0.94751802 0.94596446 0.94565409 0.94223804 0.94254869 0.94192709\n",
            " 0.94223804 0.94254869 0.94192709 0.94068534 0.94068563 0.94161615\n",
            "        nan        nan        nan        nan        nan        nan\n",
            "        nan        nan        nan        nan        nan        nan\n",
            "        nan        nan        nan        nan        nan        nan\n",
            "        nan        nan        nan        nan        nan        nan\n",
            "        nan        nan        nan 0.9472091  0.94907188 0.94938225\n",
            " 0.94596648 0.94813962 0.94844999 0.9475186  0.94627569 0.94689642\n",
            " 0.9478281  0.94596475 0.9462754  0.94751774 0.9475186  0.94627569\n",
            " 0.94627569 0.9462754  0.94658577 0.94223775 0.9419268  0.94223775\n",
            " 0.94223775 0.9419268  0.94223775 0.94379103 0.94161673 0.94130636\n",
            "        nan        nan        nan        nan        nan        nan\n",
            "        nan        nan        nan        nan        nan        nan\n",
            "        nan        nan        nan        nan        nan        nan\n",
            "        nan        nan        nan        nan        nan        nan\n",
            "        nan        nan        nan 0.94751889 0.94813905 0.94907043\n",
            " 0.94751831 0.94938167 0.94969203 0.9456567  0.94813962 0.9481402\n",
            " 0.94875978 0.94658577 0.94720679 0.94751831 0.94658693 0.94627598\n",
            " 0.94658577 0.94565438 0.94658548 0.94254812 0.94161615 0.94223775\n",
            " 0.94254812 0.94161615 0.94223775 0.94379103 0.94192709 0.94223775]\n",
            "  warnings.warn(\n"
          ]
        },
        {
          "name": "stdout",
          "output_type": "stream",
          "text": [
            "Best parameters found:  {'bootstrap': False, 'max_depth': None, 'max_features': 'sqrt', 'min_samples_leaf': 1, 'min_samples_split': 5, 'n_estimators': 300}\n"
          ]
        }
      ],
=======
>>>>>>> 3362e4c59dfc35850af9ca3308309545264c65ec
      "source": [
        "# Train the Random Forest model\n",
        "rf_classifier = RandomForestClassifier(random_state=42)\n",
        "rf_classifier.fit(X_train, y_train)\n",
        "\n",
        "# Make predictions and evaluate the model\n",
        "predictions = rf_classifier.predict(X_test)\n",
        "print(classification_report(y_test, predictions))\n",
        "\n",
        "# Fine-tuning the model using GridSearchCV\n",
        "param_grid = {\n",
        "     'n_estimators': [50, 100, 150],\n",
        "    'max_features': ['sqrt', 'log2'],\n",
        "    'max_depth' : [4,5,6,7,8],\n",
        "    'criterion' :['gini', 'entropy']\n",
        "}\n",
        "\n",
<<<<<<< HEAD
        "# Initialize the grid search model\n",
        "grid_search = GridSearchCV(estimator=RandomForestClassifier(random_state=42),\n",
        "                           param_grid=param_grid,\n",
        "                           cv=3,\n",
        "                           n_jobs=-1,\n",
        "                           verbose=2)\n",
        "\n",
        "# Fit the grid search model\n",
        "grid_search.fit(X_train, y_train)\n",
        "\n",
        "# Print the best parameters\n",
        "print(\"Best parameters found: \", grid_search.best_params_)\n",
        "\n",
        "# Use the best model for predictions\n",
        "best_grid = grid_search.best_estimator_\n",
        "predictions = best_grid.predict(X_test)\n"
      ]
    },
    {
      "cell_type": "markdown",
      "metadata": {
        "id": "bLQI5Z1DJ-w7"
      },
      "source": [
        "## Evaluation of the model"
      ]
    },
    {
      "cell_type": "code",
      "execution_count": 166,
=======
        "CV_rfc = GridSearchCV(estimator=rf_classifier, param_grid=param_grid, cv=5)\n",
        "CV_rfc.fit(X_train, y_train)"
      ],
>>>>>>> 3362e4c59dfc35850af9ca3308309545264c65ec
      "metadata": {
        "id": "viPcRZWRJw7N",
        "colab": {
          "base_uri": "https://localhost:8080/",
          "height": 301
        },
        "outputId": "b9654619-b3e6-4a3c-a919-1df534d1e957"
      },
      "execution_count": 23,
      "outputs": [
        {
          "output_type": "stream",
          "name": "stdout",
          "text": [
            "              precision    recall  f1-score   support\n",
            "\n",
            "           0       0.95      0.98      0.96       804\n",
            "           1       0.97      0.93      0.95       577\n",
            "\n",
            "    accuracy                           0.96      1381\n",
            "   macro avg       0.96      0.95      0.96      1381\n",
            "weighted avg       0.96      0.96      0.96      1381\n",
            "\n"
          ]
        },
        {
          "output_type": "execute_result",
          "data": {
            "text/plain": [
              "GridSearchCV(cv=5, estimator=RandomForestClassifier(random_state=42),\n",
              "             param_grid={'criterion': ['gini', 'entropy'],\n",
              "                         'max_depth': [4, 5, 6, 7, 8],\n",
              "                         'max_features': ['sqrt', 'log2'],\n",
              "                         'n_estimators': [50, 100, 150]})"
            ],
            "text/html": [
              "<style>#sk-container-id-1 {color: black;background-color: white;}#sk-container-id-1 pre{padding: 0;}#sk-container-id-1 div.sk-toggleable {background-color: white;}#sk-container-id-1 label.sk-toggleable__label {cursor: pointer;display: block;width: 100%;margin-bottom: 0;padding: 0.3em;box-sizing: border-box;text-align: center;}#sk-container-id-1 label.sk-toggleable__label-arrow:before {content: \"▸\";float: left;margin-right: 0.25em;color: #696969;}#sk-container-id-1 label.sk-toggleable__label-arrow:hover:before {color: black;}#sk-container-id-1 div.sk-estimator:hover label.sk-toggleable__label-arrow:before {color: black;}#sk-container-id-1 div.sk-toggleable__content {max-height: 0;max-width: 0;overflow: hidden;text-align: left;background-color: #f0f8ff;}#sk-container-id-1 div.sk-toggleable__content pre {margin: 0.2em;color: black;border-radius: 0.25em;background-color: #f0f8ff;}#sk-container-id-1 input.sk-toggleable__control:checked~div.sk-toggleable__content {max-height: 200px;max-width: 100%;overflow: auto;}#sk-container-id-1 input.sk-toggleable__control:checked~label.sk-toggleable__label-arrow:before {content: \"▾\";}#sk-container-id-1 div.sk-estimator input.sk-toggleable__control:checked~label.sk-toggleable__label {background-color: #d4ebff;}#sk-container-id-1 div.sk-label input.sk-toggleable__control:checked~label.sk-toggleable__label {background-color: #d4ebff;}#sk-container-id-1 input.sk-hidden--visually {border: 0;clip: rect(1px 1px 1px 1px);clip: rect(1px, 1px, 1px, 1px);height: 1px;margin: -1px;overflow: hidden;padding: 0;position: absolute;width: 1px;}#sk-container-id-1 div.sk-estimator {font-family: monospace;background-color: #f0f8ff;border: 1px dotted black;border-radius: 0.25em;box-sizing: border-box;margin-bottom: 0.5em;}#sk-container-id-1 div.sk-estimator:hover {background-color: #d4ebff;}#sk-container-id-1 div.sk-parallel-item::after {content: \"\";width: 100%;border-bottom: 1px solid gray;flex-grow: 1;}#sk-container-id-1 div.sk-label:hover label.sk-toggleable__label {background-color: #d4ebff;}#sk-container-id-1 div.sk-serial::before {content: \"\";position: absolute;border-left: 1px solid gray;box-sizing: border-box;top: 0;bottom: 0;left: 50%;z-index: 0;}#sk-container-id-1 div.sk-serial {display: flex;flex-direction: column;align-items: center;background-color: white;padding-right: 0.2em;padding-left: 0.2em;position: relative;}#sk-container-id-1 div.sk-item {position: relative;z-index: 1;}#sk-container-id-1 div.sk-parallel {display: flex;align-items: stretch;justify-content: center;background-color: white;position: relative;}#sk-container-id-1 div.sk-item::before, #sk-container-id-1 div.sk-parallel-item::before {content: \"\";position: absolute;border-left: 1px solid gray;box-sizing: border-box;top: 0;bottom: 0;left: 50%;z-index: -1;}#sk-container-id-1 div.sk-parallel-item {display: flex;flex-direction: column;z-index: 1;position: relative;background-color: white;}#sk-container-id-1 div.sk-parallel-item:first-child::after {align-self: flex-end;width: 50%;}#sk-container-id-1 div.sk-parallel-item:last-child::after {align-self: flex-start;width: 50%;}#sk-container-id-1 div.sk-parallel-item:only-child::after {width: 0;}#sk-container-id-1 div.sk-dashed-wrapped {border: 1px dashed gray;margin: 0 0.4em 0.5em 0.4em;box-sizing: border-box;padding-bottom: 0.4em;background-color: white;}#sk-container-id-1 div.sk-label label {font-family: monospace;font-weight: bold;display: inline-block;line-height: 1.2em;}#sk-container-id-1 div.sk-label-container {text-align: center;}#sk-container-id-1 div.sk-container {/* jupyter's `normalize.less` sets `[hidden] { display: none; }` but bootstrap.min.css set `[hidden] { display: none !important; }` so we also need the `!important` here to be able to override the default hidden behavior on the sphinx rendered scikit-learn.org. See: https://github.com/scikit-learn/scikit-learn/issues/21755 */display: inline-block !important;position: relative;}#sk-container-id-1 div.sk-text-repr-fallback {display: none;}</style><div id=\"sk-container-id-1\" class=\"sk-top-container\"><div class=\"sk-text-repr-fallback\"><pre>GridSearchCV(cv=5, estimator=RandomForestClassifier(random_state=42),\n",
              "             param_grid={&#x27;criterion&#x27;: [&#x27;gini&#x27;, &#x27;entropy&#x27;],\n",
              "                         &#x27;max_depth&#x27;: [4, 5, 6, 7, 8],\n",
              "                         &#x27;max_features&#x27;: [&#x27;sqrt&#x27;, &#x27;log2&#x27;],\n",
              "                         &#x27;n_estimators&#x27;: [50, 100, 150]})</pre><b>In a Jupyter environment, please rerun this cell to show the HTML representation or trust the notebook. <br />On GitHub, the HTML representation is unable to render, please try loading this page with nbviewer.org.</b></div><div class=\"sk-container\" hidden><div class=\"sk-item sk-dashed-wrapped\"><div class=\"sk-label-container\"><div class=\"sk-label sk-toggleable\"><input class=\"sk-toggleable__control sk-hidden--visually\" id=\"sk-estimator-id-1\" type=\"checkbox\" ><label for=\"sk-estimator-id-1\" class=\"sk-toggleable__label sk-toggleable__label-arrow\">GridSearchCV</label><div class=\"sk-toggleable__content\"><pre>GridSearchCV(cv=5, estimator=RandomForestClassifier(random_state=42),\n",
              "             param_grid={&#x27;criterion&#x27;: [&#x27;gini&#x27;, &#x27;entropy&#x27;],\n",
              "                         &#x27;max_depth&#x27;: [4, 5, 6, 7, 8],\n",
              "                         &#x27;max_features&#x27;: [&#x27;sqrt&#x27;, &#x27;log2&#x27;],\n",
              "                         &#x27;n_estimators&#x27;: [50, 100, 150]})</pre></div></div></div><div class=\"sk-parallel\"><div class=\"sk-parallel-item\"><div class=\"sk-item\"><div class=\"sk-label-container\"><div class=\"sk-label sk-toggleable\"><input class=\"sk-toggleable__control sk-hidden--visually\" id=\"sk-estimator-id-2\" type=\"checkbox\" ><label for=\"sk-estimator-id-2\" class=\"sk-toggleable__label sk-toggleable__label-arrow\">estimator: RandomForestClassifier</label><div class=\"sk-toggleable__content\"><pre>RandomForestClassifier(random_state=42)</pre></div></div></div><div class=\"sk-serial\"><div class=\"sk-item\"><div class=\"sk-estimator sk-toggleable\"><input class=\"sk-toggleable__control sk-hidden--visually\" id=\"sk-estimator-id-3\" type=\"checkbox\" ><label for=\"sk-estimator-id-3\" class=\"sk-toggleable__label sk-toggleable__label-arrow\">RandomForestClassifier</label><div class=\"sk-toggleable__content\"><pre>RandomForestClassifier(random_state=42)</pre></div></div></div></div></div></div></div></div></div></div>"
            ]
          },
          "metadata": {},
          "execution_count": 23
        }
      ]
    },
    {
      "cell_type": "markdown",
      "source": [
        "## Evaluation of the model"
      ],
      "metadata": {
        "id": "bLQI5Z1DJ-w7"
      }
    },
    {
      "cell_type": "code",
<<<<<<< HEAD
      "execution_count": 167,
=======
      "source": [
        "# Print the best parameters and the best score\n",
        "print(\"Best Parameters:\", CV_rfc.best_params_)\n",
        "print(\"Best Score:\", CV_rfc.best_score_)\n",
        "\n",
        "# Evaluate the best model from grid search\n",
        "best_model = CV_rfc.best_estimator_\n",
        "best_predictions = best_model.predict(X_test)\n",
        "print(classification_report(y_test, best_predictions))"
      ],
>>>>>>> 3362e4c59dfc35850af9ca3308309545264c65ec
      "metadata": {
        "id": "OR-7dJuVKMHS",
        "colab": {
          "base_uri": "https://localhost:8080/"
        },
        "outputId": "4bb7b845-cb90-4357-c3fe-bf93abf0f113"
      },
      "execution_count": 24,
      "outputs": [
        {
          "output_type": "stream",
          "name": "stdout",
          "text": [
            "Best Parameters: {'criterion': 'entropy', 'max_depth': 8, 'max_features': 'sqrt', 'n_estimators': 100}\n",
            "Best Score: 0.9385093167701865\n",
            "              precision    recall  f1-score   support\n",
            "\n",
            "           0       0.93      0.98      0.95       804\n",
            "           1       0.96      0.89      0.93       577\n",
            "\n",
            "    accuracy                           0.94      1381\n",
            "   macro avg       0.95      0.93      0.94      1381\n",
            "weighted avg       0.94      0.94      0.94      1381\n",
            "\n"
          ]
        }
      ]
    },
    {
      "cell_type": "markdown",
      "source": [
        "**bold text**# Income Level Prediction - MLP\n"
      ],
      "metadata": {
        "id": "m75e4qy9Qpre"
      }
    },
    {
      "cell_type": "markdown",
      "source": [
        "## Import"
      ],
      "metadata": {
        "id": "2OgEbMbXnxRz"
      }
    },
    {
      "cell_type": "code",
      "source": [
        "import pandas as pd\n",
        "from sklearn.model_selection import train_test_split, GridSearchCV\n",
        "from sklearn.preprocessing import StandardScaler, OneHotEncoder\n",
        "from sklearn.compose import ColumnTransformer\n",
        "from sklearn.pipeline import Pipeline\n",
        "from sklearn.neural_network import MLPClassifier\n",
        "from sklearn.metrics import classification_report, accuracy_score\n",
        "from sklearn.impute import SimpleImputer"
      ],
      "metadata": {
        "id": "ohBqKcgPVcIY"
      },
      "execution_count": null,
      "outputs": []
    },
    {
      "cell_type": "markdown",
      "source": [
        "## Loading and preparation of Data\n",
        "\n",
        "> Indented block\n",
        "\n"
      ],
      "metadata": {
        "id": "C-leOAzNn1j2"
      }
    },
    {
      "cell_type": "code",
<<<<<<< HEAD
      "execution_count": 168,
      "metadata": {},
      "outputs": [],
=======
>>>>>>> 3362e4c59dfc35850af9ca3308309545264c65ec
      "source": [
        "url = \"https://archive.ics.uci.edu/ml/machine-learning-databases/adult/adult.data\"\n",
        "column_names = [\n",
        "    'age', 'workclass', 'fnlwgt', 'education', 'education_num', 'marital_status',\n",
        "    'occupation', 'relationship', 'race', 'sex', 'capital_gain', 'capital_loss',\n",
        "    'hours_per_week', 'native_country', 'income'\n",
        "]\n",
        "\n",
        "# Load the data\n",
        "data = pd.read_csv(url, names=column_names, na_values=' ?', sep=',\\s', engine='python')\n",
        "\n",
        "# Split the data into features and target label\n",
        "X = data.drop('income', axis=1)\n",
        "y = data['income'].apply(lambda x: 1 if x == '>50K' else 0)  # Convert income to binary\n",
        "\n",
        "# Split the data into training and testing sets\n",
        "X_train, X_test, y_train, y_test = train_test_split(X, y, test_size=0.3, random_state=42, stratify=y)\n",
        "\n",
        "# Define categorical and numerical features for preprocessing\n",
        "categorical_features = ['workclass', 'education', 'marital_status', 'occupation', 'relationship', 'race', 'sex', 'native_country']\n",
        "numerical_features = ['age', 'fnlwgt', 'education_num', 'capital_gain', 'capital_loss', 'hours_per_week']\n",
        "\n",
        "# Create preprocessors for numerical and categorical features\n",
        "numerical_transformer = Pipeline(steps=[\n",
        "    ('imputer', SimpleImputer(strategy='median')),\n",
        "    ('scaler', StandardScaler())\n",
        "])\n",
        "categorical_transformer = Pipeline(steps=[\n",
        "    ('imputer', SimpleImputer(strategy='most_frequent')),\n",
        "    ('onehot', OneHotEncoder(handle_unknown='ignore'))\n",
        "])\n",
        "\n",
        "# Bundle preprocessing for numerical and categorical data\n",
        "preprocessor = ColumnTransformer(\n",
        "    transformers=[\n",
        "        ('num', numerical_transformer, numerical_features),\n",
        "        ('cat', categorical_transformer, categorical_features)\n",
        "    ])\n"
      ],
      "metadata": {
        "id": "sWFRhkVHn4HW"
      },
      "execution_count": null,
      "outputs": []
    },
    {
      "cell_type": "markdown",
      "source": [
        "[link text](https://)## Training and fine-tuning of a model"
      ],
      "metadata": {
        "id": "i9gYzIR4oAa-"
      }
    },
    {
      "cell_type": "code",
<<<<<<< HEAD
      "execution_count": 169,
      "metadata": {},
      "outputs": [
        {
          "name": "stderr",
          "output_type": "stream",
          "text": [
            "/opt/homebrew/lib/python3.9/site-packages/sklearn/neural_network/_multilayer_perceptron.py:691: ConvergenceWarning: Stochastic Optimizer: Maximum iterations (500) reached and the optimization hasn't converged yet.\n",
            "  warnings.warn(\n",
            "/opt/homebrew/lib/python3.9/site-packages/sklearn/neural_network/_multilayer_perceptron.py:691: ConvergenceWarning: Stochastic Optimizer: Maximum iterations (500) reached and the optimization hasn't converged yet.\n",
            "  warnings.warn(\n",
            "/opt/homebrew/lib/python3.9/site-packages/sklearn/neural_network/_multilayer_perceptron.py:691: ConvergenceWarning: Stochastic Optimizer: Maximum iterations (500) reached and the optimization hasn't converged yet.\n",
            "  warnings.warn(\n",
            "/opt/homebrew/lib/python3.9/site-packages/sklearn/neural_network/_multilayer_perceptron.py:691: ConvergenceWarning: Stochastic Optimizer: Maximum iterations (500) reached and the optimization hasn't converged yet.\n",
            "  warnings.warn(\n",
            "/opt/homebrew/lib/python3.9/site-packages/sklearn/neural_network/_multilayer_perceptron.py:691: ConvergenceWarning: Stochastic Optimizer: Maximum iterations (500) reached and the optimization hasn't converged yet.\n",
            "  warnings.warn(\n",
            "/opt/homebrew/lib/python3.9/site-packages/sklearn/neural_network/_multilayer_perceptron.py:691: ConvergenceWarning: Stochastic Optimizer: Maximum iterations (500) reached and the optimization hasn't converged yet.\n",
            "  warnings.warn(\n",
            "/opt/homebrew/lib/python3.9/site-packages/sklearn/neural_network/_multilayer_perceptron.py:691: ConvergenceWarning: Stochastic Optimizer: Maximum iterations (500) reached and the optimization hasn't converged yet.\n",
            "  warnings.warn(\n",
            "/opt/homebrew/lib/python3.9/site-packages/sklearn/neural_network/_multilayer_perceptron.py:691: ConvergenceWarning: Stochastic Optimizer: Maximum iterations (500) reached and the optimization hasn't converged yet.\n",
            "  warnings.warn(\n",
            "/opt/homebrew/lib/python3.9/site-packages/sklearn/neural_network/_multilayer_perceptron.py:691: ConvergenceWarning: Stochastic Optimizer: Maximum iterations (500) reached and the optimization hasn't converged yet.\n",
            "  warnings.warn(\n",
            "/opt/homebrew/lib/python3.9/site-packages/sklearn/neural_network/_multilayer_perceptron.py:691: ConvergenceWarning: Stochastic Optimizer: Maximum iterations (500) reached and the optimization hasn't converged yet.\n",
            "  warnings.warn(\n",
            "/opt/homebrew/lib/python3.9/site-packages/sklearn/neural_network/_multilayer_perceptron.py:691: ConvergenceWarning: Stochastic Optimizer: Maximum iterations (500) reached and the optimization hasn't converged yet.\n",
            "  warnings.warn(\n",
            "/opt/homebrew/lib/python3.9/site-packages/sklearn/neural_network/_multilayer_perceptron.py:691: ConvergenceWarning: Stochastic Optimizer: Maximum iterations (500) reached and the optimization hasn't converged yet.\n",
            "  warnings.warn(\n"
          ]
        },
        {
          "name": "stdout",
          "output_type": "stream",
          "text": [
            "Best parameters found:  {'mlpclassifier__activation': 'relu', 'mlpclassifier__alpha': 0.0001, 'mlpclassifier__hidden_layer_sizes': (100,), 'mlpclassifier__solver': 'adam'}\n"
          ]
        },
        {
          "name": "stderr",
          "output_type": "stream",
          "text": [
            "/opt/homebrew/lib/python3.9/site-packages/sklearn/neural_network/_multilayer_perceptron.py:691: ConvergenceWarning: Stochastic Optimizer: Maximum iterations (500) reached and the optimization hasn't converged yet.\n",
            "  warnings.warn(\n"
          ]
        }
      ],
=======
>>>>>>> 3362e4c59dfc35850af9ca3308309545264c65ec
      "source": [
        "# Create an MLP model pipeline\n",
        "mlp_pipeline = Pipeline(steps=[\n",
        "    ('preprocessor', preprocessor),\n",
        "    ('mlpclassifier', MLPClassifier(hidden_layer_sizes=(50,), max_iter=500, random_state=42))\n",
        "])\n",
        "\n",
        "X_train_small, _, y_train_small, _ = train_test_split(X_train, y_train, train_size=0.3, random_state=42, stratify=y_train)\n",
        "\n",
        "param_grid = {\n",
        "    'mlpclassifier__hidden_layer_sizes': [(50,), (100,)],\n",
        "    'mlpclassifier__activation': ['relu'],\n",
        "    'mlpclassifier__solver': ['adam'],\n",
        "    'mlpclassifier__alpha': [0.0001, 0.001]\n",
        "}\n",
        "\n",
        "grid_search = GridSearchCV(mlp_pipeline, param_grid, cv=3, scoring='accuracy', n_jobs=-1)\n",
        "# Fine-tuning the MLP model\n",
        "grid_search.fit(X_train_small, y_train_small)\n",
        "\n",
        "# Print out the best parameters\n",
        "print(\"Best parameters found: \", grid_search.best_params_)"
      ],
      "metadata": {
        "colab": {
          "base_uri": "https://localhost:8080/"
        },
        "id": "qNkDPd-boBT0",
        "outputId": "cb5852cd-8445-4088-9d89-52c97277fd33"
      },
      "execution_count": null,
      "outputs": [
        {
          "output_type": "stream",
          "name": "stdout",
          "text": [
            "Best parameters found:  {'mlpclassifier__activation': 'relu', 'mlpclassifier__alpha': 0.0001, 'mlpclassifier__hidden_layer_sizes': (100,), 'mlpclassifier__solver': 'adam'}\n"
          ]
        },
        {
          "output_type": "stream",
          "name": "stderr",
          "text": [
            "/usr/local/lib/python3.10/dist-packages/sklearn/neural_network/_multilayer_perceptron.py:686: ConvergenceWarning: Stochastic Optimizer: Maximum iterations (500) reached and the optimization hasn't converged yet.\n",
            "  warnings.warn(\n"
          ]
        }
      ]
    },
    {
      "cell_type": "markdown",
      "source": [
        "## Evaluation of the model"
      ],
      "metadata": {
        "id": "33ONWDlpoM0s"
      }
    },
    {
      "cell_type": "code",
<<<<<<< HEAD
      "execution_count": 170,
      "metadata": {},
      "outputs": [
        {
          "name": "stdout",
          "output_type": "stream",
          "text": [
            "Accuracy: 0.8242399426758112\n",
            "              precision    recall  f1-score   support\n",
            "\n",
            "           0       0.88      0.89      0.88      7417\n",
            "           1       0.64      0.62      0.63      2352\n",
            "\n",
            "    accuracy                           0.82      9769\n",
            "   macro avg       0.76      0.75      0.76      9769\n",
            "weighted avg       0.82      0.82      0.82      9769\n",
            "\n"
          ]
        }
      ],
=======
>>>>>>> 3362e4c59dfc35850af9ca3308309545264c65ec
      "source": [
        "best_model = grid_search.best_estimator_\n",
        "y_pred = best_model.predict(X_test)\n",
        "\n",
        "print(\"Accuracy:\", accuracy_score(y_test, y_pred))\n",
        "print(classification_report(y_test, y_pred))"
      ],
      "metadata": {
        "colab": {
          "base_uri": "https://localhost:8080/"
        },
        "id": "tWOOJynboPHT",
        "outputId": "524020f1-da4d-4f09-c56a-eb8a1004fbd6"
      },
      "execution_count": null,
      "outputs": [
        {
          "output_type": "stream",
          "name": "stdout",
          "text": [
            "Accuracy: 0.8242399426758112\n",
            "              precision    recall  f1-score   support\n",
            "\n",
            "           0       0.88      0.89      0.88      7417\n",
            "           1       0.64      0.62      0.63      2352\n",
            "\n",
            "    accuracy                           0.82      9769\n",
            "   macro avg       0.76      0.75      0.76      9769\n",
            "weighted avg       0.82      0.82      0.82      9769\n",
            "\n"
          ]
        }
      ]
    },
    {
      "cell_type": "markdown",
      "source": [
        "#Age Classification from images - CNN"
      ],
      "metadata": {
        "id": "WUktHS7oQv92"
      }
    },
    {
      "cell_type": "markdown",
      "source": [
        "##Loading and preparation of data"
      ],
      "metadata": {
        "id": "jnukMbLQROrP"
<<<<<<< HEAD
      },
      "source": [
        "## Import"
      ]
=======
      }
>>>>>>> 3362e4c59dfc35850af9ca3308309545264c65ec
    },
    {
      "cell_type": "code",
      "source": [
        "# Import necessary libraries\n",
        "import pandas as pd\n",
        "import numpy as np\n",
        "import tensorflow as tf\n",
        "import glob\n",
        "import os\n",
        "import seaborn as sns\n",
        "from matplotlib import pyplot as plt\n",
<<<<<<< HEAD
        "import matplotlib.image as mpimg"
      ]
    },
    {
      "cell_type": "markdown",
      "metadata": {},
      "source": [
        "## Loading and preparation of data"
      ]
    },
    {
      "cell_type": "code",
      "execution_count": 128,
      "metadata": {},
      "outputs": [
        {
          "name": "stdout",
          "output_type": "stream",
          "text": [
            "19906\n",
            "19906\n"
          ]
        }
      ],
=======
        "import matplotlib.image as mpimg\n",
        "\n",
        "from sklearn import metrics\n",
        "from sklearn.metrics import confusion_matrix\n"
      ],
      "metadata": {
        "id": "FdX-xU1NRKqn"
      },
      "execution_count": 25,
      "outputs": []
    },
    {
      "cell_type": "code",
>>>>>>> 3362e4c59dfc35850af9ca3308309545264c65ec
      "source": [
        "# Setup the path to the images and the attrbutes\n",
        "PATH_TO_ATTR = '/content/faces_data/train.csv'\n",
        "PATH_TO_IMGS = '/content/faces_data/images'\n",
        "\n",
        "\n",
        "# Then we check if there are the same amount of attributes and images\n",
        "data = pd.read_csv(PATH_TO_ATTR)\n",
        "images = os.listdir(PATH_TO_IMGS)\n",
        "\n",
        "print(data.shape[0])\n",
        "print(len(images))\n"
      ],
      "metadata": {
        "colab": {
          "base_uri": "https://localhost:8080/",
          "height": 382
        },
        "id": "5MMJVGBxRgBW",
        "outputId": "4417a73f-b937-4131-b689-f8dde34c73b6"
      },
      "execution_count": 26,
      "outputs": [
        {
          "output_type": "error",
          "ename": "FileNotFoundError",
          "evalue": "[Errno 2] No such file or directory: '/content/faces_data/train.csv'",
          "traceback": [
            "\u001b[0;31m---------------------------------------------------------------------------\u001b[0m",
            "\u001b[0;31mFileNotFoundError\u001b[0m                         Traceback (most recent call last)",
            "\u001b[0;32m<ipython-input-26-78f8fbfa3d72>\u001b[0m in \u001b[0;36m<cell line: 7>\u001b[0;34m()\u001b[0m\n\u001b[1;32m      5\u001b[0m \u001b[0;34m\u001b[0m\u001b[0m\n\u001b[1;32m      6\u001b[0m \u001b[0;31m# Then we check if there are the same amount of attributes and images\u001b[0m\u001b[0;34m\u001b[0m\u001b[0;34m\u001b[0m\u001b[0m\n\u001b[0;32m----> 7\u001b[0;31m \u001b[0mdata\u001b[0m \u001b[0;34m=\u001b[0m \u001b[0mpd\u001b[0m\u001b[0;34m.\u001b[0m\u001b[0mread_csv\u001b[0m\u001b[0;34m(\u001b[0m\u001b[0mPATH_TO_ATTR\u001b[0m\u001b[0;34m)\u001b[0m\u001b[0;34m\u001b[0m\u001b[0;34m\u001b[0m\u001b[0m\n\u001b[0m\u001b[1;32m      8\u001b[0m \u001b[0mimages\u001b[0m \u001b[0;34m=\u001b[0m \u001b[0mos\u001b[0m\u001b[0;34m.\u001b[0m\u001b[0mlistdir\u001b[0m\u001b[0;34m(\u001b[0m\u001b[0mPATH_TO_IMGS\u001b[0m\u001b[0;34m)\u001b[0m\u001b[0;34m\u001b[0m\u001b[0;34m\u001b[0m\u001b[0m\n\u001b[1;32m      9\u001b[0m \u001b[0;34m\u001b[0m\u001b[0m\n",
            "\u001b[0;32m/usr/local/lib/python3.10/dist-packages/pandas/util/_decorators.py\u001b[0m in \u001b[0;36mwrapper\u001b[0;34m(*args, **kwargs)\u001b[0m\n\u001b[1;32m    209\u001b[0m                 \u001b[0;32melse\u001b[0m\u001b[0;34m:\u001b[0m\u001b[0;34m\u001b[0m\u001b[0;34m\u001b[0m\u001b[0m\n\u001b[1;32m    210\u001b[0m                     \u001b[0mkwargs\u001b[0m\u001b[0;34m[\u001b[0m\u001b[0mnew_arg_name\u001b[0m\u001b[0;34m]\u001b[0m \u001b[0;34m=\u001b[0m \u001b[0mnew_arg_value\u001b[0m\u001b[0;34m\u001b[0m\u001b[0;34m\u001b[0m\u001b[0m\n\u001b[0;32m--> 211\u001b[0;31m             \u001b[0;32mreturn\u001b[0m \u001b[0mfunc\u001b[0m\u001b[0;34m(\u001b[0m\u001b[0;34m*\u001b[0m\u001b[0margs\u001b[0m\u001b[0;34m,\u001b[0m \u001b[0;34m**\u001b[0m\u001b[0mkwargs\u001b[0m\u001b[0;34m)\u001b[0m\u001b[0;34m\u001b[0m\u001b[0;34m\u001b[0m\u001b[0m\n\u001b[0m\u001b[1;32m    212\u001b[0m \u001b[0;34m\u001b[0m\u001b[0m\n\u001b[1;32m    213\u001b[0m         \u001b[0;32mreturn\u001b[0m \u001b[0mcast\u001b[0m\u001b[0;34m(\u001b[0m\u001b[0mF\u001b[0m\u001b[0;34m,\u001b[0m \u001b[0mwrapper\u001b[0m\u001b[0;34m)\u001b[0m\u001b[0;34m\u001b[0m\u001b[0;34m\u001b[0m\u001b[0m\n",
            "\u001b[0;32m/usr/local/lib/python3.10/dist-packages/pandas/util/_decorators.py\u001b[0m in \u001b[0;36mwrapper\u001b[0;34m(*args, **kwargs)\u001b[0m\n\u001b[1;32m    329\u001b[0m                     \u001b[0mstacklevel\u001b[0m\u001b[0;34m=\u001b[0m\u001b[0mfind_stack_level\u001b[0m\u001b[0;34m(\u001b[0m\u001b[0;34m)\u001b[0m\u001b[0;34m,\u001b[0m\u001b[0;34m\u001b[0m\u001b[0;34m\u001b[0m\u001b[0m\n\u001b[1;32m    330\u001b[0m                 )\n\u001b[0;32m--> 331\u001b[0;31m             \u001b[0;32mreturn\u001b[0m \u001b[0mfunc\u001b[0m\u001b[0;34m(\u001b[0m\u001b[0;34m*\u001b[0m\u001b[0margs\u001b[0m\u001b[0;34m,\u001b[0m \u001b[0;34m**\u001b[0m\u001b[0mkwargs\u001b[0m\u001b[0;34m)\u001b[0m\u001b[0;34m\u001b[0m\u001b[0;34m\u001b[0m\u001b[0m\n\u001b[0m\u001b[1;32m    332\u001b[0m \u001b[0;34m\u001b[0m\u001b[0m\n\u001b[1;32m    333\u001b[0m         \u001b[0;31m# error: \"Callable[[VarArg(Any), KwArg(Any)], Any]\" has no\u001b[0m\u001b[0;34m\u001b[0m\u001b[0;34m\u001b[0m\u001b[0m\n",
            "\u001b[0;32m/usr/local/lib/python3.10/dist-packages/pandas/io/parsers/readers.py\u001b[0m in \u001b[0;36mread_csv\u001b[0;34m(filepath_or_buffer, sep, delimiter, header, names, index_col, usecols, squeeze, prefix, mangle_dupe_cols, dtype, engine, converters, true_values, false_values, skipinitialspace, skiprows, skipfooter, nrows, na_values, keep_default_na, na_filter, verbose, skip_blank_lines, parse_dates, infer_datetime_format, keep_date_col, date_parser, dayfirst, cache_dates, iterator, chunksize, compression, thousands, decimal, lineterminator, quotechar, quoting, doublequote, escapechar, comment, encoding, encoding_errors, dialect, error_bad_lines, warn_bad_lines, on_bad_lines, delim_whitespace, low_memory, memory_map, float_precision, storage_options)\u001b[0m\n\u001b[1;32m    948\u001b[0m     \u001b[0mkwds\u001b[0m\u001b[0;34m.\u001b[0m\u001b[0mupdate\u001b[0m\u001b[0;34m(\u001b[0m\u001b[0mkwds_defaults\u001b[0m\u001b[0;34m)\u001b[0m\u001b[0;34m\u001b[0m\u001b[0;34m\u001b[0m\u001b[0m\n\u001b[1;32m    949\u001b[0m \u001b[0;34m\u001b[0m\u001b[0m\n\u001b[0;32m--> 950\u001b[0;31m     \u001b[0;32mreturn\u001b[0m \u001b[0m_read\u001b[0m\u001b[0;34m(\u001b[0m\u001b[0mfilepath_or_buffer\u001b[0m\u001b[0;34m,\u001b[0m \u001b[0mkwds\u001b[0m\u001b[0;34m)\u001b[0m\u001b[0;34m\u001b[0m\u001b[0;34m\u001b[0m\u001b[0m\n\u001b[0m\u001b[1;32m    951\u001b[0m \u001b[0;34m\u001b[0m\u001b[0m\n\u001b[1;32m    952\u001b[0m \u001b[0;34m\u001b[0m\u001b[0m\n",
            "\u001b[0;32m/usr/local/lib/python3.10/dist-packages/pandas/io/parsers/readers.py\u001b[0m in \u001b[0;36m_read\u001b[0;34m(filepath_or_buffer, kwds)\u001b[0m\n\u001b[1;32m    603\u001b[0m \u001b[0;34m\u001b[0m\u001b[0m\n\u001b[1;32m    604\u001b[0m     \u001b[0;31m# Create the parser.\u001b[0m\u001b[0;34m\u001b[0m\u001b[0;34m\u001b[0m\u001b[0m\n\u001b[0;32m--> 605\u001b[0;31m     \u001b[0mparser\u001b[0m \u001b[0;34m=\u001b[0m \u001b[0mTextFileReader\u001b[0m\u001b[0;34m(\u001b[0m\u001b[0mfilepath_or_buffer\u001b[0m\u001b[0;34m,\u001b[0m \u001b[0;34m**\u001b[0m\u001b[0mkwds\u001b[0m\u001b[0;34m)\u001b[0m\u001b[0;34m\u001b[0m\u001b[0;34m\u001b[0m\u001b[0m\n\u001b[0m\u001b[1;32m    606\u001b[0m \u001b[0;34m\u001b[0m\u001b[0m\n\u001b[1;32m    607\u001b[0m     \u001b[0;32mif\u001b[0m \u001b[0mchunksize\u001b[0m \u001b[0;32mor\u001b[0m \u001b[0miterator\u001b[0m\u001b[0;34m:\u001b[0m\u001b[0;34m\u001b[0m\u001b[0;34m\u001b[0m\u001b[0m\n",
            "\u001b[0;32m/usr/local/lib/python3.10/dist-packages/pandas/io/parsers/readers.py\u001b[0m in \u001b[0;36m__init__\u001b[0;34m(self, f, engine, **kwds)\u001b[0m\n\u001b[1;32m   1440\u001b[0m \u001b[0;34m\u001b[0m\u001b[0m\n\u001b[1;32m   1441\u001b[0m         \u001b[0mself\u001b[0m\u001b[0;34m.\u001b[0m\u001b[0mhandles\u001b[0m\u001b[0;34m:\u001b[0m \u001b[0mIOHandles\u001b[0m \u001b[0;34m|\u001b[0m \u001b[0;32mNone\u001b[0m \u001b[0;34m=\u001b[0m \u001b[0;32mNone\u001b[0m\u001b[0;34m\u001b[0m\u001b[0;34m\u001b[0m\u001b[0m\n\u001b[0;32m-> 1442\u001b[0;31m         \u001b[0mself\u001b[0m\u001b[0;34m.\u001b[0m\u001b[0m_engine\u001b[0m \u001b[0;34m=\u001b[0m \u001b[0mself\u001b[0m\u001b[0;34m.\u001b[0m\u001b[0m_make_engine\u001b[0m\u001b[0;34m(\u001b[0m\u001b[0mf\u001b[0m\u001b[0;34m,\u001b[0m \u001b[0mself\u001b[0m\u001b[0;34m.\u001b[0m\u001b[0mengine\u001b[0m\u001b[0;34m)\u001b[0m\u001b[0;34m\u001b[0m\u001b[0;34m\u001b[0m\u001b[0m\n\u001b[0m\u001b[1;32m   1443\u001b[0m \u001b[0;34m\u001b[0m\u001b[0m\n\u001b[1;32m   1444\u001b[0m     \u001b[0;32mdef\u001b[0m \u001b[0mclose\u001b[0m\u001b[0;34m(\u001b[0m\u001b[0mself\u001b[0m\u001b[0;34m)\u001b[0m \u001b[0;34m->\u001b[0m \u001b[0;32mNone\u001b[0m\u001b[0;34m:\u001b[0m\u001b[0;34m\u001b[0m\u001b[0;34m\u001b[0m\u001b[0m\n",
            "\u001b[0;32m/usr/local/lib/python3.10/dist-packages/pandas/io/parsers/readers.py\u001b[0m in \u001b[0;36m_make_engine\u001b[0;34m(self, f, engine)\u001b[0m\n\u001b[1;32m   1733\u001b[0m                 \u001b[0;32mif\u001b[0m \u001b[0;34m\"b\"\u001b[0m \u001b[0;32mnot\u001b[0m \u001b[0;32min\u001b[0m \u001b[0mmode\u001b[0m\u001b[0;34m:\u001b[0m\u001b[0;34m\u001b[0m\u001b[0;34m\u001b[0m\u001b[0m\n\u001b[1;32m   1734\u001b[0m                     \u001b[0mmode\u001b[0m \u001b[0;34m+=\u001b[0m \u001b[0;34m\"b\"\u001b[0m\u001b[0;34m\u001b[0m\u001b[0;34m\u001b[0m\u001b[0m\n\u001b[0;32m-> 1735\u001b[0;31m             self.handles = get_handle(\n\u001b[0m\u001b[1;32m   1736\u001b[0m                 \u001b[0mf\u001b[0m\u001b[0;34m,\u001b[0m\u001b[0;34m\u001b[0m\u001b[0;34m\u001b[0m\u001b[0m\n\u001b[1;32m   1737\u001b[0m                 \u001b[0mmode\u001b[0m\u001b[0;34m,\u001b[0m\u001b[0;34m\u001b[0m\u001b[0;34m\u001b[0m\u001b[0m\n",
            "\u001b[0;32m/usr/local/lib/python3.10/dist-packages/pandas/io/common.py\u001b[0m in \u001b[0;36mget_handle\u001b[0;34m(path_or_buf, mode, encoding, compression, memory_map, is_text, errors, storage_options)\u001b[0m\n\u001b[1;32m    854\u001b[0m         \u001b[0;32mif\u001b[0m \u001b[0mioargs\u001b[0m\u001b[0;34m.\u001b[0m\u001b[0mencoding\u001b[0m \u001b[0;32mand\u001b[0m \u001b[0;34m\"b\"\u001b[0m \u001b[0;32mnot\u001b[0m \u001b[0;32min\u001b[0m \u001b[0mioargs\u001b[0m\u001b[0;34m.\u001b[0m\u001b[0mmode\u001b[0m\u001b[0;34m:\u001b[0m\u001b[0;34m\u001b[0m\u001b[0;34m\u001b[0m\u001b[0m\n\u001b[1;32m    855\u001b[0m             \u001b[0;31m# Encoding\u001b[0m\u001b[0;34m\u001b[0m\u001b[0;34m\u001b[0m\u001b[0m\n\u001b[0;32m--> 856\u001b[0;31m             handle = open(\n\u001b[0m\u001b[1;32m    857\u001b[0m                 \u001b[0mhandle\u001b[0m\u001b[0;34m,\u001b[0m\u001b[0;34m\u001b[0m\u001b[0;34m\u001b[0m\u001b[0m\n\u001b[1;32m    858\u001b[0m                 \u001b[0mioargs\u001b[0m\u001b[0;34m.\u001b[0m\u001b[0mmode\u001b[0m\u001b[0;34m,\u001b[0m\u001b[0;34m\u001b[0m\u001b[0;34m\u001b[0m\u001b[0m\n",
            "\u001b[0;31mFileNotFoundError\u001b[0m: [Errno 2] No such file or directory: '/content/faces_data/train.csv'"
          ]
        }
      ]
    },
    {
      "cell_type": "code",
      "source": [
        "w"
      ],
      "metadata": {
        "id": "MEa6kAkOG8EB"
      },
      "execution_count": null,
      "outputs": []
    },
    {
      "cell_type": "code",
      "source": [
        "# We can see that there are more attributes than images so we will remove the attributes we dont need\n",
        "data.sort_values(by=\"ID\")\n",
        "data = data.head(len(images))\n",
        "\n",
        "print(data.shape[0])\n",
        "print(len(images))"
<<<<<<< HEAD
      ]
    },
    {
      "cell_type": "code",
      "execution_count": 129,
      "metadata": {},
      "outputs": [
        {
          "data": {
            "text/html": [
              "<div>\n",
              "<style scoped>\n",
              "    .dataframe tbody tr th:only-of-type {\n",
              "        vertical-align: middle;\n",
              "    }\n",
              "\n",
              "    .dataframe tbody tr th {\n",
              "        vertical-align: top;\n",
              "    }\n",
              "\n",
              "    .dataframe thead th {\n",
              "        text-align: right;\n",
              "    }\n",
              "</style>\n",
              "<table border=\"1\" class=\"dataframe\">\n",
              "  <thead>\n",
              "    <tr style=\"text-align: right;\">\n",
              "      <th></th>\n",
              "      <th>ID</th>\n",
              "      <th>Class</th>\n",
              "    </tr>\n",
              "  </thead>\n",
              "  <tbody>\n",
              "    <tr>\n",
              "      <th>0</th>\n",
              "      <td>377.jpg</td>\n",
              "      <td>MIDDLE</td>\n",
              "    </tr>\n",
              "    <tr>\n",
              "      <th>1</th>\n",
              "      <td>17814.jpg</td>\n",
              "      <td>YOUNG</td>\n",
              "    </tr>\n",
              "    <tr>\n",
              "      <th>2</th>\n",
              "      <td>21283.jpg</td>\n",
              "      <td>MIDDLE</td>\n",
              "    </tr>\n",
              "    <tr>\n",
              "      <th>3</th>\n",
              "      <td>16496.jpg</td>\n",
              "      <td>YOUNG</td>\n",
              "    </tr>\n",
              "    <tr>\n",
              "      <th>4</th>\n",
              "      <td>4487.jpg</td>\n",
              "      <td>MIDDLE</td>\n",
              "    </tr>\n",
              "  </tbody>\n",
              "</table>\n",
              "</div>"
            ],
            "text/plain": [
              "          ID   Class\n",
              "0    377.jpg  MIDDLE\n",
              "1  17814.jpg   YOUNG\n",
              "2  21283.jpg  MIDDLE\n",
              "3  16496.jpg   YOUNG\n",
              "4   4487.jpg  MIDDLE"
            ]
          },
          "execution_count": 129,
          "metadata": {},
          "output_type": "execute_result"
        }
      ],
      "source": [
        "# Read the csv file to check out the attributes\n",
        "data.head()"
      ]
    },
    {
      "cell_type": "code",
      "execution_count": 130,
      "metadata": {},
      "outputs": [
        {
          "data": {
            "text/html": [
              "<div>\n",
              "<style scoped>\n",
              "    .dataframe tbody tr th:only-of-type {\n",
              "        vertical-align: middle;\n",
              "    }\n",
              "\n",
              "    .dataframe tbody tr th {\n",
              "        vertical-align: top;\n",
              "    }\n",
              "\n",
              "    .dataframe thead th {\n",
              "        text-align: right;\n",
              "    }\n",
              "</style>\n",
              "<table border=\"1\" class=\"dataframe\">\n",
              "  <thead>\n",
              "    <tr style=\"text-align: right;\">\n",
              "      <th></th>\n",
              "      <th>ID</th>\n",
              "      <th>Class</th>\n",
              "    </tr>\n",
              "  </thead>\n",
              "  <tbody>\n",
              "    <tr>\n",
              "      <th>count</th>\n",
              "      <td>19906</td>\n",
              "      <td>19906</td>\n",
              "    </tr>\n",
              "    <tr>\n",
              "      <th>unique</th>\n",
              "      <td>19906</td>\n",
              "      <td>3</td>\n",
              "    </tr>\n",
              "    <tr>\n",
              "      <th>top</th>\n",
              "      <td>377.jpg</td>\n",
              "      <td>MIDDLE</td>\n",
              "    </tr>\n",
              "    <tr>\n",
              "      <th>freq</th>\n",
              "      <td>1</td>\n",
              "      <td>10804</td>\n",
              "    </tr>\n",
              "  </tbody>\n",
              "</table>\n",
              "</div>"
            ],
            "text/plain": [
              "             ID   Class\n",
              "count     19906   19906\n",
              "unique    19906       3\n",
              "top     377.jpg  MIDDLE\n",
              "freq          1   10804"
            ]
          },
          "execution_count": 130,
          "metadata": {},
          "output_type": "execute_result"
        }
      ],
      "source": [
        "data.describe()"
      ]
    },
    {
      "cell_type": "code",
      "execution_count": 131,
      "metadata": {},
      "outputs": [
        {
          "data": {
            "image/png": "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",
            "text/plain": [
              "<Figure size 640x480 with 1 Axes>"
            ]
          },
          "metadata": {},
          "output_type": "display_data"
        }
      ],
      "source": [
        "# Check how many of each attribute class their is \n",
        "groupedvalues = data.groupby('Class').count()\n",
        "g = sns.barplot(x='Class', y='ID', data=groupedvalues)"
      ]
    },
    {
      "cell_type": "code",
      "execution_count": 132,
      "metadata": {},
      "outputs": [
        {
          "name": "stderr",
          "output_type": "stream",
          "text": [
            "/var/folders/96/h_yr16s542x1fmd1pbxnrzp00000gn/T/ipykernel_82335/3062267112.py:2: FutureWarning: Downcasting behavior in `replace` is deprecated and will be removed in a future version. To retain the old behavior, explicitly call `result.infer_objects(copy=False)`. To opt-in to the future behavior, set `pd.set_option('future.no_silent_downcasting', True)`\n",
            "  data['Class'].replace(['YOUNG','MIDDLE','OLD'],[0,1,2],inplace=True)\n"
          ]
        },
        {
          "data": {
            "text/html": [
              "<div>\n",
              "<style scoped>\n",
              "    .dataframe tbody tr th:only-of-type {\n",
              "        vertical-align: middle;\n",
              "    }\n",
              "\n",
              "    .dataframe tbody tr th {\n",
              "        vertical-align: top;\n",
              "    }\n",
              "\n",
              "    .dataframe thead th {\n",
              "        text-align: right;\n",
              "    }\n",
              "</style>\n",
              "<table border=\"1\" class=\"dataframe\">\n",
              "  <thead>\n",
              "    <tr style=\"text-align: right;\">\n",
              "      <th></th>\n",
              "      <th>ID</th>\n",
              "      <th>Class</th>\n",
              "    </tr>\n",
              "  </thead>\n",
              "  <tbody>\n",
              "    <tr>\n",
              "      <th>0</th>\n",
              "      <td>377.jpg</td>\n",
              "      <td>1</td>\n",
              "    </tr>\n",
              "    <tr>\n",
              "      <th>1</th>\n",
              "      <td>17814.jpg</td>\n",
              "      <td>0</td>\n",
              "    </tr>\n",
              "    <tr>\n",
              "      <th>2</th>\n",
              "      <td>21283.jpg</td>\n",
              "      <td>1</td>\n",
              "    </tr>\n",
              "    <tr>\n",
              "      <th>3</th>\n",
              "      <td>16496.jpg</td>\n",
              "      <td>0</td>\n",
              "    </tr>\n",
              "    <tr>\n",
              "      <th>4</th>\n",
              "      <td>4487.jpg</td>\n",
              "      <td>1</td>\n",
              "    </tr>\n",
              "  </tbody>\n",
              "</table>\n",
              "</div>"
            ],
            "text/plain": [
              "          ID  Class\n",
              "0    377.jpg      1\n",
              "1  17814.jpg      0\n",
              "2  21283.jpg      1\n",
              "3  16496.jpg      0\n",
              "4   4487.jpg      1"
            ]
          },
          "execution_count": 132,
          "metadata": {},
          "output_type": "execute_result"
        }
      ],
=======
      ],
      "metadata": {
        "id": "D8SpQEbjGiKx"
      },
      "execution_count": null,
      "outputs": []
    },
    {
      "cell_type": "code",
>>>>>>> 3362e4c59dfc35850af9ca3308309545264c65ec
      "source": [
        "# Now we will check how many images with each attriute there is\n",
        "data['Class'].unique()"
      ],
      "metadata": {
        "id": "Ky6_ImtfHt6z"
      },
      "execution_count": null,
      "outputs": []
    },
    {
      "cell_type": "code",
      "source": [
        "# We check the different values for the Class\n",
        "print(data['Class'].unique())\n",
        "\n",
        "# Replace the Class values with a number\n",
        "data['Class'].replace(['YOUNG','MIDDLE','OLD'],[0,1,2],inplace=True)\n",
        "data.sample(frac=1);\n",
        "\n",
        "# We wawdnt to make sure that the order of image classes is random\n",
        "data.head()"
      ],
      "metadata": {
        "id": "2ios1caWT6y8"
      },
      "execution_count": null,
      "outputs": []
    },
    {
      "cell_type": "code",
      "source": [
        "img = mpimg.imread('/content/faces_data/images/1.jpg')\n",
        "imgplot = plt.imshow(img)\n",
        "plt.show()"
      ],
      "metadata": {
        "id": "gyTG2QhwEPxd"
      },
      "execution_count": null,
      "outputs": []
    },
    {
      "cell_type": "code",
<<<<<<< HEAD
      "execution_count": 133,
      "metadata": {},
      "outputs": [],
=======
>>>>>>> 3362e4c59dfc35850af9ca3308309545264c65ec
      "source": [
        "# Function to read the image an reformat it so all images are the same size and type\n",
        "def readAndFormatImage(path):\n",
        "      img = tf.io.read_file(path)\n",
        "      img = tf.image.decode_jpeg(img, channels=3)\n",
        "      img = tf.image.convert_image_dtype(img, dtype=tf.float32)\n",
        "      img = tf.image.resize(img, (150, 150))\n",
        "      return img"
      ],
      "metadata": {
        "id": "9E8deMg5XS00"
      },
      "execution_count": null,
      "outputs": []
    },
    {
      "cell_type": "code",
<<<<<<< HEAD
      "execution_count": 134,
      "metadata": {},
      "outputs": [],
=======
>>>>>>> 3362e4c59dfc35850af9ca3308309545264c65ec
      "source": [
        "# function to load the data that includes images and respective labels\n",
        "def load_data(image_path, label):\n",
        "    img = readAndFormatImage(image_path)\n",
        "    return (img, label)"
      ],
      "metadata": {
        "id": "BazdwxQhYq-H"
      },
      "execution_count": null,
      "outputs": []
    },
    {
      "cell_type": "code",
<<<<<<< HEAD
      "execution_count": 135,
      "metadata": {},
      "outputs": [
        {
          "name": "stdout",
          "output_type": "stream",
          "text": [
            "19906\n",
            "19906\n"
          ]
        }
      ],
=======
>>>>>>> 3362e4c59dfc35850af9ca3308309545264c65ec
      "source": [
        "# built the list of image paths and list of respective responses of the images\n",
        "PATH = \"/content/faces_data/images\"\n",
        "image_paths = []\n",
        "for path in os.listdir(PATH):\n",
        "    image_paths.append(PATH+\"/\"+path)\n",
        "print(len(image_paths))\n",
        "\n",
        "response_list = []\n",
        "\n",
        "for i in image_paths:\n",
        "    _,tail = os.path.split(i)\n",
        "    data.loc\n",
        "    response = data.loc[data['ID'] == tail]['Class'].values[0]\n",
        "    response_list.append(response)\n",
        "print(len(response_list))"
      ],
      "metadata": {
        "id": "MF4dNDgkaCIp"
      },
      "execution_count": null,
      "outputs": []
    },
    {
      "cell_type": "code",
<<<<<<< HEAD
      "execution_count": 142,
      "metadata": {},
      "outputs": [
        {
          "name": "stdout",
          "output_type": "stream",
          "text": [
            "17915\n"
          ]
        }
      ],
=======
>>>>>>> 3362e4c59dfc35850af9ca3308309545264c65ec
      "source": [
        "# split the dataset into train and test dataset\n",
        "train_size = int(0.9*(len(image_paths)))\n",
        "print(train_size)\n",
        "test_size = int(0.1*(len(image_paths)))\n",
        "\n",
        "train_set = tf.data.Dataset.from_tensor_slices((image_paths[:train_size], response_list[:train_size]))\n",
        "test_set = tf.data.Dataset.from_tensor_slices((image_paths[test_size:], response_list[test_size:]))"
      ],
      "metadata": {
        "id": "gHN-RxYoaUZb"
      },
      "execution_count": null,
      "outputs": []
    },
    {
      "cell_type": "code",
<<<<<<< HEAD
      "execution_count": 143,
      "metadata": {},
      "outputs": [],
=======
>>>>>>> 3362e4c59dfc35850af9ca3308309545264c65ec
      "source": [
        "train_set = (train_set\n",
        "    .map(load_data, num_parallel_calls=tf.data.AUTOTUNE)\n",
        "    .batch(64)\n",
        "    .prefetch(tf.data.AUTOTUNE)\n",
        ")\n",
        "\n",
        "test_set = (test_set\n",
        "    .map(load_data, num_parallel_calls=tf.data.AUTOTUNE)\n",
        "    .batch(64)\n",
        "    .prefetch(tf.data.AUTOTUNE)\n",
        ")"
      ],
      "metadata": {
        "id": "0bBv95ywaZM7"
      },
      "execution_count": null,
      "outputs": []
    },
    {
      "cell_type": "markdown",
      "source": [
        "##Training and fine-tuning of a model"
      ],
      "metadata": {
        "id": "gvDpNWpUCPfl"
      }
    },
    {
      "cell_type": "code",
<<<<<<< HEAD
      "execution_count": 156,
      "metadata": {},
      "outputs": [],
=======
>>>>>>> 3362e4c59dfc35850af9ca3308309545264c65ec
      "source": [
        "# build the layers of CNN model\n",
        "from tensorflow.keras import layers,models\n",
        "\n",
        "cnn_model = models.Sequential([\n",
        "    layers.Conv2D(filters=30, kernel_size=(3, 3), activation='relu', input_shape=(150, 150, 3), padding = 'same'),\n",
        "    layers.MaxPooling2D((2, 2)),\n",
        "    \n",
        "    # layers.BatchNormalization(),\n",
        "\n",
        "    layers.Conv2D(filters=64, kernel_size=(3, 3), activation='relu', padding = 'same'),\n",
        "    layers.MaxPooling2D((2, 2)),\n",
        "\n",
        "    # layers.BatchNormalization(),\n",
        "    \n",
        "    # layers.Conv2D(filters=128, kernel_size=(3, 3), activation='relu', padding = 'same'),\n",
        "    # layers.MaxPooling2D((2, 2)),\n",
        "    \n",
        "    layers.Flatten(),\n",
        "    layers.Dense(64, activation='relu'),\n",
        "    # layers.Dropout(0.25),\n",
        "    layers.Dense(3, activation='softmax')\n",
        "])"
      ],
      "metadata": {
        "id": "in87pkjfaefG"
      },
      "execution_count": null,
      "outputs": []
    },
    {
      "cell_type": "code",
<<<<<<< HEAD
      "execution_count": 157,
      "metadata": {},
      "outputs": [
        {
          "data": {
            "text/html": [
              "<pre style=\"white-space:pre;overflow-x:auto;line-height:normal;font-family:Menlo,'DejaVu Sans Mono',consolas,'Courier New',monospace\"><span style=\"font-weight: bold\">Model: \"sequential_13\"</span>\n",
              "</pre>\n"
            ],
            "text/plain": [
              "\u001b[1mModel: \"sequential_13\"\u001b[0m\n"
            ]
          },
          "metadata": {},
          "output_type": "display_data"
        },
        {
          "data": {
            "text/html": [
              "<pre style=\"white-space:pre;overflow-x:auto;line-height:normal;font-family:Menlo,'DejaVu Sans Mono',consolas,'Courier New',monospace\">┏━━━━━━━━━━━━━━━━━━━━━━━━━━━━━━━━━┳━━━━━━━━━━━━━━━━━━━━━━━━┳━━━━━━━━━━━━━━━┓\n",
              "┃<span style=\"font-weight: bold\"> Layer (type)                    </span>┃<span style=\"font-weight: bold\"> Output Shape           </span>┃<span style=\"font-weight: bold\">       Param # </span>┃\n",
              "┡━━━━━━━━━━━━━━━━━━━━━━━━━━━━━━━━━╇━━━━━━━━━━━━━━━━━━━━━━━━╇━━━━━━━━━━━━━━━┩\n",
              "│ conv2d_66 (<span style=\"color: #0087ff; text-decoration-color: #0087ff\">Conv2D</span>)              │ (<span style=\"color: #00d7ff; text-decoration-color: #00d7ff\">None</span>, <span style=\"color: #00af00; text-decoration-color: #00af00\">150</span>, <span style=\"color: #00af00; text-decoration-color: #00af00\">150</span>, <span style=\"color: #00af00; text-decoration-color: #00af00\">30</span>)   │           <span style=\"color: #00af00; text-decoration-color: #00af00\">840</span> │\n",
              "├─────────────────────────────────┼────────────────────────┼───────────────┤\n",
              "│ max_pooling2d_41 (<span style=\"color: #0087ff; text-decoration-color: #0087ff\">MaxPooling2D</span>) │ (<span style=\"color: #00d7ff; text-decoration-color: #00d7ff\">None</span>, <span style=\"color: #00af00; text-decoration-color: #00af00\">75</span>, <span style=\"color: #00af00; text-decoration-color: #00af00\">75</span>, <span style=\"color: #00af00; text-decoration-color: #00af00\">30</span>)     │             <span style=\"color: #00af00; text-decoration-color: #00af00\">0</span> │\n",
              "├─────────────────────────────────┼────────────────────────┼───────────────┤\n",
              "│ conv2d_67 (<span style=\"color: #0087ff; text-decoration-color: #0087ff\">Conv2D</span>)              │ (<span style=\"color: #00d7ff; text-decoration-color: #00d7ff\">None</span>, <span style=\"color: #00af00; text-decoration-color: #00af00\">75</span>, <span style=\"color: #00af00; text-decoration-color: #00af00\">75</span>, <span style=\"color: #00af00; text-decoration-color: #00af00\">64</span>)     │        <span style=\"color: #00af00; text-decoration-color: #00af00\">17,344</span> │\n",
              "├─────────────────────────────────┼────────────────────────┼───────────────┤\n",
              "│ max_pooling2d_42 (<span style=\"color: #0087ff; text-decoration-color: #0087ff\">MaxPooling2D</span>) │ (<span style=\"color: #00d7ff; text-decoration-color: #00d7ff\">None</span>, <span style=\"color: #00af00; text-decoration-color: #00af00\">37</span>, <span style=\"color: #00af00; text-decoration-color: #00af00\">37</span>, <span style=\"color: #00af00; text-decoration-color: #00af00\">64</span>)     │             <span style=\"color: #00af00; text-decoration-color: #00af00\">0</span> │\n",
              "├─────────────────────────────────┼────────────────────────┼───────────────┤\n",
              "│ flatten_13 (<span style=\"color: #0087ff; text-decoration-color: #0087ff\">Flatten</span>)            │ (<span style=\"color: #00d7ff; text-decoration-color: #00d7ff\">None</span>, <span style=\"color: #00af00; text-decoration-color: #00af00\">87616</span>)          │             <span style=\"color: #00af00; text-decoration-color: #00af00\">0</span> │\n",
              "├─────────────────────────────────┼────────────────────────┼───────────────┤\n",
              "│ dense_38 (<span style=\"color: #0087ff; text-decoration-color: #0087ff\">Dense</span>)                │ (<span style=\"color: #00d7ff; text-decoration-color: #00d7ff\">None</span>, <span style=\"color: #00af00; text-decoration-color: #00af00\">64</span>)             │     <span style=\"color: #00af00; text-decoration-color: #00af00\">5,607,488</span> │\n",
              "├─────────────────────────────────┼────────────────────────┼───────────────┤\n",
              "│ dense_39 (<span style=\"color: #0087ff; text-decoration-color: #0087ff\">Dense</span>)                │ (<span style=\"color: #00d7ff; text-decoration-color: #00d7ff\">None</span>, <span style=\"color: #00af00; text-decoration-color: #00af00\">3</span>)              │           <span style=\"color: #00af00; text-decoration-color: #00af00\">195</span> │\n",
              "└─────────────────────────────────┴────────────────────────┴───────────────┘\n",
              "</pre>\n"
            ],
            "text/plain": [
              "┏━━━━━━━━━━━━━━━━━━━━━━━━━━━━━━━━━┳━━━━━━━━━━━━━━━━━━━━━━━━┳━━━━━━━━━━━━━━━┓\n",
              "┃\u001b[1m \u001b[0m\u001b[1mLayer (type)                   \u001b[0m\u001b[1m \u001b[0m┃\u001b[1m \u001b[0m\u001b[1mOutput Shape          \u001b[0m\u001b[1m \u001b[0m┃\u001b[1m \u001b[0m\u001b[1m      Param #\u001b[0m\u001b[1m \u001b[0m┃\n",
              "┡━━━━━━━━━━━━━━━━━━━━━━━━━━━━━━━━━╇━━━━━━━━━━━━━━━━━━━━━━━━╇━━━━━━━━━━━━━━━┩\n",
              "│ conv2d_66 (\u001b[38;5;33mConv2D\u001b[0m)              │ (\u001b[38;5;45mNone\u001b[0m, \u001b[38;5;34m150\u001b[0m, \u001b[38;5;34m150\u001b[0m, \u001b[38;5;34m30\u001b[0m)   │           \u001b[38;5;34m840\u001b[0m │\n",
              "├─────────────────────────────────┼────────────────────────┼───────────────┤\n",
              "│ max_pooling2d_41 (\u001b[38;5;33mMaxPooling2D\u001b[0m) │ (\u001b[38;5;45mNone\u001b[0m, \u001b[38;5;34m75\u001b[0m, \u001b[38;5;34m75\u001b[0m, \u001b[38;5;34m30\u001b[0m)     │             \u001b[38;5;34m0\u001b[0m │\n",
              "├─────────────────────────────────┼────────────────────────┼───────────────┤\n",
              "│ conv2d_67 (\u001b[38;5;33mConv2D\u001b[0m)              │ (\u001b[38;5;45mNone\u001b[0m, \u001b[38;5;34m75\u001b[0m, \u001b[38;5;34m75\u001b[0m, \u001b[38;5;34m64\u001b[0m)     │        \u001b[38;5;34m17,344\u001b[0m │\n",
              "├─────────────────────────────────┼────────────────────────┼───────────────┤\n",
              "│ max_pooling2d_42 (\u001b[38;5;33mMaxPooling2D\u001b[0m) │ (\u001b[38;5;45mNone\u001b[0m, \u001b[38;5;34m37\u001b[0m, \u001b[38;5;34m37\u001b[0m, \u001b[38;5;34m64\u001b[0m)     │             \u001b[38;5;34m0\u001b[0m │\n",
              "├─────────────────────────────────┼────────────────────────┼───────────────┤\n",
              "│ flatten_13 (\u001b[38;5;33mFlatten\u001b[0m)            │ (\u001b[38;5;45mNone\u001b[0m, \u001b[38;5;34m87616\u001b[0m)          │             \u001b[38;5;34m0\u001b[0m │\n",
              "├─────────────────────────────────┼────────────────────────┼───────────────┤\n",
              "│ dense_38 (\u001b[38;5;33mDense\u001b[0m)                │ (\u001b[38;5;45mNone\u001b[0m, \u001b[38;5;34m64\u001b[0m)             │     \u001b[38;5;34m5,607,488\u001b[0m │\n",
              "├─────────────────────────────────┼────────────────────────┼───────────────┤\n",
              "│ dense_39 (\u001b[38;5;33mDense\u001b[0m)                │ (\u001b[38;5;45mNone\u001b[0m, \u001b[38;5;34m3\u001b[0m)              │           \u001b[38;5;34m195\u001b[0m │\n",
              "└─────────────────────────────────┴────────────────────────┴───────────────┘\n"
            ]
          },
          "metadata": {},
          "output_type": "display_data"
        },
        {
          "data": {
            "text/html": [
              "<pre style=\"white-space:pre;overflow-x:auto;line-height:normal;font-family:Menlo,'DejaVu Sans Mono',consolas,'Courier New',monospace\"><span style=\"font-weight: bold\"> Total params: </span><span style=\"color: #00af00; text-decoration-color: #00af00\">5,625,867</span> (21.46 MB)\n",
              "</pre>\n"
            ],
            "text/plain": [
              "\u001b[1m Total params: \u001b[0m\u001b[38;5;34m5,625,867\u001b[0m (21.46 MB)\n"
            ]
          },
          "metadata": {},
          "output_type": "display_data"
        },
        {
          "data": {
            "text/html": [
              "<pre style=\"white-space:pre;overflow-x:auto;line-height:normal;font-family:Menlo,'DejaVu Sans Mono',consolas,'Courier New',monospace\"><span style=\"font-weight: bold\"> Trainable params: </span><span style=\"color: #00af00; text-decoration-color: #00af00\">5,625,867</span> (21.46 MB)\n",
              "</pre>\n"
            ],
            "text/plain": [
              "\u001b[1m Trainable params: \u001b[0m\u001b[38;5;34m5,625,867\u001b[0m (21.46 MB)\n"
            ]
          },
          "metadata": {},
          "output_type": "display_data"
        },
        {
          "data": {
            "text/html": [
              "<pre style=\"white-space:pre;overflow-x:auto;line-height:normal;font-family:Menlo,'DejaVu Sans Mono',consolas,'Courier New',monospace\"><span style=\"font-weight: bold\"> Non-trainable params: </span><span style=\"color: #00af00; text-decoration-color: #00af00\">0</span> (0.00 B)\n",
              "</pre>\n"
            ],
            "text/plain": [
              "\u001b[1m Non-trainable params: \u001b[0m\u001b[38;5;34m0\u001b[0m (0.00 B)\n"
            ]
          },
          "metadata": {},
          "output_type": "display_data"
=======
      "source": [
        "# view the summary of the cnn model\n",
        "cnn_model.summary()"
      ],
      "metadata": {
        "colab": {
          "base_uri": "https://localhost:8080/"
        },
        "id": "PW_b7W7Oagtv",
        "outputId": "d4b24551-e11d-4cc0-d779-8e613a900785"
      },
      "execution_count": null,
      "outputs": [
        {
          "output_type": "stream",
          "name": "stdout",
          "text": [
            "Model: \"sequential_1\"\n",
            "_________________________________________________________________\n",
            " Layer (type)                Output Shape              Param #   \n",
            "=================================================================\n",
            " conv2d_5 (Conv2D)           (None, 150, 150, 64)      1792      \n",
            "                                                                 \n",
            " max_pooling2d_3 (MaxPoolin  (None, 75, 75, 64)        0         \n",
            " g2D)                                                            \n",
            "                                                                 \n",
            " conv2d_6 (Conv2D)           (None, 75, 75, 128)       73856     \n",
            "                                                                 \n",
            " conv2d_7 (Conv2D)           (None, 75, 75, 128)       147584    \n",
            "                                                                 \n",
            " max_pooling2d_4 (MaxPoolin  (None, 37, 37, 128)       0         \n",
            " g2D)                                                            \n",
            "                                                                 \n",
            " conv2d_8 (Conv2D)           (None, 37, 37, 256)       295168    \n",
            "                                                                 \n",
            " conv2d_9 (Conv2D)           (None, 37, 37, 256)       590080    \n",
            "                                                                 \n",
            " max_pooling2d_5 (MaxPoolin  (None, 18, 18, 256)       0         \n",
            " g2D)                                                            \n",
            "                                                                 \n",
            " flatten_1 (Flatten)         (None, 82944)             0         \n",
            "                                                                 \n",
            " dense_3 (Dense)             (None, 128)               10616960  \n",
            "                                                                 \n",
            " dropout_2 (Dropout)         (None, 128)               0         \n",
            "                                                                 \n",
            " dense_4 (Dense)             (None, 64)                8256      \n",
            "                                                                 \n",
            " dropout_3 (Dropout)         (None, 64)                0         \n",
            "                                                                 \n",
            " dense_5 (Dense)             (None, 10)                650       \n",
            "                                                                 \n",
            "=================================================================\n",
            "Total params: 11734346 (44.76 MB)\n",
            "Trainable params: 11734346 (44.76 MB)\n",
            "Non-trainable params: 0 (0.00 Byte)\n",
            "_________________________________________________________________\n"
          ]
>>>>>>> 3362e4c59dfc35850af9ca3308309545264c65ec
        }
      ]
    },
    {
      "cell_type": "code",
<<<<<<< HEAD
      "execution_count": 158,
      "metadata": {},
      "outputs": [],
=======
>>>>>>> 3362e4c59dfc35850af9ca3308309545264c65ec
      "source": [
        "# compile the model\n",
        "cnn_model.compile(optimizer='adam',\n",
        "              loss='sparse_categorical_crossentropy',\n",
        "              metrics=['accuracy'])"
      ],
      "metadata": {
        "id": "QoWVppQNai6g"
      },
      "execution_count": null,
      "outputs": []
    },
    {
      "cell_type": "code",
<<<<<<< HEAD
      "execution_count": 159,
      "metadata": {},
      "outputs": [
        {
          "name": "stdout",
          "output_type": "stream",
          "text": [
            "Epoch 1/10\n",
            "\u001b[1m280/280\u001b[0m \u001b[32m━━━━━━━━━━━━━━━━━━━━\u001b[0m\u001b[37m\u001b[0m \u001b[1m99s\u001b[0m 349ms/step - accuracy: 0.5702 - loss: 1.0265 - val_accuracy: 0.6738 - val_loss: 0.7391\n",
            "Epoch 2/10\n",
            "\u001b[1m280/280\u001b[0m \u001b[32m━━━━━━━━━━━━━━━━━━━━\u001b[0m\u001b[37m\u001b[0m \u001b[1m94s\u001b[0m 334ms/step - accuracy: 0.6880 - loss: 0.7202 - val_accuracy: 0.6970 - val_loss: 0.6819\n",
            "Epoch 3/10\n",
            "\u001b[1m280/280\u001b[0m \u001b[32m━━━━━━━━━━━━━━━━━━━━\u001b[0m\u001b[37m\u001b[0m \u001b[1m95s\u001b[0m 341ms/step - accuracy: 0.7251 - loss: 0.6409 - val_accuracy: 0.7375 - val_loss: 0.6002\n",
            "Epoch 4/10\n",
            "\u001b[1m280/280\u001b[0m \u001b[32m━━━━━━━━━━━━━━━━━━━━\u001b[0m\u001b[37m\u001b[0m \u001b[1m99s\u001b[0m 353ms/step - accuracy: 0.7591 - loss: 0.5681 - val_accuracy: 0.7514 - val_loss: 0.5885\n",
            "Epoch 5/10\n",
            "\u001b[1m280/280\u001b[0m \u001b[32m━━━━━━━━━━━━━━━━━━━━\u001b[0m\u001b[37m\u001b[0m \u001b[1m94s\u001b[0m 335ms/step - accuracy: 0.8009 - loss: 0.4931 - val_accuracy: 0.7950 - val_loss: 0.4986\n",
            "Epoch 6/10\n",
            "\u001b[1m280/280\u001b[0m \u001b[32m━━━━━━━━━━━━━━━━━━━━\u001b[0m\u001b[37m\u001b[0m \u001b[1m96s\u001b[0m 344ms/step - accuracy: 0.8335 - loss: 0.4180 - val_accuracy: 0.8258 - val_loss: 0.4323\n",
            "Epoch 7/10\n",
            "\u001b[1m280/280\u001b[0m \u001b[32m━━━━━━━━━━━━━━━━━━━━\u001b[0m\u001b[37m\u001b[0m \u001b[1m91s\u001b[0m 325ms/step - accuracy: 0.8579 - loss: 0.3580 - val_accuracy: 0.8473 - val_loss: 0.3946\n",
            "Epoch 8/10\n",
            "\u001b[1m280/280\u001b[0m \u001b[32m━━━━━━━━━━━━━━━━━━━━\u001b[0m\u001b[37m\u001b[0m \u001b[1m91s\u001b[0m 326ms/step - accuracy: 0.8749 - loss: 0.3161 - val_accuracy: 0.8615 - val_loss: 0.3688\n",
            "Epoch 9/10\n",
            "\u001b[1m280/280\u001b[0m \u001b[32m━━━━━━━━━━━━━━━━━━━━\u001b[0m\u001b[37m\u001b[0m \u001b[1m91s\u001b[0m 325ms/step - accuracy: 0.8950 - loss: 0.2712 - val_accuracy: 0.8557 - val_loss: 0.4018\n",
            "Epoch 10/10\n",
            "\u001b[1m280/280\u001b[0m \u001b[32m━━━━━━━━━━━━━━━━━━━━\u001b[0m\u001b[37m\u001b[0m \u001b[1m95s\u001b[0m 339ms/step - accuracy: 0.9156 - loss: 0.2233 - val_accuracy: 0.8578 - val_loss: 0.4035\n"
          ]
        },
        {
          "data": {
            "text/plain": [
              "<keras.src.callbacks.history.History at 0x28807a910>"
            ]
          },
          "execution_count": 159,
          "metadata": {},
          "output_type": "execute_result"
        }
      ],
=======
>>>>>>> 3362e4c59dfc35850af9ca3308309545264c65ec
      "source": [
        "# train the model\n",
        "cnn_model.fit(train_set, epochs=10, validation_data=test_set)"
      ],
      "metadata": {
        "id": "5B0tf-20alXh",
        "colab": {
          "base_uri": "https://localhost:8080/"
        },
        "outputId": "7a3f839e-8546-4616-bd8e-4b1a4007938f"
      },
      "execution_count": null,
      "outputs": [
        {
          "output_type": "stream",
          "name": "stdout",
          "text": [
            "Epoch 1/10\n",
            "5/5 [==============================] - 160s 34s/step - loss: 2.1804 - accuracy: 0.2326 - val_loss: 1.3323 - val_accuracy: 0.5347\n",
            "Epoch 2/10\n",
            "5/5 [==============================] - 141s 30s/step - loss: 1.7760 - accuracy: 0.4097 - val_loss: 1.2459 - val_accuracy: 0.5347\n",
            "Epoch 3/10\n",
            "5/5 [==============================] - 143s 30s/step - loss: 1.6010 - accuracy: 0.4410 - val_loss: 1.2888 - val_accuracy: 0.5347\n",
            "Epoch 4/10\n",
            "5/5 [==============================] - 142s 30s/step - loss: 1.6505 - accuracy: 0.3785 - val_loss: 1.2203 - val_accuracy: 0.5347\n",
            "Epoch 5/10\n",
            "5/5 [==============================] - 139s 30s/step - loss: 1.4498 - accuracy: 0.4479 - val_loss: 1.1309 - val_accuracy: 0.5347\n",
            "Epoch 6/10\n",
            "5/5 [==============================] - 140s 29s/step - loss: 1.4674 - accuracy: 0.4306 - val_loss: 1.1361 - val_accuracy: 0.5347\n",
            "Epoch 7/10\n",
            "5/5 [==============================] - 140s 30s/step - loss: 1.4028 - accuracy: 0.4514 - val_loss: 1.1221 - val_accuracy: 0.5347\n",
            "Epoch 8/10\n",
            "5/5 [==============================] - 138s 29s/step - loss: 1.3149 - accuracy: 0.4861 - val_loss: 1.0528 - val_accuracy: 0.5347\n",
            "Epoch 9/10\n",
            "2/5 [===========>..................] - ETA: 1:05 - loss: 1.3891 - accuracy: 0.4531"
          ]
        }
      ]
    },
    {
      "cell_type": "markdown",
      "source": [
        "##Evaluation of the model"
      ],
      "metadata": {
        "id": "srqWxKtKCbkJ"
      }
    },
    {
      "cell_type": "code",
<<<<<<< HEAD
      "execution_count": 160,
=======
      "source": [
        "cnn_model.evaluate(train_set)"
      ],
>>>>>>> 3362e4c59dfc35850af9ca3308309545264c65ec
      "metadata": {
        "id": "CwbdzcStaoN0",
        "colab": {
          "base_uri": "https://localhost:8080/"
        },
        "outputId": "1d7b1afb-de91-46ef-955f-a061385f1788"
      },
      "execution_count": null,
      "outputs": [
        {
          "output_type": "stream",
          "name": "stdout",
          "text": [
<<<<<<< HEAD
            "\u001b[1m280/280\u001b[0m \u001b[32m━━━━━━━━━━━━━━━━━━━━\u001b[0m\u001b[37m\u001b[0m \u001b[1m20s\u001b[0m 72ms/step - accuracy: 0.8747 - loss: 0.3208\n"
=======
            "5/5 [==============================] - 51s 10s/step - loss: 1.0614 - accuracy: 0.5069\n"
>>>>>>> 3362e4c59dfc35850af9ca3308309545264c65ec
          ]
        },
        {
          "output_type": "execute_result",
          "data": {
            "text/plain": [
<<<<<<< HEAD
              "[0.4034533202648163, 0.8578365445137024]"
            ]
          },
          "execution_count": 160,
=======
              "[1.0613808631896973, 0.5069444179534912]"
            ]
          },
>>>>>>> 3362e4c59dfc35850af9ca3308309545264c65ec
          "metadata": {},
          "execution_count": 35
        }
      ]
    },
    {
      "cell_type": "code",
      "source": [
        "# test accuracy\n",
        "cnn_model.evaluate(test_set)"
      ],
      "metadata": {
        "id": "s2LUyPmGarCE",
        "colab": {
          "base_uri": "https://localhost:8080/"
        },
        "outputId": "c8192273-05c6-4066-8adf-0d1539378048"
      },
      "execution_count": null,
      "outputs": [
        {
          "output_type": "stream",
          "name": "stdout",
          "text": [
            "5/5 [==============================] - 30s 6s/step - loss: 1.0223 - accuracy: 0.5347\n"
          ]
        },
        {
          "output_type": "execute_result",
          "data": {
            "text/plain": [
              "[1.02229905128479, 0.5347222089767456]"
            ]
          },
          "metadata": {},
          "execution_count": 36
        }
      ]
    },
    {
      "cell_type": "code",
<<<<<<< HEAD
      "execution_count": 161,
      "metadata": {
        "id": "DPw0ldeKatMH"
      },
      "outputs": [
        {
          "name": "stdout",
          "output_type": "stream",
          "text": [
            "\u001b[1m280/280\u001b[0m \u001b[32m━━━━━━━━━━━━━━━━━━━━\u001b[0m\u001b[37m\u001b[0m \u001b[1m21s\u001b[0m 74ms/step\n"
          ]
        }
      ],
=======
>>>>>>> 3362e4c59dfc35850af9ca3308309545264c65ec
      "source": [
        "test_pred = cnn_model.predict(test_set)"
      ],
      "metadata": {
        "id": "DPw0ldeKatMH",
        "colab": {
          "base_uri": "https://localhost:8080/"
        },
        "outputId": "07a30119-4d88-4d37-b0a1-cb1f657b46af"
      },
      "execution_count": null,
      "outputs": [
        {
          "output_type": "stream",
          "name": "stdout",
          "text": [
            "5/5 [==============================] - 29s 6s/step\n"
          ]
        }
      ]
    },
    {
      "cell_type": "code",
<<<<<<< HEAD
      "execution_count": 178,
      "metadata": {
        "id": "SwMDTUHEaw2a"
      },
      "outputs": [
        {
          "name": "stdout",
          "output_type": "stream",
          "text": [
            "Test Predictions response sample: [1, 2, 0, 2, 0, 1, 0, 1, 1, 2]\n",
            "Test True response sample: [0, 1, 0, 2, 0, 1, 0, 1, 1, 2]\n"
          ]
        }
      ],
=======
>>>>>>> 3362e4c59dfc35850af9ca3308309545264c65ec
      "source": [
        "y_labels = [np.argmax(item) for item in test_pred]\n",
        "print(\"Test Predictions response sample:\",y_labels[:10])\n",
        "\n",
        "test_response = response_list[test_size:]\n",
<<<<<<< HEAD
        "print(\"Test True response sample:\", test_response[:10])\n"
      ]
    },
    {
      "cell_type": "code",
      "execution_count": 199,
      "metadata": {},
      "outputs": [
        {
          "data": {
            "image/png": "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",
            "text/plain": [
              "<Figure size 640x480 with 1 Axes>"
            ]
          },
          "metadata": {},
          "output_type": "display_data"
        }
      ],
      "source": [
        "\n",
        "Results = y_labels\n",
        "Answers = test_response\n",
        "\n",
        "# Define categories\n",
        "categories = ['YOUNG', 'MIDDLE', 'OLD']\n",
        "\n",
        "# Initialize dictionaries to store counts of correct and total answers for each category\n",
        "correct_counts = {category: 0 for category in categories}\n",
        "total_counts = {category: 0 for category in categories}\n",
        "\n",
        "# Iterate through results and answers to count correct and total answers for each category\n",
        "for result, answer in zip(Results, Answers):\n",
        "    category_result = categories[result]\n",
        "    category_answer = categories[answer]\n",
        "    \n",
        "    total_counts[category_answer] += 1\n",
        "    if result == answer:\n",
        "        correct_counts[category_result] += 1\n",
        "\n",
        "# Calculate the percentage of correct answers for each category\n",
        "percentages = [(correct_counts[category] / total_counts[category]) * 100 for category in categories]\n",
        "\n",
        "# Plotting the bar graph\n",
        "plt.bar(categories, percentages, color='skyblue')\n",
        "\n",
        "# Adding labels and title\n",
        "plt.xlabel('Category')\n",
        "plt.ylabel('Percentage of Correct Answers')\n",
        "plt.title('Percentage of Correct Answers for Each Category')\n",
        "\n",
        "# Show the plot\n",
        "plt.show()"
      ]
    },
    {
      "cell_type": "code",
      "execution_count": null,
      "metadata": {},
      "outputs": [],
      "source": []
    }
  ],
  "metadata": {
    "colab": {
      "collapsed_sections": [
        "m75e4qy9Qpre"
=======
        "print(\"Test True response sample:\", test_response[:10])"
>>>>>>> 3362e4c59dfc35850af9ca3308309545264c65ec
      ],
      "metadata": {
        "id": "SwMDTUHEaw2a",
        "colab": {
          "base_uri": "https://localhost:8080/"
        },
        "outputId": "b491dcdf-da04-4cb2-fc1b-a2a920b554c7"
      },
      "execution_count": null,
      "outputs": [
        {
          "output_type": "stream",
          "name": "stdout",
          "text": [
            "Test Predictions response sample: [1, 1, 1, 1, 1, 1, 1, 1, 1, 1]\n",
            "Test True response sample: [1, 0, 0, 0, 1, 0, 0, 1, 1, 0]\n"
          ]
        }
      ]
    }
  ]
}